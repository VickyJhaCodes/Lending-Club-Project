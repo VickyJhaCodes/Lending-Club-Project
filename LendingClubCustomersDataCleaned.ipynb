{
 "cells": [
  {
   "cell_type": "code",
   "execution_count": 3,
   "id": "b60b6f80",
   "metadata": {},
   "outputs": [],
   "source": [
    "from pyspark.sql import SparkSession\n",
    "import getpass\n",
    "username = getpass.getuser()\n",
    "spark = SparkSession. \\\n",
    "builder. \\\n",
    "config('spark.ui.port','0'). \\\n",
    "config('spark.shuffle.useOldFetchProtocol','true'). \\\n",
    "config(\"spark.sql.warehouse.dir\", f\"/user/itv007136/warehouse\"). \\\n",
    "enableHiveSupport(). \\\n",
    "master('yarn'). \\\n",
    "getOrCreate()"
   ]
  },
  {
   "cell_type": "code",
   "execution_count": 4,
   "id": "c2b2cb93",
   "metadata": {},
   "outputs": [
    {
     "data": {
      "text/html": [
       "\n",
       "            <div>\n",
       "                <p><b>SparkSession - hive</b></p>\n",
       "                \n",
       "        <div>\n",
       "            <p><b>SparkContext</b></p>\n",
       "\n",
       "            <p><a href=\"http://g01.itversity.com:32779\">Spark UI</a></p>\n",
       "\n",
       "            <dl>\n",
       "              <dt>Version</dt>\n",
       "                <dd><code>v3.1.2</code></dd>\n",
       "              <dt>Master</dt>\n",
       "                <dd><code>yarn</code></dd>\n",
       "              <dt>AppName</dt>\n",
       "                <dd><code>pyspark-shell</code></dd>\n",
       "            </dl>\n",
       "        </div>\n",
       "        \n",
       "            </div>\n",
       "        "
      ],
      "text/plain": [
       "<pyspark.sql.session.SparkSession at 0x7fb46ced2940>"
      ]
     },
     "execution_count": 4,
     "metadata": {},
     "output_type": "execute_result"
    }
   ],
   "source": [
    "spark"
   ]
  },
  {
   "cell_type": "code",
   "execution_count": 5,
   "id": "b5567b4c",
   "metadata": {},
   "outputs": [],
   "source": [
    "customers_df=spark.read \\\n",
    ".format(\"csv\") \\\n",
    ".option(\"header\",\"true\") \\\n",
    ".option(\"inferSchema\",\"true\") \\\n",
    ".load(\"/public/trendytech/lendingclubproject/raw/customers_data_csv\")"
   ]
  },
  {
   "cell_type": "code",
   "execution_count": 6,
   "id": "2536cc77",
   "metadata": {},
   "outputs": [
    {
     "data": {
      "text/html": [
       "<table border='1'>\n",
       "<tr><th>member_id</th><th>emp_title</th><th>emp_length</th><th>home_ownership</th><th>annual_inc</th><th>addr_state</th><th>zip_code</th><th>country</th><th>grade</th><th>sub_grade</th><th>verification_status</th><th>tot_hi_cred_lim</th><th>application_type</th><th>annual_inc_joint</th><th>verification_status_joint</th></tr>\n",
       "<tr><td>b59d80da191f5b573...</td><td>null</td><td>null</td><td>RENT</td><td>50000.0</td><td>OR</td><td>973xx</td><td>USA</td><td>A</td><td>A5</td><td>Source Verified</td><td>8600.0</td><td>Individual</td><td>null</td><td>null</td></tr>\n",
       "<tr><td>202d9f56ecb7c3bc9...</td><td>police officer</td><td>7 years</td><td>OWN</td><td>85000.0</td><td>TX</td><td>799xx</td><td>USA</td><td>A</td><td>A5</td><td>Source Verified</td><td>272384.0</td><td>Individual</td><td>null</td><td>null</td></tr>\n",
       "<tr><td>e5a140c0922b554b9...</td><td>community living ...</td><td>6 years</td><td>RENT</td><td>48000.0</td><td>NY</td><td>146xx</td><td>USA</td><td>B</td><td>B2</td><td>Source Verified</td><td>85092.0</td><td>Individual</td><td>null</td><td>null</td></tr>\n",
       "<tr><td>e12aefc548f750777...</td><td>Office</td><td>10+ years</td><td>OWN</td><td>33000.0</td><td>CT</td><td>067xx</td><td>USA</td><td>F</td><td>F1</td><td>Verified</td><td>7100.0</td><td>Individual</td><td>null</td><td>null</td></tr>\n",
       "<tr><td>1b3a50d854fbbf97e...</td><td>Special Tooling I...</td><td>10+ years</td><td>MORTGAGE</td><td>81000.0</td><td>TX</td><td>791xx</td><td>USA</td><td>E</td><td>E5</td><td>Verified</td><td>190274.0</td><td>Individual</td><td>null</td><td>null</td></tr>\n",
       "<tr><td>1c4329e5f17697127...</td><td>Mine ops tech 6</td><td>2 years</td><td>MORTGAGE</td><td>68000.0</td><td>AZ</td><td>855xx</td><td>USA</td><td>C</td><td>C3</td><td>Not Verified</td><td>182453.0</td><td>Individual</td><td>null</td><td>null</td></tr>\n",
       "<tr><td>5026c86ad983175eb...</td><td>caregiver</td><td>4 years</td><td>RENT</td><td>76020.0</td><td>WA</td><td>993xx</td><td>USA</td><td>C</td><td>C2</td><td>Source Verified</td><td>15308.0</td><td>Individual</td><td>null</td><td>null</td></tr>\n",
       "<tr><td>9847d8c1e9d0b2084...</td><td>null</td><td>null</td><td>OWN</td><td>65000.0</td><td>IL</td><td>624xx</td><td>USA</td><td>E</td><td>E3</td><td>Verified</td><td>128800.0</td><td>Individual</td><td>null</td><td>null</td></tr>\n",
       "<tr><td>8340dbe1adea41fb4...</td><td>Vice President Re...</td><td>8 years</td><td>MORTGAGE</td><td>111000.0</td><td>CT</td><td>063xx</td><td>USA</td><td>A</td><td>A1</td><td>Not Verified</td><td>343507.0</td><td>Individual</td><td>null</td><td>null</td></tr>\n",
       "<tr><td>d4de0de3ab7d79ad4...</td><td>FOREMAN</td><td>10+ years</td><td>MORTGAGE</td><td>67000.0</td><td>WA</td><td>992xx</td><td>USA</td><td>G</td><td>G2</td><td>Verified</td><td>211501.0</td><td>Individual</td><td>null</td><td>null</td></tr>\n",
       "<tr><td>3df3cdeddb74a8712...</td><td>Strategist</td><td>1 year</td><td>RENT</td><td>120000.0</td><td>CA</td><td>946xx</td><td>USA</td><td>A</td><td>A5</td><td>Verified</td><td>56844.0</td><td>Individual</td><td>null</td><td>null</td></tr>\n",
       "<tr><td>9dd72636b1b4045b4...</td><td>Office Manager</td><td>2 years</td><td>RENT</td><td>52000.0</td><td>FL</td><td>327xx</td><td>USA</td><td>D</td><td>D1</td><td>Source Verified</td><td>39393.0</td><td>Individual</td><td>null</td><td>null</td></tr>\n",
       "<tr><td>1d4e1ef4353b73c00...</td><td>Electrician</td><td>2 years</td><td>MORTGAGE</td><td>50000.0</td><td>IL</td><td>606xx</td><td>USA</td><td>C</td><td>C3</td><td>Not Verified</td><td>66064.0</td><td>Individual</td><td>null</td><td>null</td></tr>\n",
       "<tr><td>6f196952e71277fd4...</td><td>Finance Manager</td><td>1 year</td><td>MORTGAGE</td><td>125000.0</td><td>GA</td><td>310xx</td><td>USA</td><td>E</td><td>E2</td><td>Source Verified</td><td>555591.0</td><td>Individual</td><td>null</td><td>null</td></tr>\n",
       "<tr><td>9c617cbc6e3e3d6a1...</td><td>Nurse practitioner</td><td>5 years</td><td>MORTGAGE</td><td>165000.0</td><td>IL</td><td>610xx</td><td>USA</td><td>F</td><td>F1</td><td>Source Verified</td><td>366113.0</td><td>Individual</td><td>null</td><td>null</td></tr>\n",
       "<tr><td>45eb04dd75400a942...</td><td>equipment operator</td><td>3 years</td><td>MORTGAGE</td><td>60000.0</td><td>CT</td><td>064xx</td><td>USA</td><td>C</td><td>C4</td><td>Source Verified</td><td>198693.0</td><td>Individual</td><td>null</td><td>null</td></tr>\n",
       "<tr><td>08d233c81f9e50726...</td><td>caregiver</td><td>2 years</td><td>RENT</td><td>36000.0</td><td>MO</td><td>648xx</td><td>USA</td><td>C</td><td>C1</td><td>Source Verified</td><td>14477.0</td><td>Individual</td><td>null</td><td>null</td></tr>\n",
       "<tr><td>8ff4d0ed17a1cab92...</td><td>owner</td><td>10+ years</td><td>MORTGAGE</td><td>28000.0</td><td>CO</td><td>801xx</td><td>USA</td><td>D</td><td>D1</td><td>Verified</td><td>314400.0</td><td>Individual</td><td>null</td><td>null</td></tr>\n",
       "<tr><td>aec13cfd611b2cfea...</td><td>Community Supervi...</td><td>2 years</td><td>RENT</td><td>33000.0</td><td>GA</td><td>306xx</td><td>USA</td><td>D</td><td>D2</td><td>Source Verified</td><td>188700.0</td><td>Individual</td><td>null</td><td>null</td></tr>\n",
       "<tr><td>9ba8c96ccba6cd1f0...</td><td>Contract Specialist</td><td>5 years</td><td>MORTGAGE</td><td>74700.0</td><td>UT</td><td>844xx</td><td>USA</td><td>D</td><td>D4</td><td>Verified</td><td>614272.0</td><td>Individual</td><td>null</td><td>null</td></tr>\n",
       "</table>\n",
       "only showing top 20 rows\n"
      ],
      "text/plain": [
       "+--------------------+--------------------+----------+--------------+----------+----------+--------+-------+-----+---------+-------------------+---------------+----------------+----------------+-------------------------+\n",
       "|           member_id|           emp_title|emp_length|home_ownership|annual_inc|addr_state|zip_code|country|grade|sub_grade|verification_status|tot_hi_cred_lim|application_type|annual_inc_joint|verification_status_joint|\n",
       "+--------------------+--------------------+----------+--------------+----------+----------+--------+-------+-----+---------+-------------------+---------------+----------------+----------------+-------------------------+\n",
       "|b59d80da191f5b573...|                null|      null|          RENT|   50000.0|        OR|   973xx|    USA|    A|       A5|    Source Verified|         8600.0|      Individual|            null|                     null|\n",
       "|202d9f56ecb7c3bc9...|      police officer|   7 years|           OWN|   85000.0|        TX|   799xx|    USA|    A|       A5|    Source Verified|       272384.0|      Individual|            null|                     null|\n",
       "|e5a140c0922b554b9...|community living ...|   6 years|          RENT|   48000.0|        NY|   146xx|    USA|    B|       B2|    Source Verified|        85092.0|      Individual|            null|                     null|\n",
       "|e12aefc548f750777...|              Office| 10+ years|           OWN|   33000.0|        CT|   067xx|    USA|    F|       F1|           Verified|         7100.0|      Individual|            null|                     null|\n",
       "|1b3a50d854fbbf97e...|Special Tooling I...| 10+ years|      MORTGAGE|   81000.0|        TX|   791xx|    USA|    E|       E5|           Verified|       190274.0|      Individual|            null|                     null|\n",
       "|1c4329e5f17697127...|     Mine ops tech 6|   2 years|      MORTGAGE|   68000.0|        AZ|   855xx|    USA|    C|       C3|       Not Verified|       182453.0|      Individual|            null|                     null|\n",
       "|5026c86ad983175eb...|           caregiver|   4 years|          RENT|   76020.0|        WA|   993xx|    USA|    C|       C2|    Source Verified|        15308.0|      Individual|            null|                     null|\n",
       "|9847d8c1e9d0b2084...|                null|      null|           OWN|   65000.0|        IL|   624xx|    USA|    E|       E3|           Verified|       128800.0|      Individual|            null|                     null|\n",
       "|8340dbe1adea41fb4...|Vice President Re...|   8 years|      MORTGAGE|  111000.0|        CT|   063xx|    USA|    A|       A1|       Not Verified|       343507.0|      Individual|            null|                     null|\n",
       "|d4de0de3ab7d79ad4...|             FOREMAN| 10+ years|      MORTGAGE|   67000.0|        WA|   992xx|    USA|    G|       G2|           Verified|       211501.0|      Individual|            null|                     null|\n",
       "|3df3cdeddb74a8712...|          Strategist|    1 year|          RENT|  120000.0|        CA|   946xx|    USA|    A|       A5|           Verified|        56844.0|      Individual|            null|                     null|\n",
       "|9dd72636b1b4045b4...|      Office Manager|   2 years|          RENT|   52000.0|        FL|   327xx|    USA|    D|       D1|    Source Verified|        39393.0|      Individual|            null|                     null|\n",
       "|1d4e1ef4353b73c00...|         Electrician|   2 years|      MORTGAGE|   50000.0|        IL|   606xx|    USA|    C|       C3|       Not Verified|        66064.0|      Individual|            null|                     null|\n",
       "|6f196952e71277fd4...|     Finance Manager|    1 year|      MORTGAGE|  125000.0|        GA|   310xx|    USA|    E|       E2|    Source Verified|       555591.0|      Individual|            null|                     null|\n",
       "|9c617cbc6e3e3d6a1...|  Nurse practitioner|   5 years|      MORTGAGE|  165000.0|        IL|   610xx|    USA|    F|       F1|    Source Verified|       366113.0|      Individual|            null|                     null|\n",
       "|45eb04dd75400a942...|  equipment operator|   3 years|      MORTGAGE|   60000.0|        CT|   064xx|    USA|    C|       C4|    Source Verified|       198693.0|      Individual|            null|                     null|\n",
       "|08d233c81f9e50726...|           caregiver|   2 years|          RENT|   36000.0|        MO|   648xx|    USA|    C|       C1|    Source Verified|        14477.0|      Individual|            null|                     null|\n",
       "|8ff4d0ed17a1cab92...|               owner| 10+ years|      MORTGAGE|   28000.0|        CO|   801xx|    USA|    D|       D1|           Verified|       314400.0|      Individual|            null|                     null|\n",
       "|aec13cfd611b2cfea...|Community Supervi...|   2 years|          RENT|   33000.0|        GA|   306xx|    USA|    D|       D2|    Source Verified|       188700.0|      Individual|            null|                     null|\n",
       "|9ba8c96ccba6cd1f0...| Contract Specialist|   5 years|      MORTGAGE|   74700.0|        UT|   844xx|    USA|    D|       D4|           Verified|       614272.0|      Individual|            null|                     null|\n",
       "+--------------------+--------------------+----------+--------------+----------+----------+--------+-------+-----+---------+-------------------+---------------+----------------+----------------+-------------------------+\n",
       "only showing top 20 rows"
      ]
     },
     "execution_count": 6,
     "metadata": {},
     "output_type": "execute_result"
    }
   ],
   "source": [
    "customers_df"
   ]
  },
  {
   "cell_type": "code",
   "execution_count": 7,
   "id": "5f20b9c8",
   "metadata": {},
   "outputs": [
    {
     "name": "stdout",
     "output_type": "stream",
     "text": [
      "root\n",
      " |-- member_id: string (nullable = true)\n",
      " |-- emp_title: string (nullable = true)\n",
      " |-- emp_length: string (nullable = true)\n",
      " |-- home_ownership: string (nullable = true)\n",
      " |-- annual_inc: string (nullable = true)\n",
      " |-- addr_state: string (nullable = true)\n",
      " |-- zip_code: string (nullable = true)\n",
      " |-- country: string (nullable = true)\n",
      " |-- grade: string (nullable = true)\n",
      " |-- sub_grade: string (nullable = true)\n",
      " |-- verification_status: string (nullable = true)\n",
      " |-- tot_hi_cred_lim: double (nullable = true)\n",
      " |-- application_type: string (nullable = true)\n",
      " |-- annual_inc_joint: string (nullable = true)\n",
      " |-- verification_status_joint: string (nullable = true)\n",
      "\n"
     ]
    }
   ],
   "source": [
    "customers_df.printSchema()"
   ]
  },
  {
   "cell_type": "code",
   "execution_count": 8,
   "id": "ac04147a",
   "metadata": {},
   "outputs": [],
   "source": [
    "customers_schema=\"member_id string,emp_title string,emp_length string,home_ownership string,annual_inc float,addr_state string,zip_code string,country string,grade string,sub_grade string,verification_status string,tot_hi_cred_lim float,application_type string,annual_inc_joint float,verification_status_joint string\""
   ]
  },
  {
   "cell_type": "code",
   "execution_count": 9,
   "id": "2cd390d7",
   "metadata": {},
   "outputs": [],
   "source": [
    "customers_df=spark.read.format(\"csv\").option(\"header\",\"true\").schema(customers_schema).load(\"/public/trendytech/lendingclubproject/raw/customers_data_csv\")"
   ]
  },
  {
   "cell_type": "code",
   "execution_count": 10,
   "id": "c0f734dd",
   "metadata": {},
   "outputs": [
    {
     "data": {
      "text/html": [
       "<table border='1'>\n",
       "<tr><th>member_id</th><th>emp_title</th><th>emp_length</th><th>home_ownership</th><th>annual_inc</th><th>addr_state</th><th>zip_code</th><th>country</th><th>grade</th><th>sub_grade</th><th>verification_status</th><th>tot_hi_cred_lim</th><th>application_type</th><th>annual_inc_joint</th><th>verification_status_joint</th></tr>\n",
       "<tr><td>b59d80da191f5b573...</td><td>null</td><td>null</td><td>RENT</td><td>50000.0</td><td>OR</td><td>973xx</td><td>USA</td><td>A</td><td>A5</td><td>Source Verified</td><td>8600.0</td><td>Individual</td><td>null</td><td>null</td></tr>\n",
       "<tr><td>202d9f56ecb7c3bc9...</td><td>police officer</td><td>7 years</td><td>OWN</td><td>85000.0</td><td>TX</td><td>799xx</td><td>USA</td><td>A</td><td>A5</td><td>Source Verified</td><td>272384.0</td><td>Individual</td><td>null</td><td>null</td></tr>\n",
       "<tr><td>e5a140c0922b554b9...</td><td>community living ...</td><td>6 years</td><td>RENT</td><td>48000.0</td><td>NY</td><td>146xx</td><td>USA</td><td>B</td><td>B2</td><td>Source Verified</td><td>85092.0</td><td>Individual</td><td>null</td><td>null</td></tr>\n",
       "<tr><td>e12aefc548f750777...</td><td>Office</td><td>10+ years</td><td>OWN</td><td>33000.0</td><td>CT</td><td>067xx</td><td>USA</td><td>F</td><td>F1</td><td>Verified</td><td>7100.0</td><td>Individual</td><td>null</td><td>null</td></tr>\n",
       "<tr><td>1b3a50d854fbbf97e...</td><td>Special Tooling I...</td><td>10+ years</td><td>MORTGAGE</td><td>81000.0</td><td>TX</td><td>791xx</td><td>USA</td><td>E</td><td>E5</td><td>Verified</td><td>190274.0</td><td>Individual</td><td>null</td><td>null</td></tr>\n",
       "<tr><td>1c4329e5f17697127...</td><td>Mine ops tech 6</td><td>2 years</td><td>MORTGAGE</td><td>68000.0</td><td>AZ</td><td>855xx</td><td>USA</td><td>C</td><td>C3</td><td>Not Verified</td><td>182453.0</td><td>Individual</td><td>null</td><td>null</td></tr>\n",
       "<tr><td>5026c86ad983175eb...</td><td>caregiver</td><td>4 years</td><td>RENT</td><td>76020.0</td><td>WA</td><td>993xx</td><td>USA</td><td>C</td><td>C2</td><td>Source Verified</td><td>15308.0</td><td>Individual</td><td>null</td><td>null</td></tr>\n",
       "<tr><td>9847d8c1e9d0b2084...</td><td>null</td><td>null</td><td>OWN</td><td>65000.0</td><td>IL</td><td>624xx</td><td>USA</td><td>E</td><td>E3</td><td>Verified</td><td>128800.0</td><td>Individual</td><td>null</td><td>null</td></tr>\n",
       "<tr><td>8340dbe1adea41fb4...</td><td>Vice President Re...</td><td>8 years</td><td>MORTGAGE</td><td>111000.0</td><td>CT</td><td>063xx</td><td>USA</td><td>A</td><td>A1</td><td>Not Verified</td><td>343507.0</td><td>Individual</td><td>null</td><td>null</td></tr>\n",
       "<tr><td>d4de0de3ab7d79ad4...</td><td>FOREMAN</td><td>10+ years</td><td>MORTGAGE</td><td>67000.0</td><td>WA</td><td>992xx</td><td>USA</td><td>G</td><td>G2</td><td>Verified</td><td>211501.0</td><td>Individual</td><td>null</td><td>null</td></tr>\n",
       "<tr><td>3df3cdeddb74a8712...</td><td>Strategist</td><td>1 year</td><td>RENT</td><td>120000.0</td><td>CA</td><td>946xx</td><td>USA</td><td>A</td><td>A5</td><td>Verified</td><td>56844.0</td><td>Individual</td><td>null</td><td>null</td></tr>\n",
       "<tr><td>9dd72636b1b4045b4...</td><td>Office Manager</td><td>2 years</td><td>RENT</td><td>52000.0</td><td>FL</td><td>327xx</td><td>USA</td><td>D</td><td>D1</td><td>Source Verified</td><td>39393.0</td><td>Individual</td><td>null</td><td>null</td></tr>\n",
       "<tr><td>1d4e1ef4353b73c00...</td><td>Electrician</td><td>2 years</td><td>MORTGAGE</td><td>50000.0</td><td>IL</td><td>606xx</td><td>USA</td><td>C</td><td>C3</td><td>Not Verified</td><td>66064.0</td><td>Individual</td><td>null</td><td>null</td></tr>\n",
       "<tr><td>6f196952e71277fd4...</td><td>Finance Manager</td><td>1 year</td><td>MORTGAGE</td><td>125000.0</td><td>GA</td><td>310xx</td><td>USA</td><td>E</td><td>E2</td><td>Source Verified</td><td>555591.0</td><td>Individual</td><td>null</td><td>null</td></tr>\n",
       "<tr><td>9c617cbc6e3e3d6a1...</td><td>Nurse practitioner</td><td>5 years</td><td>MORTGAGE</td><td>165000.0</td><td>IL</td><td>610xx</td><td>USA</td><td>F</td><td>F1</td><td>Source Verified</td><td>366113.0</td><td>Individual</td><td>null</td><td>null</td></tr>\n",
       "<tr><td>45eb04dd75400a942...</td><td>equipment operator</td><td>3 years</td><td>MORTGAGE</td><td>60000.0</td><td>CT</td><td>064xx</td><td>USA</td><td>C</td><td>C4</td><td>Source Verified</td><td>198693.0</td><td>Individual</td><td>null</td><td>null</td></tr>\n",
       "<tr><td>08d233c81f9e50726...</td><td>caregiver</td><td>2 years</td><td>RENT</td><td>36000.0</td><td>MO</td><td>648xx</td><td>USA</td><td>C</td><td>C1</td><td>Source Verified</td><td>14477.0</td><td>Individual</td><td>null</td><td>null</td></tr>\n",
       "<tr><td>8ff4d0ed17a1cab92...</td><td>owner</td><td>10+ years</td><td>MORTGAGE</td><td>28000.0</td><td>CO</td><td>801xx</td><td>USA</td><td>D</td><td>D1</td><td>Verified</td><td>314400.0</td><td>Individual</td><td>null</td><td>null</td></tr>\n",
       "<tr><td>aec13cfd611b2cfea...</td><td>Community Supervi...</td><td>2 years</td><td>RENT</td><td>33000.0</td><td>GA</td><td>306xx</td><td>USA</td><td>D</td><td>D2</td><td>Source Verified</td><td>188700.0</td><td>Individual</td><td>null</td><td>null</td></tr>\n",
       "<tr><td>9ba8c96ccba6cd1f0...</td><td>Contract Specialist</td><td>5 years</td><td>MORTGAGE</td><td>74700.0</td><td>UT</td><td>844xx</td><td>USA</td><td>D</td><td>D4</td><td>Verified</td><td>614272.0</td><td>Individual</td><td>null</td><td>null</td></tr>\n",
       "</table>\n",
       "only showing top 20 rows\n"
      ],
      "text/plain": [
       "+--------------------+--------------------+----------+--------------+----------+----------+--------+-------+-----+---------+-------------------+---------------+----------------+----------------+-------------------------+\n",
       "|           member_id|           emp_title|emp_length|home_ownership|annual_inc|addr_state|zip_code|country|grade|sub_grade|verification_status|tot_hi_cred_lim|application_type|annual_inc_joint|verification_status_joint|\n",
       "+--------------------+--------------------+----------+--------------+----------+----------+--------+-------+-----+---------+-------------------+---------------+----------------+----------------+-------------------------+\n",
       "|b59d80da191f5b573...|                null|      null|          RENT|   50000.0|        OR|   973xx|    USA|    A|       A5|    Source Verified|         8600.0|      Individual|            null|                     null|\n",
       "|202d9f56ecb7c3bc9...|      police officer|   7 years|           OWN|   85000.0|        TX|   799xx|    USA|    A|       A5|    Source Verified|       272384.0|      Individual|            null|                     null|\n",
       "|e5a140c0922b554b9...|community living ...|   6 years|          RENT|   48000.0|        NY|   146xx|    USA|    B|       B2|    Source Verified|        85092.0|      Individual|            null|                     null|\n",
       "|e12aefc548f750777...|              Office| 10+ years|           OWN|   33000.0|        CT|   067xx|    USA|    F|       F1|           Verified|         7100.0|      Individual|            null|                     null|\n",
       "|1b3a50d854fbbf97e...|Special Tooling I...| 10+ years|      MORTGAGE|   81000.0|        TX|   791xx|    USA|    E|       E5|           Verified|       190274.0|      Individual|            null|                     null|\n",
       "|1c4329e5f17697127...|     Mine ops tech 6|   2 years|      MORTGAGE|   68000.0|        AZ|   855xx|    USA|    C|       C3|       Not Verified|       182453.0|      Individual|            null|                     null|\n",
       "|5026c86ad983175eb...|           caregiver|   4 years|          RENT|   76020.0|        WA|   993xx|    USA|    C|       C2|    Source Verified|        15308.0|      Individual|            null|                     null|\n",
       "|9847d8c1e9d0b2084...|                null|      null|           OWN|   65000.0|        IL|   624xx|    USA|    E|       E3|           Verified|       128800.0|      Individual|            null|                     null|\n",
       "|8340dbe1adea41fb4...|Vice President Re...|   8 years|      MORTGAGE|  111000.0|        CT|   063xx|    USA|    A|       A1|       Not Verified|       343507.0|      Individual|            null|                     null|\n",
       "|d4de0de3ab7d79ad4...|             FOREMAN| 10+ years|      MORTGAGE|   67000.0|        WA|   992xx|    USA|    G|       G2|           Verified|       211501.0|      Individual|            null|                     null|\n",
       "|3df3cdeddb74a8712...|          Strategist|    1 year|          RENT|  120000.0|        CA|   946xx|    USA|    A|       A5|           Verified|        56844.0|      Individual|            null|                     null|\n",
       "|9dd72636b1b4045b4...|      Office Manager|   2 years|          RENT|   52000.0|        FL|   327xx|    USA|    D|       D1|    Source Verified|        39393.0|      Individual|            null|                     null|\n",
       "|1d4e1ef4353b73c00...|         Electrician|   2 years|      MORTGAGE|   50000.0|        IL|   606xx|    USA|    C|       C3|       Not Verified|        66064.0|      Individual|            null|                     null|\n",
       "|6f196952e71277fd4...|     Finance Manager|    1 year|      MORTGAGE|  125000.0|        GA|   310xx|    USA|    E|       E2|    Source Verified|       555591.0|      Individual|            null|                     null|\n",
       "|9c617cbc6e3e3d6a1...|  Nurse practitioner|   5 years|      MORTGAGE|  165000.0|        IL|   610xx|    USA|    F|       F1|    Source Verified|       366113.0|      Individual|            null|                     null|\n",
       "|45eb04dd75400a942...|  equipment operator|   3 years|      MORTGAGE|   60000.0|        CT|   064xx|    USA|    C|       C4|    Source Verified|       198693.0|      Individual|            null|                     null|\n",
       "|08d233c81f9e50726...|           caregiver|   2 years|          RENT|   36000.0|        MO|   648xx|    USA|    C|       C1|    Source Verified|        14477.0|      Individual|            null|                     null|\n",
       "|8ff4d0ed17a1cab92...|               owner| 10+ years|      MORTGAGE|   28000.0|        CO|   801xx|    USA|    D|       D1|           Verified|       314400.0|      Individual|            null|                     null|\n",
       "|aec13cfd611b2cfea...|Community Supervi...|   2 years|          RENT|   33000.0|        GA|   306xx|    USA|    D|       D2|    Source Verified|       188700.0|      Individual|            null|                     null|\n",
       "|9ba8c96ccba6cd1f0...| Contract Specialist|   5 years|      MORTGAGE|   74700.0|        UT|   844xx|    USA|    D|       D4|           Verified|       614272.0|      Individual|            null|                     null|\n",
       "+--------------------+--------------------+----------+--------------+----------+----------+--------+-------+-----+---------+-------------------+---------------+----------------+----------------+-------------------------+\n",
       "only showing top 20 rows"
      ]
     },
     "execution_count": 10,
     "metadata": {},
     "output_type": "execute_result"
    }
   ],
   "source": [
    "customers_df"
   ]
  },
  {
   "cell_type": "code",
   "execution_count": 11,
   "id": "65bb1d68",
   "metadata": {},
   "outputs": [
    {
     "name": "stdout",
     "output_type": "stream",
     "text": [
      "root\n",
      " |-- member_id: string (nullable = true)\n",
      " |-- emp_title: string (nullable = true)\n",
      " |-- emp_length: string (nullable = true)\n",
      " |-- home_ownership: string (nullable = true)\n",
      " |-- annual_inc: float (nullable = true)\n",
      " |-- addr_state: string (nullable = true)\n",
      " |-- zip_code: string (nullable = true)\n",
      " |-- country: string (nullable = true)\n",
      " |-- grade: string (nullable = true)\n",
      " |-- sub_grade: string (nullable = true)\n",
      " |-- verification_status: string (nullable = true)\n",
      " |-- tot_hi_cred_lim: float (nullable = true)\n",
      " |-- application_type: string (nullable = true)\n",
      " |-- annual_inc_joint: float (nullable = true)\n",
      " |-- verification_status_joint: string (nullable = true)\n",
      "\n"
     ]
    }
   ],
   "source": [
    "customers_df.printSchema()"
   ]
  },
  {
   "cell_type": "markdown",
   "id": "89be694f",
   "metadata": {},
   "source": [
    "### Question 2: Renaming the Columns"
   ]
  },
  {
   "cell_type": "code",
   "execution_count": 12,
   "id": "8f98af3b",
   "metadata": {},
   "outputs": [],
   "source": [
    "customers_df_renamed=customers_df \\\n",
    ".withColumnRenamed(\"annual_inc\",\"annual_income\") \\\n",
    ".withColumnRenamed(\"addr_state\",\"address_state\") \\\n",
    ".withColumnRenamed(\"zip_code\",\"address_zipcode\") \\\n",
    ".withColumnRenamed(\"country\",\"address_country\") \\\n",
    ".withColumnRenamed(\"tot_hi_cred_lim\",\"total_high_credit_limit\") \\\n",
    ".withColumnRenamed(\"annual_inc_joint\",\"joint_annual_income\")"
   ]
  },
  {
   "cell_type": "code",
   "execution_count": 13,
   "id": "22a9ed1d",
   "metadata": {},
   "outputs": [
    {
     "data": {
      "text/html": [
       "<table border='1'>\n",
       "<tr><th>member_id</th><th>emp_title</th><th>emp_length</th><th>home_ownership</th><th>annual_income</th><th>address_state</th><th>address_zipcode</th><th>address_country</th><th>grade</th><th>sub_grade</th><th>verification_status</th><th>total_high_credit_limit</th><th>application_type</th><th>joint_annual_income</th><th>verification_status_joint</th></tr>\n",
       "<tr><td>b59d80da191f5b573...</td><td>null</td><td>null</td><td>RENT</td><td>50000.0</td><td>OR</td><td>973xx</td><td>USA</td><td>A</td><td>A5</td><td>Source Verified</td><td>8600.0</td><td>Individual</td><td>null</td><td>null</td></tr>\n",
       "<tr><td>202d9f56ecb7c3bc9...</td><td>police officer</td><td>7 years</td><td>OWN</td><td>85000.0</td><td>TX</td><td>799xx</td><td>USA</td><td>A</td><td>A5</td><td>Source Verified</td><td>272384.0</td><td>Individual</td><td>null</td><td>null</td></tr>\n",
       "<tr><td>e5a140c0922b554b9...</td><td>community living ...</td><td>6 years</td><td>RENT</td><td>48000.0</td><td>NY</td><td>146xx</td><td>USA</td><td>B</td><td>B2</td><td>Source Verified</td><td>85092.0</td><td>Individual</td><td>null</td><td>null</td></tr>\n",
       "<tr><td>e12aefc548f750777...</td><td>Office</td><td>10+ years</td><td>OWN</td><td>33000.0</td><td>CT</td><td>067xx</td><td>USA</td><td>F</td><td>F1</td><td>Verified</td><td>7100.0</td><td>Individual</td><td>null</td><td>null</td></tr>\n",
       "<tr><td>1b3a50d854fbbf97e...</td><td>Special Tooling I...</td><td>10+ years</td><td>MORTGAGE</td><td>81000.0</td><td>TX</td><td>791xx</td><td>USA</td><td>E</td><td>E5</td><td>Verified</td><td>190274.0</td><td>Individual</td><td>null</td><td>null</td></tr>\n",
       "<tr><td>1c4329e5f17697127...</td><td>Mine ops tech 6</td><td>2 years</td><td>MORTGAGE</td><td>68000.0</td><td>AZ</td><td>855xx</td><td>USA</td><td>C</td><td>C3</td><td>Not Verified</td><td>182453.0</td><td>Individual</td><td>null</td><td>null</td></tr>\n",
       "<tr><td>5026c86ad983175eb...</td><td>caregiver</td><td>4 years</td><td>RENT</td><td>76020.0</td><td>WA</td><td>993xx</td><td>USA</td><td>C</td><td>C2</td><td>Source Verified</td><td>15308.0</td><td>Individual</td><td>null</td><td>null</td></tr>\n",
       "<tr><td>9847d8c1e9d0b2084...</td><td>null</td><td>null</td><td>OWN</td><td>65000.0</td><td>IL</td><td>624xx</td><td>USA</td><td>E</td><td>E3</td><td>Verified</td><td>128800.0</td><td>Individual</td><td>null</td><td>null</td></tr>\n",
       "<tr><td>8340dbe1adea41fb4...</td><td>Vice President Re...</td><td>8 years</td><td>MORTGAGE</td><td>111000.0</td><td>CT</td><td>063xx</td><td>USA</td><td>A</td><td>A1</td><td>Not Verified</td><td>343507.0</td><td>Individual</td><td>null</td><td>null</td></tr>\n",
       "<tr><td>d4de0de3ab7d79ad4...</td><td>FOREMAN</td><td>10+ years</td><td>MORTGAGE</td><td>67000.0</td><td>WA</td><td>992xx</td><td>USA</td><td>G</td><td>G2</td><td>Verified</td><td>211501.0</td><td>Individual</td><td>null</td><td>null</td></tr>\n",
       "<tr><td>3df3cdeddb74a8712...</td><td>Strategist</td><td>1 year</td><td>RENT</td><td>120000.0</td><td>CA</td><td>946xx</td><td>USA</td><td>A</td><td>A5</td><td>Verified</td><td>56844.0</td><td>Individual</td><td>null</td><td>null</td></tr>\n",
       "<tr><td>9dd72636b1b4045b4...</td><td>Office Manager</td><td>2 years</td><td>RENT</td><td>52000.0</td><td>FL</td><td>327xx</td><td>USA</td><td>D</td><td>D1</td><td>Source Verified</td><td>39393.0</td><td>Individual</td><td>null</td><td>null</td></tr>\n",
       "<tr><td>1d4e1ef4353b73c00...</td><td>Electrician</td><td>2 years</td><td>MORTGAGE</td><td>50000.0</td><td>IL</td><td>606xx</td><td>USA</td><td>C</td><td>C3</td><td>Not Verified</td><td>66064.0</td><td>Individual</td><td>null</td><td>null</td></tr>\n",
       "<tr><td>6f196952e71277fd4...</td><td>Finance Manager</td><td>1 year</td><td>MORTGAGE</td><td>125000.0</td><td>GA</td><td>310xx</td><td>USA</td><td>E</td><td>E2</td><td>Source Verified</td><td>555591.0</td><td>Individual</td><td>null</td><td>null</td></tr>\n",
       "<tr><td>9c617cbc6e3e3d6a1...</td><td>Nurse practitioner</td><td>5 years</td><td>MORTGAGE</td><td>165000.0</td><td>IL</td><td>610xx</td><td>USA</td><td>F</td><td>F1</td><td>Source Verified</td><td>366113.0</td><td>Individual</td><td>null</td><td>null</td></tr>\n",
       "<tr><td>45eb04dd75400a942...</td><td>equipment operator</td><td>3 years</td><td>MORTGAGE</td><td>60000.0</td><td>CT</td><td>064xx</td><td>USA</td><td>C</td><td>C4</td><td>Source Verified</td><td>198693.0</td><td>Individual</td><td>null</td><td>null</td></tr>\n",
       "<tr><td>08d233c81f9e50726...</td><td>caregiver</td><td>2 years</td><td>RENT</td><td>36000.0</td><td>MO</td><td>648xx</td><td>USA</td><td>C</td><td>C1</td><td>Source Verified</td><td>14477.0</td><td>Individual</td><td>null</td><td>null</td></tr>\n",
       "<tr><td>8ff4d0ed17a1cab92...</td><td>owner</td><td>10+ years</td><td>MORTGAGE</td><td>28000.0</td><td>CO</td><td>801xx</td><td>USA</td><td>D</td><td>D1</td><td>Verified</td><td>314400.0</td><td>Individual</td><td>null</td><td>null</td></tr>\n",
       "<tr><td>aec13cfd611b2cfea...</td><td>Community Supervi...</td><td>2 years</td><td>RENT</td><td>33000.0</td><td>GA</td><td>306xx</td><td>USA</td><td>D</td><td>D2</td><td>Source Verified</td><td>188700.0</td><td>Individual</td><td>null</td><td>null</td></tr>\n",
       "<tr><td>9ba8c96ccba6cd1f0...</td><td>Contract Specialist</td><td>5 years</td><td>MORTGAGE</td><td>74700.0</td><td>UT</td><td>844xx</td><td>USA</td><td>D</td><td>D4</td><td>Verified</td><td>614272.0</td><td>Individual</td><td>null</td><td>null</td></tr>\n",
       "</table>\n",
       "only showing top 20 rows\n"
      ],
      "text/plain": [
       "+--------------------+--------------------+----------+--------------+-------------+-------------+---------------+---------------+-----+---------+-------------------+-----------------------+----------------+-------------------+-------------------------+\n",
       "|           member_id|           emp_title|emp_length|home_ownership|annual_income|address_state|address_zipcode|address_country|grade|sub_grade|verification_status|total_high_credit_limit|application_type|joint_annual_income|verification_status_joint|\n",
       "+--------------------+--------------------+----------+--------------+-------------+-------------+---------------+---------------+-----+---------+-------------------+-----------------------+----------------+-------------------+-------------------------+\n",
       "|b59d80da191f5b573...|                null|      null|          RENT|      50000.0|           OR|          973xx|            USA|    A|       A5|    Source Verified|                 8600.0|      Individual|               null|                     null|\n",
       "|202d9f56ecb7c3bc9...|      police officer|   7 years|           OWN|      85000.0|           TX|          799xx|            USA|    A|       A5|    Source Verified|               272384.0|      Individual|               null|                     null|\n",
       "|e5a140c0922b554b9...|community living ...|   6 years|          RENT|      48000.0|           NY|          146xx|            USA|    B|       B2|    Source Verified|                85092.0|      Individual|               null|                     null|\n",
       "|e12aefc548f750777...|              Office| 10+ years|           OWN|      33000.0|           CT|          067xx|            USA|    F|       F1|           Verified|                 7100.0|      Individual|               null|                     null|\n",
       "|1b3a50d854fbbf97e...|Special Tooling I...| 10+ years|      MORTGAGE|      81000.0|           TX|          791xx|            USA|    E|       E5|           Verified|               190274.0|      Individual|               null|                     null|\n",
       "|1c4329e5f17697127...|     Mine ops tech 6|   2 years|      MORTGAGE|      68000.0|           AZ|          855xx|            USA|    C|       C3|       Not Verified|               182453.0|      Individual|               null|                     null|\n",
       "|5026c86ad983175eb...|           caregiver|   4 years|          RENT|      76020.0|           WA|          993xx|            USA|    C|       C2|    Source Verified|                15308.0|      Individual|               null|                     null|\n",
       "|9847d8c1e9d0b2084...|                null|      null|           OWN|      65000.0|           IL|          624xx|            USA|    E|       E3|           Verified|               128800.0|      Individual|               null|                     null|\n",
       "|8340dbe1adea41fb4...|Vice President Re...|   8 years|      MORTGAGE|     111000.0|           CT|          063xx|            USA|    A|       A1|       Not Verified|               343507.0|      Individual|               null|                     null|\n",
       "|d4de0de3ab7d79ad4...|             FOREMAN| 10+ years|      MORTGAGE|      67000.0|           WA|          992xx|            USA|    G|       G2|           Verified|               211501.0|      Individual|               null|                     null|\n",
       "|3df3cdeddb74a8712...|          Strategist|    1 year|          RENT|     120000.0|           CA|          946xx|            USA|    A|       A5|           Verified|                56844.0|      Individual|               null|                     null|\n",
       "|9dd72636b1b4045b4...|      Office Manager|   2 years|          RENT|      52000.0|           FL|          327xx|            USA|    D|       D1|    Source Verified|                39393.0|      Individual|               null|                     null|\n",
       "|1d4e1ef4353b73c00...|         Electrician|   2 years|      MORTGAGE|      50000.0|           IL|          606xx|            USA|    C|       C3|       Not Verified|                66064.0|      Individual|               null|                     null|\n",
       "|6f196952e71277fd4...|     Finance Manager|    1 year|      MORTGAGE|     125000.0|           GA|          310xx|            USA|    E|       E2|    Source Verified|               555591.0|      Individual|               null|                     null|\n",
       "|9c617cbc6e3e3d6a1...|  Nurse practitioner|   5 years|      MORTGAGE|     165000.0|           IL|          610xx|            USA|    F|       F1|    Source Verified|               366113.0|      Individual|               null|                     null|\n",
       "|45eb04dd75400a942...|  equipment operator|   3 years|      MORTGAGE|      60000.0|           CT|          064xx|            USA|    C|       C4|    Source Verified|               198693.0|      Individual|               null|                     null|\n",
       "|08d233c81f9e50726...|           caregiver|   2 years|          RENT|      36000.0|           MO|          648xx|            USA|    C|       C1|    Source Verified|                14477.0|      Individual|               null|                     null|\n",
       "|8ff4d0ed17a1cab92...|               owner| 10+ years|      MORTGAGE|      28000.0|           CO|          801xx|            USA|    D|       D1|           Verified|               314400.0|      Individual|               null|                     null|\n",
       "|aec13cfd611b2cfea...|Community Supervi...|   2 years|          RENT|      33000.0|           GA|          306xx|            USA|    D|       D2|    Source Verified|               188700.0|      Individual|               null|                     null|\n",
       "|9ba8c96ccba6cd1f0...| Contract Specialist|   5 years|      MORTGAGE|      74700.0|           UT|          844xx|            USA|    D|       D4|           Verified|               614272.0|      Individual|               null|                     null|\n",
       "+--------------------+--------------------+----------+--------------+-------------+-------------+---------------+---------------+-----+---------+-------------------+-----------------------+----------------+-------------------+-------------------------+\n",
       "only showing top 20 rows"
      ]
     },
     "execution_count": 13,
     "metadata": {},
     "output_type": "execute_result"
    }
   ],
   "source": [
    "customers_df_renamed"
   ]
  },
  {
   "cell_type": "markdown",
   "id": "42dc092e",
   "metadata": {},
   "source": [
    "### Question 3: Add column Ingestion date which will record the timestamp whenever data is processed"
   ]
  },
  {
   "cell_type": "code",
   "execution_count": 14,
   "id": "3fb34b91",
   "metadata": {},
   "outputs": [],
   "source": [
    "from pyspark.sql.functions import current_timestamp"
   ]
  },
  {
   "cell_type": "code",
   "execution_count": 15,
   "id": "930a906d",
   "metadata": {},
   "outputs": [],
   "source": [
    "customers_df_ingested=customers_df_renamed.withColumn(\"ingest_date\",current_timestamp())"
   ]
  },
  {
   "cell_type": "code",
   "execution_count": 16,
   "id": "dcb6e1ab",
   "metadata": {},
   "outputs": [
    {
     "data": {
      "text/html": [
       "<table border='1'>\n",
       "<tr><th>member_id</th><th>emp_title</th><th>emp_length</th><th>home_ownership</th><th>annual_income</th><th>address_state</th><th>address_zipcode</th><th>address_country</th><th>grade</th><th>sub_grade</th><th>verification_status</th><th>total_high_credit_limit</th><th>application_type</th><th>joint_annual_income</th><th>verification_status_joint</th><th>ingest_date</th></tr>\n",
       "<tr><td>b59d80da191f5b573...</td><td>null</td><td>null</td><td>RENT</td><td>50000.0</td><td>OR</td><td>973xx</td><td>USA</td><td>A</td><td>A5</td><td>Source Verified</td><td>8600.0</td><td>Individual</td><td>null</td><td>null</td><td>2024-04-03 22:37:...</td></tr>\n",
       "<tr><td>202d9f56ecb7c3bc9...</td><td>police officer</td><td>7 years</td><td>OWN</td><td>85000.0</td><td>TX</td><td>799xx</td><td>USA</td><td>A</td><td>A5</td><td>Source Verified</td><td>272384.0</td><td>Individual</td><td>null</td><td>null</td><td>2024-04-03 22:37:...</td></tr>\n",
       "<tr><td>e5a140c0922b554b9...</td><td>community living ...</td><td>6 years</td><td>RENT</td><td>48000.0</td><td>NY</td><td>146xx</td><td>USA</td><td>B</td><td>B2</td><td>Source Verified</td><td>85092.0</td><td>Individual</td><td>null</td><td>null</td><td>2024-04-03 22:37:...</td></tr>\n",
       "<tr><td>e12aefc548f750777...</td><td>Office</td><td>10+ years</td><td>OWN</td><td>33000.0</td><td>CT</td><td>067xx</td><td>USA</td><td>F</td><td>F1</td><td>Verified</td><td>7100.0</td><td>Individual</td><td>null</td><td>null</td><td>2024-04-03 22:37:...</td></tr>\n",
       "<tr><td>1b3a50d854fbbf97e...</td><td>Special Tooling I...</td><td>10+ years</td><td>MORTGAGE</td><td>81000.0</td><td>TX</td><td>791xx</td><td>USA</td><td>E</td><td>E5</td><td>Verified</td><td>190274.0</td><td>Individual</td><td>null</td><td>null</td><td>2024-04-03 22:37:...</td></tr>\n",
       "<tr><td>1c4329e5f17697127...</td><td>Mine ops tech 6</td><td>2 years</td><td>MORTGAGE</td><td>68000.0</td><td>AZ</td><td>855xx</td><td>USA</td><td>C</td><td>C3</td><td>Not Verified</td><td>182453.0</td><td>Individual</td><td>null</td><td>null</td><td>2024-04-03 22:37:...</td></tr>\n",
       "<tr><td>5026c86ad983175eb...</td><td>caregiver</td><td>4 years</td><td>RENT</td><td>76020.0</td><td>WA</td><td>993xx</td><td>USA</td><td>C</td><td>C2</td><td>Source Verified</td><td>15308.0</td><td>Individual</td><td>null</td><td>null</td><td>2024-04-03 22:37:...</td></tr>\n",
       "<tr><td>9847d8c1e9d0b2084...</td><td>null</td><td>null</td><td>OWN</td><td>65000.0</td><td>IL</td><td>624xx</td><td>USA</td><td>E</td><td>E3</td><td>Verified</td><td>128800.0</td><td>Individual</td><td>null</td><td>null</td><td>2024-04-03 22:37:...</td></tr>\n",
       "<tr><td>8340dbe1adea41fb4...</td><td>Vice President Re...</td><td>8 years</td><td>MORTGAGE</td><td>111000.0</td><td>CT</td><td>063xx</td><td>USA</td><td>A</td><td>A1</td><td>Not Verified</td><td>343507.0</td><td>Individual</td><td>null</td><td>null</td><td>2024-04-03 22:37:...</td></tr>\n",
       "<tr><td>d4de0de3ab7d79ad4...</td><td>FOREMAN</td><td>10+ years</td><td>MORTGAGE</td><td>67000.0</td><td>WA</td><td>992xx</td><td>USA</td><td>G</td><td>G2</td><td>Verified</td><td>211501.0</td><td>Individual</td><td>null</td><td>null</td><td>2024-04-03 22:37:...</td></tr>\n",
       "<tr><td>3df3cdeddb74a8712...</td><td>Strategist</td><td>1 year</td><td>RENT</td><td>120000.0</td><td>CA</td><td>946xx</td><td>USA</td><td>A</td><td>A5</td><td>Verified</td><td>56844.0</td><td>Individual</td><td>null</td><td>null</td><td>2024-04-03 22:37:...</td></tr>\n",
       "<tr><td>9dd72636b1b4045b4...</td><td>Office Manager</td><td>2 years</td><td>RENT</td><td>52000.0</td><td>FL</td><td>327xx</td><td>USA</td><td>D</td><td>D1</td><td>Source Verified</td><td>39393.0</td><td>Individual</td><td>null</td><td>null</td><td>2024-04-03 22:37:...</td></tr>\n",
       "<tr><td>1d4e1ef4353b73c00...</td><td>Electrician</td><td>2 years</td><td>MORTGAGE</td><td>50000.0</td><td>IL</td><td>606xx</td><td>USA</td><td>C</td><td>C3</td><td>Not Verified</td><td>66064.0</td><td>Individual</td><td>null</td><td>null</td><td>2024-04-03 22:37:...</td></tr>\n",
       "<tr><td>6f196952e71277fd4...</td><td>Finance Manager</td><td>1 year</td><td>MORTGAGE</td><td>125000.0</td><td>GA</td><td>310xx</td><td>USA</td><td>E</td><td>E2</td><td>Source Verified</td><td>555591.0</td><td>Individual</td><td>null</td><td>null</td><td>2024-04-03 22:37:...</td></tr>\n",
       "<tr><td>9c617cbc6e3e3d6a1...</td><td>Nurse practitioner</td><td>5 years</td><td>MORTGAGE</td><td>165000.0</td><td>IL</td><td>610xx</td><td>USA</td><td>F</td><td>F1</td><td>Source Verified</td><td>366113.0</td><td>Individual</td><td>null</td><td>null</td><td>2024-04-03 22:37:...</td></tr>\n",
       "<tr><td>45eb04dd75400a942...</td><td>equipment operator</td><td>3 years</td><td>MORTGAGE</td><td>60000.0</td><td>CT</td><td>064xx</td><td>USA</td><td>C</td><td>C4</td><td>Source Verified</td><td>198693.0</td><td>Individual</td><td>null</td><td>null</td><td>2024-04-03 22:37:...</td></tr>\n",
       "<tr><td>08d233c81f9e50726...</td><td>caregiver</td><td>2 years</td><td>RENT</td><td>36000.0</td><td>MO</td><td>648xx</td><td>USA</td><td>C</td><td>C1</td><td>Source Verified</td><td>14477.0</td><td>Individual</td><td>null</td><td>null</td><td>2024-04-03 22:37:...</td></tr>\n",
       "<tr><td>8ff4d0ed17a1cab92...</td><td>owner</td><td>10+ years</td><td>MORTGAGE</td><td>28000.0</td><td>CO</td><td>801xx</td><td>USA</td><td>D</td><td>D1</td><td>Verified</td><td>314400.0</td><td>Individual</td><td>null</td><td>null</td><td>2024-04-03 22:37:...</td></tr>\n",
       "<tr><td>aec13cfd611b2cfea...</td><td>Community Supervi...</td><td>2 years</td><td>RENT</td><td>33000.0</td><td>GA</td><td>306xx</td><td>USA</td><td>D</td><td>D2</td><td>Source Verified</td><td>188700.0</td><td>Individual</td><td>null</td><td>null</td><td>2024-04-03 22:37:...</td></tr>\n",
       "<tr><td>9ba8c96ccba6cd1f0...</td><td>Contract Specialist</td><td>5 years</td><td>MORTGAGE</td><td>74700.0</td><td>UT</td><td>844xx</td><td>USA</td><td>D</td><td>D4</td><td>Verified</td><td>614272.0</td><td>Individual</td><td>null</td><td>null</td><td>2024-04-03 22:37:...</td></tr>\n",
       "</table>\n",
       "only showing top 20 rows\n"
      ],
      "text/plain": [
       "+--------------------+--------------------+----------+--------------+-------------+-------------+---------------+---------------+-----+---------+-------------------+-----------------------+----------------+-------------------+-------------------------+--------------------+\n",
       "|           member_id|           emp_title|emp_length|home_ownership|annual_income|address_state|address_zipcode|address_country|grade|sub_grade|verification_status|total_high_credit_limit|application_type|joint_annual_income|verification_status_joint|         ingest_date|\n",
       "+--------------------+--------------------+----------+--------------+-------------+-------------+---------------+---------------+-----+---------+-------------------+-----------------------+----------------+-------------------+-------------------------+--------------------+\n",
       "|b59d80da191f5b573...|                null|      null|          RENT|      50000.0|           OR|          973xx|            USA|    A|       A5|    Source Verified|                 8600.0|      Individual|               null|                     null|2024-04-03 22:37:...|\n",
       "|202d9f56ecb7c3bc9...|      police officer|   7 years|           OWN|      85000.0|           TX|          799xx|            USA|    A|       A5|    Source Verified|               272384.0|      Individual|               null|                     null|2024-04-03 22:37:...|\n",
       "|e5a140c0922b554b9...|community living ...|   6 years|          RENT|      48000.0|           NY|          146xx|            USA|    B|       B2|    Source Verified|                85092.0|      Individual|               null|                     null|2024-04-03 22:37:...|\n",
       "|e12aefc548f750777...|              Office| 10+ years|           OWN|      33000.0|           CT|          067xx|            USA|    F|       F1|           Verified|                 7100.0|      Individual|               null|                     null|2024-04-03 22:37:...|\n",
       "|1b3a50d854fbbf97e...|Special Tooling I...| 10+ years|      MORTGAGE|      81000.0|           TX|          791xx|            USA|    E|       E5|           Verified|               190274.0|      Individual|               null|                     null|2024-04-03 22:37:...|\n",
       "|1c4329e5f17697127...|     Mine ops tech 6|   2 years|      MORTGAGE|      68000.0|           AZ|          855xx|            USA|    C|       C3|       Not Verified|               182453.0|      Individual|               null|                     null|2024-04-03 22:37:...|\n",
       "|5026c86ad983175eb...|           caregiver|   4 years|          RENT|      76020.0|           WA|          993xx|            USA|    C|       C2|    Source Verified|                15308.0|      Individual|               null|                     null|2024-04-03 22:37:...|\n",
       "|9847d8c1e9d0b2084...|                null|      null|           OWN|      65000.0|           IL|          624xx|            USA|    E|       E3|           Verified|               128800.0|      Individual|               null|                     null|2024-04-03 22:37:...|\n",
       "|8340dbe1adea41fb4...|Vice President Re...|   8 years|      MORTGAGE|     111000.0|           CT|          063xx|            USA|    A|       A1|       Not Verified|               343507.0|      Individual|               null|                     null|2024-04-03 22:37:...|\n",
       "|d4de0de3ab7d79ad4...|             FOREMAN| 10+ years|      MORTGAGE|      67000.0|           WA|          992xx|            USA|    G|       G2|           Verified|               211501.0|      Individual|               null|                     null|2024-04-03 22:37:...|\n",
       "|3df3cdeddb74a8712...|          Strategist|    1 year|          RENT|     120000.0|           CA|          946xx|            USA|    A|       A5|           Verified|                56844.0|      Individual|               null|                     null|2024-04-03 22:37:...|\n",
       "|9dd72636b1b4045b4...|      Office Manager|   2 years|          RENT|      52000.0|           FL|          327xx|            USA|    D|       D1|    Source Verified|                39393.0|      Individual|               null|                     null|2024-04-03 22:37:...|\n",
       "|1d4e1ef4353b73c00...|         Electrician|   2 years|      MORTGAGE|      50000.0|           IL|          606xx|            USA|    C|       C3|       Not Verified|                66064.0|      Individual|               null|                     null|2024-04-03 22:37:...|\n",
       "|6f196952e71277fd4...|     Finance Manager|    1 year|      MORTGAGE|     125000.0|           GA|          310xx|            USA|    E|       E2|    Source Verified|               555591.0|      Individual|               null|                     null|2024-04-03 22:37:...|\n",
       "|9c617cbc6e3e3d6a1...|  Nurse practitioner|   5 years|      MORTGAGE|     165000.0|           IL|          610xx|            USA|    F|       F1|    Source Verified|               366113.0|      Individual|               null|                     null|2024-04-03 22:37:...|\n",
       "|45eb04dd75400a942...|  equipment operator|   3 years|      MORTGAGE|      60000.0|           CT|          064xx|            USA|    C|       C4|    Source Verified|               198693.0|      Individual|               null|                     null|2024-04-03 22:37:...|\n",
       "|08d233c81f9e50726...|           caregiver|   2 years|          RENT|      36000.0|           MO|          648xx|            USA|    C|       C1|    Source Verified|                14477.0|      Individual|               null|                     null|2024-04-03 22:37:...|\n",
       "|8ff4d0ed17a1cab92...|               owner| 10+ years|      MORTGAGE|      28000.0|           CO|          801xx|            USA|    D|       D1|           Verified|               314400.0|      Individual|               null|                     null|2024-04-03 22:37:...|\n",
       "|aec13cfd611b2cfea...|Community Supervi...|   2 years|          RENT|      33000.0|           GA|          306xx|            USA|    D|       D2|    Source Verified|               188700.0|      Individual|               null|                     null|2024-04-03 22:37:...|\n",
       "|9ba8c96ccba6cd1f0...| Contract Specialist|   5 years|      MORTGAGE|      74700.0|           UT|          844xx|            USA|    D|       D4|           Verified|               614272.0|      Individual|               null|                     null|2024-04-03 22:37:...|\n",
       "+--------------------+--------------------+----------+--------------+-------------+-------------+---------------+---------------+-----+---------+-------------------+-----------------------+----------------+-------------------+-------------------------+--------------------+\n",
       "only showing top 20 rows"
      ]
     },
     "execution_count": 16,
     "metadata": {},
     "output_type": "execute_result"
    }
   ],
   "source": [
    "customers_df_ingested"
   ]
  },
  {
   "cell_type": "markdown",
   "id": "7cb00719",
   "metadata": {},
   "source": [
    "### Question 4 Remove Duplicate Rows from the dataset"
   ]
  },
  {
   "cell_type": "code",
   "execution_count": 17,
   "id": "4f6c0a47",
   "metadata": {},
   "outputs": [
    {
     "data": {
      "text/plain": [
       "2260701"
      ]
     },
     "execution_count": 17,
     "metadata": {},
     "output_type": "execute_result"
    }
   ],
   "source": [
    "customers_df_ingested.count()"
   ]
  },
  {
   "cell_type": "code",
   "execution_count": 18,
   "id": "f0f51368",
   "metadata": {},
   "outputs": [
    {
     "data": {
      "text/plain": [
       "2260638"
      ]
     },
     "execution_count": 18,
     "metadata": {},
     "output_type": "execute_result"
    }
   ],
   "source": [
    "customers_df_ingested.distinct().count()"
   ]
  },
  {
   "cell_type": "code",
   "execution_count": 19,
   "id": "a1275ef0",
   "metadata": {},
   "outputs": [],
   "source": [
    "customers_df_unique=customers_df_ingested.distinct()"
   ]
  },
  {
   "cell_type": "code",
   "execution_count": 20,
   "id": "771d9067",
   "metadata": {},
   "outputs": [
    {
     "data": {
      "text/html": [
       "<table border='1'>\n",
       "<tr><th>member_id</th><th>emp_title</th><th>emp_length</th><th>home_ownership</th><th>annual_income</th><th>address_state</th><th>address_zipcode</th><th>address_country</th><th>grade</th><th>sub_grade</th><th>verification_status</th><th>total_high_credit_limit</th><th>application_type</th><th>joint_annual_income</th><th>verification_status_joint</th><th>ingest_date</th></tr>\n",
       "<tr><td>d73add4840e38e9c7...</td><td>Teacher</td><td>4 years</td><td>RENT</td><td>72000.0</td><td>CA</td><td>946xx</td><td>USA</td><td>A</td><td>A4</td><td>Not Verified</td><td>140290.0</td><td>Individual</td><td>null</td><td>null</td><td>2024-04-03 22:38:...</td></tr>\n",
       "<tr><td>7876aaa0f79c67b66...</td><td>Marketing Coordin...</td><td>2 years</td><td>MORTGAGE</td><td>68000.0</td><td>FL</td><td>328xx</td><td>USA</td><td>B</td><td>B1</td><td>Not Verified</td><td>42394.0</td><td>Individual</td><td>null</td><td>null</td><td>2024-04-03 22:38:...</td></tr>\n",
       "<tr><td>8e5b970aca6dffc18...</td><td>Loan Officer</td><td>9 years</td><td>MORTGAGE</td><td>42000.0</td><td>MT</td><td>598xx</td><td>USA</td><td>A</td><td>A3</td><td>Verified</td><td>225922.0</td><td>Individual</td><td>null</td><td>null</td><td>2024-04-03 22:38:...</td></tr>\n",
       "<tr><td>838fb4c658cbcc7af...</td><td>Waiver worker</td><td>&lt; 1 year</td><td>MORTGAGE</td><td>15000.0</td><td>AR</td><td>719xx</td><td>USA</td><td>B</td><td>B2</td><td>Not Verified</td><td>229562.0</td><td>Joint App</td><td>68000.0</td><td>Not Verified</td><td>2024-04-03 22:38:...</td></tr>\n",
       "<tr><td>4f754624e9751131e...</td><td>MEDICAL SUPPORT A...</td><td>&lt; 1 year</td><td>RENT</td><td>44377.0</td><td>MN</td><td>554xx</td><td>USA</td><td>B</td><td>B2</td><td>Source Verified</td><td>28300.0</td><td>Joint App</td><td>92110.0</td><td>Source Verified</td><td>2024-04-03 22:38:...</td></tr>\n",
       "<tr><td>5c49dad7059326288...</td><td>null</td><td>null</td><td>MORTGAGE</td><td>53000.0</td><td>WA</td><td>982xx</td><td>USA</td><td>A</td><td>A2</td><td>Not Verified</td><td>145100.0</td><td>Individual</td><td>null</td><td>null</td><td>2024-04-03 22:38:...</td></tr>\n",
       "<tr><td>ad74843f3081ba459...</td><td>null</td><td>null</td><td>RENT</td><td>45540.0</td><td>CA</td><td>917xx</td><td>USA</td><td>B</td><td>B1</td><td>Source Verified</td><td>45989.0</td><td>Individual</td><td>null</td><td>null</td><td>2024-04-03 22:38:...</td></tr>\n",
       "<tr><td>46cd8f2e6ebabc1bf...</td><td>Ophthalmologist A...</td><td>8 years</td><td>RENT</td><td>50000.0</td><td>CA</td><td>900xx</td><td>USA</td><td>D</td><td>D3</td><td>Verified</td><td>29163.0</td><td>Individual</td><td>null</td><td>null</td><td>2024-04-03 22:38:...</td></tr>\n",
       "<tr><td>bd4db0131c343ee45...</td><td>Title Associate</td><td>1 year</td><td>MORTGAGE</td><td>40000.0</td><td>MD</td><td>211xx</td><td>USA</td><td>C</td><td>C4</td><td>Verified</td><td>65826.0</td><td>Individual</td><td>null</td><td>null</td><td>2024-04-03 22:38:...</td></tr>\n",
       "<tr><td>d2fcab7eccb3ef342...</td><td>computer analyst</td><td>8 years</td><td>OWN</td><td>80000.0</td><td>TX</td><td>753xx</td><td>USA</td><td>A</td><td>A5</td><td>Not Verified</td><td>225642.0</td><td>Individual</td><td>null</td><td>null</td><td>2024-04-03 22:38:...</td></tr>\n",
       "<tr><td>8c03415c15d657a14...</td><td>Teacher</td><td>5 years</td><td>RENT</td><td>57000.0</td><td>MA</td><td>014xx</td><td>USA</td><td>C</td><td>C3</td><td>Not Verified</td><td>94545.0</td><td>Individual</td><td>null</td><td>null</td><td>2024-04-03 22:38:...</td></tr>\n",
       "<tr><td>bef598ec5cdaeb9c8...</td><td>Manager</td><td>7 years</td><td>RENT</td><td>103000.0</td><td>FL</td><td>346xx</td><td>USA</td><td>D</td><td>D1</td><td>Not Verified</td><td>201130.0</td><td>Individual</td><td>null</td><td>null</td><td>2024-04-03 22:38:...</td></tr>\n",
       "<tr><td>d379f6a41a1dda8fc...</td><td>Service technician</td><td>5 years</td><td>RENT</td><td>25000.0</td><td>NY</td><td>136xx</td><td>USA</td><td>C</td><td>C2</td><td>Source Verified</td><td>15900.0</td><td>Individual</td><td>null</td><td>null</td><td>2024-04-03 22:38:...</td></tr>\n",
       "<tr><td>bd2546694d8de7e71...</td><td>Sprinklerfitter</td><td>9 years</td><td>MORTGAGE</td><td>75000.0</td><td>IN</td><td>462xx</td><td>USA</td><td>C</td><td>C3</td><td>Not Verified</td><td>124010.0</td><td>Individual</td><td>null</td><td>null</td><td>2024-04-03 22:38:...</td></tr>\n",
       "<tr><td>42bd4d706431ef9d3...</td><td>General Manager</td><td>4 years</td><td>OWN</td><td>65000.0</td><td>TX</td><td>774xx</td><td>USA</td><td>C</td><td>C2</td><td>Not Verified</td><td>242045.0</td><td>Individual</td><td>null</td><td>null</td><td>2024-04-03 22:38:...</td></tr>\n",
       "<tr><td>ed397c4ec5037ef2b...</td><td>rdh</td><td>10+ years</td><td>MORTGAGE</td><td>74000.0</td><td>PA</td><td>176xx</td><td>USA</td><td>A</td><td>A5</td><td>Not Verified</td><td>449586.0</td><td>Joint App</td><td>147000.0</td><td>Not Verified</td><td>2024-04-03 22:38:...</td></tr>\n",
       "<tr><td>f337a4f369a8d3258...</td><td>personal banker</td><td>10+ years</td><td>OWN</td><td>34000.0</td><td>TX</td><td>794xx</td><td>USA</td><td>C</td><td>C1</td><td>Source Verified</td><td>27500.0</td><td>Individual</td><td>null</td><td>null</td><td>2024-04-03 22:38:...</td></tr>\n",
       "<tr><td>4f595accd3db44cf2...</td><td>Maintenance</td><td>1 year</td><td>RENT</td><td>27000.0</td><td>AZ</td><td>853xx</td><td>USA</td><td>C</td><td>C4</td><td>Not Verified</td><td>44710.0</td><td>Individual</td><td>null</td><td>null</td><td>2024-04-03 22:38:...</td></tr>\n",
       "<tr><td>a2a4eeae3b7d39b03...</td><td>High School Princ...</td><td>7 years</td><td>MORTGAGE</td><td>111500.0</td><td>TX</td><td>785xx</td><td>USA</td><td>C</td><td>C4</td><td>Verified</td><td>241480.0</td><td>Individual</td><td>null</td><td>null</td><td>2024-04-03 22:38:...</td></tr>\n",
       "<tr><td>4c5db50d186e777bf...</td><td>null</td><td>null</td><td>RENT</td><td>90000.0</td><td>TN</td><td>372xx</td><td>USA</td><td>A</td><td>A2</td><td>Not Verified</td><td>97803.0</td><td>Individual</td><td>null</td><td>null</td><td>2024-04-03 22:38:...</td></tr>\n",
       "</table>\n",
       "only showing top 20 rows\n"
      ],
      "text/plain": [
       "+--------------------+--------------------+----------+--------------+-------------+-------------+---------------+---------------+-----+---------+-------------------+-----------------------+----------------+-------------------+-------------------------+--------------------+\n",
       "|           member_id|           emp_title|emp_length|home_ownership|annual_income|address_state|address_zipcode|address_country|grade|sub_grade|verification_status|total_high_credit_limit|application_type|joint_annual_income|verification_status_joint|         ingest_date|\n",
       "+--------------------+--------------------+----------+--------------+-------------+-------------+---------------+---------------+-----+---------+-------------------+-----------------------+----------------+-------------------+-------------------------+--------------------+\n",
       "|481180f9bc5bf0ac0...|            Mechanic| 10+ years|      MORTGAGE|      88000.0|           VA|          243xx|            USA|    C|       C2|       Not Verified|               108761.0|      Individual|               null|                     null|2024-04-03 22:37:...|\n",
       "|e0d725d6d169db240...|Financial Busines...| 10+ years|      MORTGAGE|      73700.0|           NM|          871xx|            USA|    B|       B3|           Verified|               301515.0|      Individual|               null|                     null|2024-04-03 22:37:...|\n",
       "|f2dd5f9e61dfdb71d...|Advanced Medical ...|   4 years|          RENT|      46000.0|           CA|          917xx|            USA|    B|       B2|    Source Verified|                90381.0|      Individual|               null|                     null|2024-04-03 22:37:...|\n",
       "|102ccbac54a22a960...|     Account Manager|   5 years|      MORTGAGE|      95000.0|           MA|          021xx|            USA|    A|       A2|           Verified|               350259.0|      Individual|               null|                     null|2024-04-03 22:37:...|\n",
       "|f23d3d2ab92245f1d...|                  RN|  < 1 year|      MORTGAGE|      78000.0|           MN|          554xx|            USA|    E|       E1|       Not Verified|               398012.0|       Joint App|           141600.0|             Not Verified|2024-04-03 22:37:...|\n",
       "|7192c3a8007161dff...|     Header Operator|   5 years|           OWN|      42000.0|           KS|          660xx|            USA|    C|       C5|    Source Verified|                66073.0|      Individual|               null|                     null|2024-04-03 22:37:...|\n",
       "|1a8abab1148481e28...|   Sanitation worker|   3 years|          RENT|      65000.0|           NY|          104xx|            USA|    C|       C5|    Source Verified|                52917.0|      Individual|               null|                     null|2024-04-03 22:37:...|\n",
       "|cc7aadc58950661c4...|Eligibility speci...|    1 year|          RENT|      50000.0|           CA|          958xx|            USA|    B|       B3|           Verified|                46603.0|      Individual|               null|                     null|2024-04-03 22:37:...|\n",
       "|0ef9cb525b6485d69...|Administrative as...|   2 years|          RENT|      35000.0|           KS|          670xx|            USA|    C|       C5|       Not Verified|                38226.0|      Individual|               null|                     null|2024-04-03 22:37:...|\n",
       "|64026276baad7e278...|Technology Specia...|   6 years|      MORTGAGE|     220286.0|           NY|          112xx|            USA|    B|       B2|       Not Verified|               352494.0|      Individual|               null|                     null|2024-04-03 22:37:...|\n",
       "|1d45f6fd577d6a80d...|               Owner| 10+ years|          RENT|     140000.0|           PA|          190xx|            USA|    D|       D4|           Verified|                41233.0|      Individual|               null|                     null|2024-04-03 22:37:...|\n",
       "|48f5f55642700df71...|Operating Room Nurse|  < 1 year|      MORTGAGE|     110000.0|           MA|          011xx|            USA|    C|       C4|       Not Verified|               293446.0|       Joint App|           164000.0|             Not Verified|2024-04-03 22:37:...|\n",
       "|52c4a5fe6ba1036af...|         Uber Driver| 10+ years|           OWN|      60000.0|           NY|          114xx|            USA|    D|       D4|       Not Verified|                45100.0|      Individual|               null|                     null|2024-04-03 22:37:...|\n",
       "|6342ef1175ce7a3bd...|                null|      null|      MORTGAGE|      23376.0|           MO|          630xx|            USA|    E|       E2|       Not Verified|               169323.0|       Joint App|            69830.0|             Not Verified|2024-04-03 22:37:...|\n",
       "|f6b1fd4a689939503...|    Registered Nurse|   2 years|      MORTGAGE|      70000.0|           TN|          384xx|            USA|    A|       A3|       Not Verified|               349154.0|       Joint App|            88000.0|             Not Verified|2024-04-03 22:37:...|\n",
       "|8ca83b8beaa198e3c...| VP of Manufacturing|   4 years|      MORTGAGE|     155000.0|           TN|          370xx|            USA|    B|       B5|    Source Verified|               582343.0|      Individual|               null|                     null|2024-04-03 22:37:...|\n",
       "|2d3e3219d930f7a32...|                null|      null|          RENT|      65000.0|           NY|          124xx|            USA|    B|       B1|       Not Verified|                28596.0|      Individual|               null|                     null|2024-04-03 22:37:...|\n",
       "|fb21b3755b869cd3a...|              Driver|  < 1 year|      MORTGAGE|      58545.0|           KY|          423xx|            USA|    B|       B5|    Source Verified|               139669.0|       Joint App|            86895.0|          Source Verified|2024-04-03 22:37:...|\n",
       "|f3d0895eb0cd8d3c0...|                null|      null|      MORTGAGE|      50000.0|           TX|          782xx|            USA|    B|       B1|           Verified|               279138.0|      Individual|               null|                     null|2024-04-03 22:37:...|\n",
       "|a394b30f0f6b21810...|Veterinary assistant|   3 years|          RENT|      28800.0|           WA|          984xx|            USA|    B|       B1|       Not Verified|                21499.0|      Individual|               null|                     null|2024-04-03 22:37:...|\n",
       "+--------------------+--------------------+----------+--------------+-------------+-------------+---------------+---------------+-----+---------+-------------------+-----------------------+----------------+-------------------+-------------------------+--------------------+\n",
       "only showing top 20 rows"
      ]
     },
     "execution_count": 20,
     "metadata": {},
     "output_type": "execute_result"
    }
   ],
   "source": [
    "customers_df_unique"
   ]
  },
  {
   "cell_type": "code",
   "execution_count": 21,
   "id": "5eaca6ca",
   "metadata": {},
   "outputs": [],
   "source": [
    "customers_df_unique.createOrReplaceTempView(\"customers\")"
   ]
  },
  {
   "cell_type": "code",
   "execution_count": 22,
   "id": "f16eebb7",
   "metadata": {},
   "outputs": [
    {
     "data": {
      "text/html": [
       "<table border='1'>\n",
       "<tr><th>member_id</th><th>emp_title</th><th>emp_length</th><th>home_ownership</th><th>annual_income</th><th>address_state</th><th>address_zipcode</th><th>address_country</th><th>grade</th><th>sub_grade</th><th>verification_status</th><th>total_high_credit_limit</th><th>application_type</th><th>joint_annual_income</th><th>verification_status_joint</th><th>ingest_date</th></tr>\n",
       "<tr><td>60cbc6ce5a397c670...</td><td>Teacher</td><td>10+ years</td><td>MORTGAGE</td><td>89000.0</td><td>CA</td><td>945xx</td><td>USA</td><td>B</td><td>B5</td><td>Source Verified</td><td>423905.0</td><td>Individual</td><td>null</td><td>null</td><td>2024-04-03 22:38:...</td></tr>\n",
       "<tr><td>f644369bcc810a973...</td><td>Senior Manager</td><td>5 years</td><td>MORTGAGE</td><td>108000.0</td><td>NV</td><td>891xx</td><td>USA</td><td>A</td><td>A5</td><td>Source Verified</td><td>343100.0</td><td>Individual</td><td>null</td><td>null</td><td>2024-04-03 22:38:...</td></tr>\n",
       "<tr><td>dacdc1a4145568fee...</td><td>null</td><td>null</td><td>RENT</td><td>37000.0</td><td>NJ</td><td>080xx</td><td>USA</td><td>C</td><td>C4</td><td>Verified</td><td>22607.0</td><td>Individual</td><td>null</td><td>null</td><td>2024-04-03 22:38:...</td></tr>\n",
       "<tr><td>ec7b0b9620dc54126...</td><td>Associate Pastor</td><td>10+ years</td><td>MORTGAGE</td><td>73500.0</td><td>VA</td><td>244xx</td><td>USA</td><td>E</td><td>E1</td><td>Verified</td><td>89883.0</td><td>Individual</td><td>null</td><td>null</td><td>2024-04-03 22:38:...</td></tr>\n",
       "<tr><td>2829f2b31bb578009...</td><td>Owner/Operator</td><td>10+ years</td><td>MORTGAGE</td><td>80000.0</td><td>IL</td><td>616xx</td><td>USA</td><td>B</td><td>B4</td><td>Source Verified</td><td>299322.0</td><td>Individual</td><td>null</td><td>null</td><td>2024-04-03 22:38:...</td></tr>\n",
       "<tr><td>fd0db3755842db93c...</td><td>Process tech</td><td>4 years</td><td>OWN</td><td>55000.0</td><td>LA</td><td>707xx</td><td>USA</td><td>D</td><td>D3</td><td>Verified</td><td>67496.0</td><td>Individual</td><td>null</td><td>null</td><td>2024-04-03 22:38:...</td></tr>\n",
       "<tr><td>e65091ed9dfb3c8a1...</td><td>Patient Experienc...</td><td>7 years</td><td>MORTGAGE</td><td>37420.0</td><td>NC</td><td>287xx</td><td>USA</td><td>E</td><td>E3</td><td>Source Verified</td><td>214816.0</td><td>Individual</td><td>null</td><td>null</td><td>2024-04-03 22:38:...</td></tr>\n",
       "<tr><td>af99b513c97a99a9b...</td><td>Warehouse</td><td>4 years</td><td>RENT</td><td>35000.0</td><td>CA</td><td>917xx</td><td>USA</td><td>B</td><td>B2</td><td>Not Verified</td><td>35893.0</td><td>Individual</td><td>null</td><td>null</td><td>2024-04-03 22:38:...</td></tr>\n",
       "<tr><td>5b3d622466579ac32...</td><td>Medical Office Co...</td><td>5 years</td><td>RENT</td><td>38000.0</td><td>KS</td><td>662xx</td><td>USA</td><td>E</td><td>E2</td><td>Verified</td><td>40024.0</td><td>Individual</td><td>null</td><td>null</td><td>2024-04-03 22:38:...</td></tr>\n",
       "<tr><td>fdf9915c08f378530...</td><td>Business Anaylst</td><td>10+ years</td><td>MORTGAGE</td><td>75000.0</td><td>AZ</td><td>853xx</td><td>USA</td><td>F</td><td>F1</td><td>Source Verified</td><td>154368.0</td><td>Individual</td><td>null</td><td>null</td><td>2024-04-03 22:38:...</td></tr>\n",
       "<tr><td>eb24aa3df6af42924...</td><td>Contractor</td><td>2 years</td><td>MORTGAGE</td><td>65000.0</td><td>NC</td><td>280xx</td><td>USA</td><td>C</td><td>C1</td><td>Source Verified</td><td>351427.0</td><td>Individual</td><td>null</td><td>null</td><td>2024-04-03 22:38:...</td></tr>\n",
       "<tr><td>a1c61fbfd2a2236cb...</td><td>Pilot</td><td>10+ years</td><td>RENT</td><td>80000.0</td><td>NC</td><td>283xx</td><td>USA</td><td>C</td><td>C1</td><td>Source Verified</td><td>56001.0</td><td>Individual</td><td>null</td><td>null</td><td>2024-04-03 22:38:...</td></tr>\n",
       "<tr><td>966c323fdb4624b29...</td><td>Unit Support Tech...</td><td>5 years</td><td>MORTGAGE</td><td>41034.0</td><td>NY</td><td>122xx</td><td>USA</td><td>D</td><td>D2</td><td>Source Verified</td><td>157546.0</td><td>Individual</td><td>null</td><td>null</td><td>2024-04-03 22:38:...</td></tr>\n",
       "<tr><td>ac423b50e5a62b819...</td><td>level 5</td><td>3 years</td><td>RENT</td><td>16000.0</td><td>CA</td><td>920xx</td><td>USA</td><td>E</td><td>E3</td><td>Verified</td><td>5900.0</td><td>Individual</td><td>null</td><td>null</td><td>2024-04-03 22:38:...</td></tr>\n",
       "<tr><td>1e378bdb4311221b2...</td><td>CRM Administrator</td><td>&lt; 1 year</td><td>OWN</td><td>160000.0</td><td>CA</td><td>940xx</td><td>USA</td><td>D</td><td>D1</td><td>Not Verified</td><td>1223058.0</td><td>Individual</td><td>null</td><td>null</td><td>2024-04-03 22:38:...</td></tr>\n",
       "<tr><td>0b0d7ed340747dd6c...</td><td>military police</td><td>10+ years</td><td>MORTGAGE</td><td>59500.0</td><td>MS</td><td>392xx</td><td>USA</td><td>E</td><td>E5</td><td>Verified</td><td>263560.0</td><td>Individual</td><td>null</td><td>null</td><td>2024-04-03 22:38:...</td></tr>\n",
       "<tr><td>94bf2649bde94e22d...</td><td>null</td><td>null</td><td>OWN</td><td>18672.0</td><td>NJ</td><td>078xx</td><td>USA</td><td>D</td><td>D1</td><td>Verified</td><td>76600.0</td><td>Individual</td><td>null</td><td>null</td><td>2024-04-03 22:38:...</td></tr>\n",
       "<tr><td>2b058868e51e58802...</td><td>Senior Business A...</td><td>&lt; 1 year</td><td>MORTGAGE</td><td>105000.0</td><td>GA</td><td>300xx</td><td>USA</td><td>F</td><td>F1</td><td>Verified</td><td>427705.0</td><td>Individual</td><td>null</td><td>null</td><td>2024-04-03 22:38:...</td></tr>\n",
       "<tr><td>2df67a43ea270ce0b...</td><td>Senior Infrastruc...</td><td>1 year</td><td>MORTGAGE</td><td>148500.0</td><td>VA</td><td>236xx</td><td>USA</td><td>D</td><td>D4</td><td>Source Verified</td><td>671458.0</td><td>Individual</td><td>null</td><td>null</td><td>2024-04-03 22:38:...</td></tr>\n",
       "<tr><td>945a66a05cf081555...</td><td>Pastor</td><td>6 years</td><td>MORTGAGE</td><td>81000.0</td><td>CO</td><td>805xx</td><td>USA</td><td>E</td><td>E2</td><td>Source Verified</td><td>478548.0</td><td>Individual</td><td>null</td><td>null</td><td>2024-04-03 22:38:...</td></tr>\n",
       "</table>\n",
       "only showing top 20 rows\n"
      ],
      "text/plain": [
       "+--------------------+--------------------+----------+--------------+-------------+-------------+---------------+---------------+-----+---------+-------------------+-----------------------+----------------+-------------------+-------------------------+--------------------+\n",
       "|           member_id|           emp_title|emp_length|home_ownership|annual_income|address_state|address_zipcode|address_country|grade|sub_grade|verification_status|total_high_credit_limit|application_type|joint_annual_income|verification_status_joint|         ingest_date|\n",
       "+--------------------+--------------------+----------+--------------+-------------+-------------+---------------+---------------+-----+---------+-------------------+-----------------------+----------------+-------------------+-------------------------+--------------------+\n",
       "|fcdc404604423e734...|        EMT Advanced|   7 years|      MORTGAGE|      29000.0|           TN|          385xx|            USA|    E|       E2|           Verified|                91990.0|      Individual|               null|                     null|2024-04-03 22:38:...|\n",
       "|799d0e16ac3842b83...|             Teacher| 10+ years|      MORTGAGE|      45000.0|           FL|          329xx|            USA|    B|       B1|    Source Verified|               235218.0|      Individual|               null|                     null|2024-04-03 22:38:...|\n",
       "|93cbf0b4b2650477a...|      Vice President|   3 years|          RENT|     250000.0|           CA|          913xx|            USA|    A|       A4|    Source Verified|               141638.0|      Individual|               null|                     null|2024-04-03 22:38:...|\n",
       "|7e87dfee91b84a906...|          technician| 10+ years|      MORTGAGE|      45000.0|           CA|          959xx|            USA|    C|       C3|    Source Verified|               247304.0|      Individual|               null|                     null|2024-04-03 22:38:...|\n",
       "|53e281c1a72d8402e...|mill operator/ te...|    1 year|          RENT|      35330.0|           PA|          175xx|            USA|    E|       E1|           Verified|                33000.0|      Individual|               null|                     null|2024-04-03 22:38:...|\n",
       "|1d772d99622524403...|           Paralegal| 10+ years|      MORTGAGE|      42000.0|           MS|          391xx|            USA|    D|       D5|    Source Verified|                65372.0|      Individual|               null|                     null|2024-04-03 22:38:...|\n",
       "|fdbc9d33272b452c9...|                null|      null|      MORTGAGE|      36600.0|           IL|          626xx|            USA|    C|       C2|           Verified|               175016.0|      Individual|               null|                     null|2024-04-03 22:38:...|\n",
       "|cb9dbe57d8010af20...|                null|      null|      MORTGAGE|      65000.0|           OH|          445xx|            USA|    A|       A5|       Not Verified|                92624.0|      Individual|               null|                     null|2024-04-03 22:38:...|\n",
       "|9e0e28fb4c42ab9ab...|    Registered Nurse| 10+ years|      MORTGAGE|      55000.0|           IN|          474xx|            USA|    D|       D2|    Source Verified|               223147.0|      Individual|               null|                     null|2024-04-03 22:38:...|\n",
       "|2ead381b020485e82...|     System Engineer|   3 years|          RENT|      59000.0|           MO|          641xx|            USA|    A|       A1|       Not Verified|               117711.0|      Individual|               null|                     null|2024-04-03 22:38:...|\n",
       "|72a8203d2b3c1a910...|        truck driver|   2 years|          RENT|      58000.0|           NJ|          072xx|            USA|    C|       C1|       Not Verified|                63738.0|      Individual|               null|                     null|2024-04-03 22:38:...|\n",
       "|3b1423c0d8041c177...|          bookkeeper| 10+ years|      MORTGAGE|     100000.0|           NY|          109xx|            USA|    C|       C4|           Verified|               238823.0|      Individual|               null|                     null|2024-04-03 22:38:...|\n",
       "|c5400feee862b3cd8...| Chief Administrator| 10+ years|      MORTGAGE|      80000.0|           TX|          782xx|            USA|    A|       A4|       Not Verified|               260344.0|      Individual|               null|                     null|2024-04-03 22:38:...|\n",
       "|d57935167f098e58b...|      Music Director|   2 years|          RENT|      65000.0|           FL|          326xx|            USA|    B|       B1|    Source Verified|                68774.0|      Individual|               null|                     null|2024-04-03 22:38:...|\n",
       "|49e2286972b1bb550...|             foreman| 10+ years|      MORTGAGE|     120000.0|           WY|          820xx|            USA|    D|       D5|    Source Verified|               252910.0|      Individual|               null|                     null|2024-04-03 22:38:...|\n",
       "|c7c4dd36e19984bc5...|            Chaplain|   9 years|          RENT|      95000.0|           CA|          919xx|            USA|    C|       C3|    Source Verified|                78226.0|      Individual|               null|                     null|2024-04-03 22:38:...|\n",
       "|117fa79b6c1374b6a...|    Certified Welder| 10+ years|      MORTGAGE|      60000.0|           WV|          265xx|            USA|    A|       A3|       Not Verified|               130031.0|      Individual|               null|                     null|2024-04-03 22:38:...|\n",
       "|472ebba5b9de1d406...|              Driver| 10+ years|      MORTGAGE|      39000.0|           CA|          914xx|            USA|    A|       A2|       Not Verified|               245094.0|      Individual|               null|                     null|2024-04-03 22:38:...|\n",
       "|a054c05701325ed70...|Test Repair Speci...|   2 years|      MORTGAGE|      28000.0|           FL|          329xx|            USA|    D|       D5|    Source Verified|                67623.0|      Individual|               null|                     null|2024-04-03 22:38:...|\n",
       "|2f17fa0c1e4cdf74e...|Financial Service...|    1 year|          RENT|      35000.0|           CA|          917xx|            USA|    A|       A3|       Not Verified|                98530.0|      Individual|               null|                     null|2024-04-03 22:38:...|\n",
       "+--------------------+--------------------+----------+--------------+-------------+-------------+---------------+---------------+-----+---------+-------------------+-----------------------+----------------+-------------------+-------------------------+--------------------+\n",
       "only showing top 20 rows"
      ]
     },
     "execution_count": 22,
     "metadata": {},
     "output_type": "execute_result"
    }
   ],
   "source": [
    "spark.sql(\"select * from customers\")"
   ]
  },
  {
   "cell_type": "markdown",
   "id": "7a6519f7",
   "metadata": {},
   "source": [
    "### Question 5 Remove rows where annual income is null"
   ]
  },
  {
   "cell_type": "code",
   "execution_count": 23,
   "id": "0df57152",
   "metadata": {},
   "outputs": [
    {
     "data": {
      "text/html": [
       "<table border='1'>\n",
       "<tr><th>count</th></tr>\n",
       "<tr><td>5</td></tr>\n",
       "</table>\n"
      ],
      "text/plain": [
       "+-----+\n",
       "|count|\n",
       "+-----+\n",
       "|    5|\n",
       "+-----+"
      ]
     },
     "execution_count": 23,
     "metadata": {},
     "output_type": "execute_result"
    }
   ],
   "source": [
    "spark.sql(\"select count(*) as count from customers where annual_income is null\")"
   ]
  },
  {
   "cell_type": "code",
   "execution_count": 24,
   "id": "0a105775",
   "metadata": {},
   "outputs": [],
   "source": [
    "customers_df_filtered=spark.sql(\"select * from customers where annual_income is not null\")"
   ]
  },
  {
   "cell_type": "code",
   "execution_count": 25,
   "id": "981e8c84",
   "metadata": {},
   "outputs": [],
   "source": [
    "customers_df_filtered.createOrReplaceTempView(\"customers\")"
   ]
  },
  {
   "cell_type": "code",
   "execution_count": 26,
   "id": "fdbd0860",
   "metadata": {},
   "outputs": [
    {
     "data": {
      "text/html": [
       "<table border='1'>\n",
       "<tr><th>member_id</th><th>emp_title</th><th>emp_length</th><th>home_ownership</th><th>annual_income</th><th>address_state</th><th>address_zipcode</th><th>address_country</th><th>grade</th><th>sub_grade</th><th>verification_status</th><th>total_high_credit_limit</th><th>application_type</th><th>joint_annual_income</th><th>verification_status_joint</th><th>ingest_date</th></tr>\n",
       "<tr><td>3f98a84d321e4a6f5...</td><td>LABORER</td><td>10+ years</td><td>MORTGAGE</td><td>67000.0</td><td>PA</td><td>179xx</td><td>USA</td><td>C</td><td>C1</td><td>Verified</td><td>48166.0</td><td>Individual</td><td>null</td><td>null</td><td>2024-04-03 22:38:...</td></tr>\n",
       "<tr><td>668f6fe3f3b11ed5d...</td><td>null</td><td>null</td><td>OWN</td><td>32000.0</td><td>IL</td><td>604xx</td><td>USA</td><td>A</td><td>A4</td><td>Verified</td><td>36981.0</td><td>Individual</td><td>null</td><td>null</td><td>2024-04-03 22:38:...</td></tr>\n",
       "<tr><td>b7fb17f661ea017e4...</td><td>welder</td><td>3 years</td><td>MORTGAGE</td><td>49000.0</td><td>TX</td><td>770xx</td><td>USA</td><td>C</td><td>C2</td><td>Source Verified</td><td>131640.0</td><td>Individual</td><td>null</td><td>null</td><td>2024-04-03 22:38:...</td></tr>\n",
       "<tr><td>c1f8efe817e25c654...</td><td>Service Writer</td><td>1 year</td><td>RENT</td><td>35000.0</td><td>NV</td><td>891xx</td><td>USA</td><td>A</td><td>A5</td><td>Source Verified</td><td>86798.0</td><td>Individual</td><td>null</td><td>null</td><td>2024-04-03 22:38:...</td></tr>\n",
       "<tr><td>224fdb0bb81297cc0...</td><td>production</td><td>10+ years</td><td>OWN</td><td>70000.0</td><td>MI</td><td>482xx</td><td>USA</td><td>D</td><td>D4</td><td>Source Verified</td><td>88684.0</td><td>Individual</td><td>null</td><td>null</td><td>2024-04-03 22:38:...</td></tr>\n",
       "<tr><td>a6508d7359eec16e3...</td><td>Assistant Guest S...</td><td>5 years</td><td>MORTGAGE</td><td>45000.0</td><td>MO</td><td>657xx</td><td>USA</td><td>C</td><td>C1</td><td>Source Verified</td><td>164709.0</td><td>Individual</td><td>null</td><td>null</td><td>2024-04-03 22:38:...</td></tr>\n",
       "<tr><td>0b883d4be09797273...</td><td>Do owner</td><td>5 years</td><td>RENT</td><td>45000.0</td><td>CA</td><td>920xx</td><td>USA</td><td>E</td><td>E1</td><td>Source Verified</td><td>40159.0</td><td>Individual</td><td>null</td><td>null</td><td>2024-04-03 22:38:...</td></tr>\n",
       "<tr><td>2829f2b31bb578009...</td><td>Owner/Operator</td><td>10+ years</td><td>MORTGAGE</td><td>80000.0</td><td>IL</td><td>616xx</td><td>USA</td><td>B</td><td>B4</td><td>Source Verified</td><td>299322.0</td><td>Individual</td><td>null</td><td>null</td><td>2024-04-03 22:38:...</td></tr>\n",
       "<tr><td>27f2b90138e817f03...</td><td>International Tea...</td><td>2 years</td><td>RENT</td><td>110000.0</td><td>GA</td><td>303xx</td><td>USA</td><td>C</td><td>C5</td><td>Source Verified</td><td>131116.0</td><td>Individual</td><td>null</td><td>null</td><td>2024-04-03 22:38:...</td></tr>\n",
       "<tr><td>10c3d0ef2db9cfcd2...</td><td>Operations</td><td>5 years</td><td>MORTGAGE</td><td>170000.0</td><td>MD</td><td>206xx</td><td>USA</td><td>C</td><td>C5</td><td>Not Verified</td><td>496642.0</td><td>Individual</td><td>null</td><td>null</td><td>2024-04-03 22:38:...</td></tr>\n",
       "<tr><td>fae0c43934247858c...</td><td>Transportation Se...</td><td>&lt; 1 year</td><td>RENT</td><td>75000.0</td><td>IL</td><td>613xx</td><td>USA</td><td>B</td><td>B4</td><td>Source Verified</td><td>53992.0</td><td>Individual</td><td>null</td><td>null</td><td>2024-04-03 22:38:...</td></tr>\n",
       "<tr><td>d0a0a45b52550bdb6...</td><td>Server, Manager</td><td>1 year</td><td>RENT</td><td>45000.0</td><td>AZ</td><td>863xx</td><td>USA</td><td>B</td><td>B1</td><td>Source Verified</td><td>27397.0</td><td>Individual</td><td>null</td><td>null</td><td>2024-04-03 22:38:...</td></tr>\n",
       "<tr><td>a5c6699d9c04fdd89...</td><td>Warehouse Associate</td><td>4 years</td><td>OWN</td><td>25000.0</td><td>MI</td><td>489xx</td><td>USA</td><td>A</td><td>A5</td><td>Not Verified</td><td>25072.0</td><td>Individual</td><td>null</td><td>null</td><td>2024-04-03 22:38:...</td></tr>\n",
       "<tr><td>02e2c98ce05212348...</td><td>management</td><td>3 years</td><td>OWN</td><td>86000.0</td><td>FL</td><td>331xx</td><td>USA</td><td>B</td><td>B1</td><td>Verified</td><td>27036.0</td><td>Individual</td><td>null</td><td>null</td><td>2024-04-03 22:38:...</td></tr>\n",
       "<tr><td>2b88e8f65b072ea20...</td><td>Massage therapist</td><td>5 years</td><td>MORTGAGE</td><td>34000.0</td><td>NV</td><td>891xx</td><td>USA</td><td>D</td><td>D3</td><td>Not Verified</td><td>53799.0</td><td>Individual</td><td>null</td><td>null</td><td>2024-04-03 22:38:...</td></tr>\n",
       "<tr><td>8788a18700c7d80e5...</td><td>Territory Manager</td><td>&lt; 1 year</td><td>OWN</td><td>130000.0</td><td>NY</td><td>117xx</td><td>USA</td><td>B</td><td>B4</td><td>Source Verified</td><td>343352.0</td><td>Individual</td><td>null</td><td>null</td><td>2024-04-03 22:38:...</td></tr>\n",
       "<tr><td>cc19b28132ae7fae5...</td><td>forklift operator</td><td>10+ years</td><td>MORTGAGE</td><td>22000.0</td><td>MS</td><td>388xx</td><td>USA</td><td>B</td><td>B2</td><td>Source Verified</td><td>97138.0</td><td>Individual</td><td>null</td><td>null</td><td>2024-04-03 22:38:...</td></tr>\n",
       "<tr><td>a66a49ea8cc1151f2...</td><td>Registered Nurse</td><td>5 years</td><td>RENT</td><td>320000.0</td><td>CA</td><td>939xx</td><td>USA</td><td>C</td><td>C3</td><td>Verified</td><td>106664.0</td><td>Individual</td><td>null</td><td>null</td><td>2024-04-03 22:38:...</td></tr>\n",
       "<tr><td>eb82c5aa3148e78a1...</td><td>Training Specialist</td><td>&lt; 1 year</td><td>RENT</td><td>75500.0</td><td>VA</td><td>201xx</td><td>USA</td><td>E</td><td>E1</td><td>Source Verified</td><td>108347.0</td><td>Individual</td><td>null</td><td>null</td><td>2024-04-03 22:38:...</td></tr>\n",
       "<tr><td>9f36bdf8d1ff2a98f...</td><td>Administrator</td><td>10+ years</td><td>MORTGAGE</td><td>121000.0</td><td>MD</td><td>207xx</td><td>USA</td><td>B</td><td>B2</td><td>Source Verified</td><td>394331.0</td><td>Individual</td><td>null</td><td>null</td><td>2024-04-03 22:38:...</td></tr>\n",
       "</table>\n",
       "only showing top 20 rows\n"
      ],
      "text/plain": [
       "+--------------------+--------------------+----------+--------------+-------------+-------------+---------------+---------------+-----+---------+-------------------+-----------------------+----------------+-------------------+-------------------------+--------------------+\n",
       "|           member_id|           emp_title|emp_length|home_ownership|annual_income|address_state|address_zipcode|address_country|grade|sub_grade|verification_status|total_high_credit_limit|application_type|joint_annual_income|verification_status_joint|         ingest_date|\n",
       "+--------------------+--------------------+----------+--------------+-------------+-------------+---------------+---------------+-----+---------+-------------------+-----------------------+----------------+-------------------+-------------------------+--------------------+\n",
       "|30340726bdabe2988...| Pharmacy Supervisor| 10+ years|      MORTGAGE|     185000.0|           FL|          331xx|            USA|    A|       A5|           Verified|               827749.0|      Individual|               null|                     null|2024-04-03 22:38:...|\n",
       "|81355c5893b29f567...|             Foreman|   4 years|      MORTGAGE|      48000.0|           NC|          280xx|            USA|    C|       C3|       Not Verified|                38076.0|      Individual|               null|                     null|2024-04-03 22:38:...|\n",
       "|cc6a9f29ae6bd466d...|Sr. Engineering M...| 10+ years|      MORTGAGE|     149000.0|           PA|          194xx|            USA|    B|       B1|       Not Verified|               327991.0|      Individual|               null|                     null|2024-04-03 22:38:...|\n",
       "|15010c154a58941a2...|           Director,| 10+ years|      MORTGAGE|      90416.0|           HI|          968xx|            USA|    B|       B5|           Verified|                37060.0|      Individual|               null|                     null|2024-04-03 22:38:...|\n",
       "|8b01f1da75d8ebbf3...|Director of Opera...| 10+ years|          RENT|     129000.0|           HI|          967xx|            USA|    B|       B1|    Source Verified|               219871.0|      Individual|               null|                     null|2024-04-03 22:38:...|\n",
       "|04e7b36eecc3d56f3...|     Network Manager|   9 years|          RENT|      80000.0|           GA|          300xx|            USA|    B|       B3|    Source Verified|               219453.0|      Individual|               null|                     null|2024-04-03 22:38:...|\n",
       "|09e24e594dd3485a4...|   Financial Advisor| 10+ years|      MORTGAGE|     500000.0|           MO|          631xx|            USA|    A|       A4|           Verified|              1201750.0|      Individual|               null|                     null|2024-04-03 22:38:...|\n",
       "|2f367b32c1f8cdd6d...|                null|      null|           OWN|      30000.0|           SC|          297xx|            USA|    B|       B3|           Verified|                84300.0|      Individual|               null|                     null|2024-04-03 22:38:...|\n",
       "|8f9cd844f7e80e529...|               Diver| 10+ years|          RENT|      49920.0|           UT|          840xx|            USA|    B|       B4|    Source Verified|                39260.0|      Individual|               null|                     null|2024-04-03 22:38:...|\n",
       "|c6bda961a651c3447...|Major Account Man...|   2 years|          RENT|     107000.0|           NY|          141xx|            USA|    B|       B4|       Not Verified|                58461.0|      Individual|               null|                     null|2024-04-03 22:38:...|\n",
       "|0e009ff5b0889a77d...|      Branch Manager|   2 years|          RENT|     115000.0|           CA|          926xx|            USA|    B|       B2|    Source Verified|               110942.0|      Individual|               null|                     null|2024-04-03 22:38:...|\n",
       "|99ca3645004a46853...|   Commercial Banker| 10+ years|      MORTGAGE|      85000.0|           FL|          346xx|            USA|    A|       A4|    Source Verified|               241830.0|      Individual|               null|                     null|2024-04-03 22:38:...|\n",
       "|8aa835e9f676d4a6b...|                null|      null|      MORTGAGE|      28000.0|           GA|          309xx|            USA|    C|       C4|           Verified|               208744.0|      Individual|               null|                     null|2024-04-03 22:38:...|\n",
       "|4f0206233829def95...|       Feeder Driver|  < 1 year|      MORTGAGE|     100000.0|           OH|          436xx|            USA|    E|       E4|       Not Verified|               289382.0|       Joint App|           170000.0|             Not Verified|2024-04-03 22:38:...|\n",
       "|fb652dd60a4b708d5...|                null|      null|          RENT|      37812.0|           AZ|          853xx|            USA|    C|       C3|       Not Verified|                50773.0|       Joint App|            57456.0|             Not Verified|2024-04-03 22:38:...|\n",
       "|0c933328ede073fab...|Maintenance Assis...|  < 1 year|          RENT|      40000.0|           SD|          570xx|            USA|    C|       C3|    Source Verified|                38522.0|       Joint App|            68000.0|          Source Verified|2024-04-03 22:38:...|\n",
       "|74a9651f223c18169...|           Dock Tech| 10+ years|           OWN|      60000.0|           NJ|          070xx|            USA|    A|       A4|           Verified|               336100.0|      Individual|               null|                     null|2024-04-03 22:38:...|\n",
       "|e4b604fedae94dc7f...|Business Developm...|   5 years|           OWN|     110000.0|           MI|          490xx|            USA|    A|       A3|       Not Verified|                49532.0|      Individual|               null|                     null|2024-04-03 22:38:...|\n",
       "|841f662a9a0a6fc4d...|    Dental Assistant| 10+ years|      MORTGAGE|      33000.0|           OH|          451xx|            USA|    C|       C4|       Not Verified|                35100.0|      Individual|               null|                     null|2024-04-03 22:38:...|\n",
       "|fc1afd585d5851542...|             Teacher|   4 years|          RENT|      55000.0|           MI|          482xx|            USA|    A|       A5|    Source Verified|               181406.0|      Individual|               null|                     null|2024-04-03 22:38:...|\n",
       "+--------------------+--------------------+----------+--------------+-------------+-------------+---------------+---------------+-----+---------+-------------------+-----------------------+----------------+-------------------+-------------------------+--------------------+\n",
       "only showing top 20 rows"
      ]
     },
     "execution_count": 26,
     "metadata": {},
     "output_type": "execute_result"
    }
   ],
   "source": [
    "customers_df_filtered"
   ]
  },
  {
   "cell_type": "code",
   "execution_count": 27,
   "id": "d66ec117",
   "metadata": {},
   "outputs": [],
   "source": [
    "### Question 6 Convert emp_length to integer"
   ]
  },
  {
   "cell_type": "code",
   "execution_count": 28,
   "id": "3822633b",
   "metadata": {},
   "outputs": [
    {
     "data": {
      "text/html": [
       "<table border='1'>\n",
       "<tr><th>emp_length</th></tr>\n",
       "<tr><td>9 years</td></tr>\n",
       "<tr><td>5 years</td></tr>\n",
       "<tr><td>null</td></tr>\n",
       "<tr><td>1 year</td></tr>\n",
       "<tr><td>2 years</td></tr>\n",
       "<tr><td>7 years</td></tr>\n",
       "<tr><td>8 years</td></tr>\n",
       "<tr><td>4 years</td></tr>\n",
       "<tr><td>6 years</td></tr>\n",
       "<tr><td>3 years</td></tr>\n",
       "<tr><td>10+ years</td></tr>\n",
       "<tr><td>&lt; 1 year</td></tr>\n",
       "</table>\n"
      ],
      "text/plain": [
       "+----------+\n",
       "|emp_length|\n",
       "+----------+\n",
       "|   9 years|\n",
       "|   5 years|\n",
       "|      null|\n",
       "|    1 year|\n",
       "|   2 years|\n",
       "|   7 years|\n",
       "|   8 years|\n",
       "|   4 years|\n",
       "|   6 years|\n",
       "|   3 years|\n",
       "| 10+ years|\n",
       "|  < 1 year|\n",
       "+----------+"
      ]
     },
     "execution_count": 28,
     "metadata": {},
     "output_type": "execute_result"
    }
   ],
   "source": [
    "spark.sql(\"select distinct emp_length from customers\")"
   ]
  },
  {
   "cell_type": "code",
   "execution_count": 29,
   "id": "a6ddcc94",
   "metadata": {},
   "outputs": [],
   "source": [
    "from pyspark.sql.functions import col,regexp_replace"
   ]
  },
  {
   "cell_type": "code",
   "execution_count": 30,
   "id": "05aa0bde",
   "metadata": {},
   "outputs": [],
   "source": [
    "customers_df_emp_length=customers_df_filtered.withColumn(\"emp_length\",regexp_replace(\"emp_length\",\"(\\D)\",\"\"))"
   ]
  },
  {
   "cell_type": "code",
   "execution_count": 31,
   "id": "d3be1813",
   "metadata": {},
   "outputs": [
    {
     "name": "stdout",
     "output_type": "stream",
     "text": [
      "root\n",
      " |-- member_id: string (nullable = true)\n",
      " |-- emp_title: string (nullable = true)\n",
      " |-- emp_length: string (nullable = true)\n",
      " |-- home_ownership: string (nullable = true)\n",
      " |-- annual_income: float (nullable = true)\n",
      " |-- address_state: string (nullable = true)\n",
      " |-- address_zipcode: string (nullable = true)\n",
      " |-- address_country: string (nullable = true)\n",
      " |-- grade: string (nullable = true)\n",
      " |-- sub_grade: string (nullable = true)\n",
      " |-- verification_status: string (nullable = true)\n",
      " |-- total_high_credit_limit: float (nullable = true)\n",
      " |-- application_type: string (nullable = true)\n",
      " |-- joint_annual_income: float (nullable = true)\n",
      " |-- verification_status_joint: string (nullable = true)\n",
      " |-- ingest_date: timestamp (nullable = false)\n",
      "\n"
     ]
    }
   ],
   "source": [
    "customers_df_emp_length.printSchema()"
   ]
  },
  {
   "cell_type": "code",
   "execution_count": 32,
   "id": "85c145b1",
   "metadata": {},
   "outputs": [],
   "source": [
    "customers_df_emp_length_casted=customers_df_emp_length.withColumn(\"emp_length\",col('emp_length').cast(\"integer\"))"
   ]
  },
  {
   "cell_type": "code",
   "execution_count": 33,
   "id": "ec4da3d8",
   "metadata": {},
   "outputs": [
    {
     "name": "stdout",
     "output_type": "stream",
     "text": [
      "root\n",
      " |-- member_id: string (nullable = true)\n",
      " |-- emp_title: string (nullable = true)\n",
      " |-- emp_length: integer (nullable = true)\n",
      " |-- home_ownership: string (nullable = true)\n",
      " |-- annual_income: float (nullable = true)\n",
      " |-- address_state: string (nullable = true)\n",
      " |-- address_zipcode: string (nullable = true)\n",
      " |-- address_country: string (nullable = true)\n",
      " |-- grade: string (nullable = true)\n",
      " |-- sub_grade: string (nullable = true)\n",
      " |-- verification_status: string (nullable = true)\n",
      " |-- total_high_credit_limit: float (nullable = true)\n",
      " |-- application_type: string (nullable = true)\n",
      " |-- joint_annual_income: float (nullable = true)\n",
      " |-- verification_status_joint: string (nullable = true)\n",
      " |-- ingest_date: timestamp (nullable = false)\n",
      "\n"
     ]
    }
   ],
   "source": [
    "customers_df_emp_length_casted.printSchema()"
   ]
  },
  {
   "cell_type": "code",
   "execution_count": 34,
   "id": "b52def20",
   "metadata": {},
   "outputs": [],
   "source": [
    "customers_df_emp_length_casted.createOrReplaceTempView(\"customers\")"
   ]
  },
  {
   "cell_type": "code",
   "execution_count": 35,
   "id": "928b1c5c",
   "metadata": {},
   "outputs": [
    {
     "data": {
      "text/plain": [
       "146903"
      ]
     },
     "execution_count": 35,
     "metadata": {},
     "output_type": "execute_result"
    }
   ],
   "source": [
    "customers_df_emp_length_casted.where(\"emp_length is null\").count()"
   ]
  },
  {
   "cell_type": "code",
   "execution_count": 38,
   "id": "f9dfca7e",
   "metadata": {},
   "outputs": [],
   "source": [
    "from pyspark.sql.functions import avg,floor"
   ]
  },
  {
   "cell_type": "code",
   "execution_count": 39,
   "id": "eb1ce297",
   "metadata": {},
   "outputs": [],
   "source": [
    "avg_emp_length=customers_df_emp_length_casted.agg(floor(avg(\"emp_length\"))).collect()[0][0]"
   ]
  },
  {
   "cell_type": "code",
   "execution_count": 40,
   "id": "c5d02324",
   "metadata": {},
   "outputs": [
    {
     "name": "stdout",
     "output_type": "stream",
     "text": [
      "6\n"
     ]
    }
   ],
   "source": [
    "print(avg_emp_length)"
   ]
  },
  {
   "cell_type": "code",
   "execution_count": 41,
   "id": "3293d1d8",
   "metadata": {},
   "outputs": [],
   "source": [
    "customers_df_emp_length_replaced=customers_df_emp_length_casted.fillna(avg_emp_length,subset=[\"emp_length\"])"
   ]
  },
  {
   "cell_type": "code",
   "execution_count": 42,
   "id": "745518a8",
   "metadata": {},
   "outputs": [
    {
     "data": {
      "text/html": [
       "<table border='1'>\n",
       "<tr><th>member_id</th><th>emp_title</th><th>emp_length</th><th>home_ownership</th><th>annual_income</th><th>address_state</th><th>address_zipcode</th><th>address_country</th><th>grade</th><th>sub_grade</th><th>verification_status</th><th>total_high_credit_limit</th><th>application_type</th><th>joint_annual_income</th><th>verification_status_joint</th><th>ingest_date</th></tr>\n",
       "<tr><td>690af1677f546cf59...</td><td>Co/owner</td><td>10</td><td>MORTGAGE</td><td>160000.0</td><td>GA</td><td>302xx</td><td>USA</td><td>A</td><td>A3</td><td>Verified</td><td>344686.0</td><td>Individual</td><td>null</td><td>null</td><td>2024-04-03 22:39:...</td></tr>\n",
       "<tr><td>b1211ae57397145ed...</td><td>Training Director</td><td>9</td><td>MORTGAGE</td><td>57500.0</td><td>MO</td><td>648xx</td><td>USA</td><td>C</td><td>C4</td><td>Not Verified</td><td>184900.0</td><td>Joint App</td><td>89500.0</td><td>Not Verified</td><td>2024-04-03 22:39:...</td></tr>\n",
       "<tr><td>71e636c49c7ed313d...</td><td>Loan Processor</td><td>2</td><td>RENT</td><td>46500.0</td><td>AZ</td><td>850xx</td><td>USA</td><td>B</td><td>B1</td><td>Source Verified</td><td>71469.0</td><td>Individual</td><td>null</td><td>null</td><td>2024-04-03 22:39:...</td></tr>\n",
       "<tr><td>0c0ec688cf90b4fa3...</td><td>Engineer</td><td>1</td><td>RENT</td><td>118000.0</td><td>CA</td><td>945xx</td><td>USA</td><td>A</td><td>A3</td><td>Not Verified</td><td>266485.0</td><td>Individual</td><td>null</td><td>null</td><td>2024-04-03 22:39:...</td></tr>\n",
       "<tr><td>fef83a2d59cb8471b...</td><td>null</td><td>6</td><td>OWN</td><td>40000.0</td><td>CA</td><td>948xx</td><td>USA</td><td>B</td><td>B5</td><td>Verified</td><td>57000.0</td><td>Individual</td><td>null</td><td>null</td><td>2024-04-03 22:39:...</td></tr>\n",
       "<tr><td>036e51aa0c87cbf35...</td><td>Insurance</td><td>1</td><td>MORTGAGE</td><td>65000.0</td><td>CA</td><td>907xx</td><td>USA</td><td>B</td><td>B1</td><td>Not Verified</td><td>464344.0</td><td>Individual</td><td>null</td><td>null</td><td>2024-04-03 22:39:...</td></tr>\n",
       "<tr><td>70034f7b62a3cd8aa...</td><td>Owner</td><td>10</td><td>MORTGAGE</td><td>50000.0</td><td>TX</td><td>787xx</td><td>USA</td><td>C</td><td>C1</td><td>Not Verified</td><td>228042.0</td><td>Individual</td><td>null</td><td>null</td><td>2024-04-03 22:39:...</td></tr>\n",
       "<tr><td>95d7905b793de05a3...</td><td>Personal Consultant</td><td>1</td><td>MORTGAGE</td><td>4500.0</td><td>TX</td><td>779xx</td><td>USA</td><td>C</td><td>C3</td><td>Not Verified</td><td>566114.0</td><td>Joint App</td><td>362500.0</td><td>Not Verified</td><td>2024-04-03 22:39:...</td></tr>\n",
       "<tr><td>7cf3069cb055aaf74...</td><td>CORRECTIONAL OFFI...</td><td>5</td><td>RENT</td><td>41769.24</td><td>TX</td><td>760xx</td><td>USA</td><td>B</td><td>B3</td><td>Not Verified</td><td>294063.0</td><td>Joint App</td><td>100437.24</td><td>Not Verified</td><td>2024-04-03 22:39:...</td></tr>\n",
       "<tr><td>f13260d426266ce4e...</td><td>Social Worker</td><td>1</td><td>RENT</td><td>43000.0</td><td>NY</td><td>112xx</td><td>USA</td><td>B</td><td>B4</td><td>Not Verified</td><td>123038.0</td><td>Individual</td><td>null</td><td>null</td><td>2024-04-03 22:39:...</td></tr>\n",
       "<tr><td>37e6481fcb7f17c8b...</td><td>Operations Manager</td><td>6</td><td>RENT</td><td>78000.0</td><td>AZ</td><td>853xx</td><td>USA</td><td>B</td><td>B3</td><td>Not Verified</td><td>54231.0</td><td>Individual</td><td>null</td><td>null</td><td>2024-04-03 22:39:...</td></tr>\n",
       "<tr><td>84f990d8c5f684acf...</td><td>Warehouse Manager</td><td>1</td><td>MORTGAGE</td><td>73000.0</td><td>FL</td><td>333xx</td><td>USA</td><td>B</td><td>B1</td><td>Verified</td><td>169865.0</td><td>Joint App</td><td>140000.0</td><td>Verified</td><td>2024-04-03 22:39:...</td></tr>\n",
       "<tr><td>045a4c4120beb3e67...</td><td>null</td><td>6</td><td>RENT</td><td>45014.0</td><td>GA</td><td>312xx</td><td>USA</td><td>D</td><td>D3</td><td>Not Verified</td><td>90115.0</td><td>Individual</td><td>null</td><td>null</td><td>2024-04-03 22:39:...</td></tr>\n",
       "<tr><td>122b9d85b1d78f733...</td><td>Teacher</td><td>10</td><td>MORTGAGE</td><td>60000.0</td><td>MI</td><td>490xx</td><td>USA</td><td>D</td><td>D2</td><td>Verified</td><td>276128.0</td><td>Individual</td><td>null</td><td>null</td><td>2024-04-03 22:39:...</td></tr>\n",
       "<tr><td>2594c20a2b7b4894a...</td><td>Owner</td><td>2</td><td>RENT</td><td>45000.0</td><td>MS</td><td>386xx</td><td>USA</td><td>B</td><td>B2</td><td>Not Verified</td><td>43700.0</td><td>Joint App</td><td>113000.0</td><td>Not Verified</td><td>2024-04-03 22:39:...</td></tr>\n",
       "<tr><td>64852d635d58ad6cc...</td><td>General Manager</td><td>10</td><td>MORTGAGE</td><td>130000.0</td><td>NV</td><td>890xx</td><td>USA</td><td>D</td><td>D2</td><td>Not Verified</td><td>435651.0</td><td>Individual</td><td>null</td><td>null</td><td>2024-04-03 22:39:...</td></tr>\n",
       "<tr><td>2d2c5f4e85433c8bd...</td><td>Grievance analysy</td><td>3</td><td>MORTGAGE</td><td>53000.0</td><td>AZ</td><td>851xx</td><td>USA</td><td>B</td><td>B3</td><td>Source Verified</td><td>216167.0</td><td>Individual</td><td>null</td><td>null</td><td>2024-04-03 22:39:...</td></tr>\n",
       "<tr><td>8e69dbb9e37083ca2...</td><td>Title Processor</td><td>4</td><td>MORTGAGE</td><td>60000.0</td><td>FL</td><td>328xx</td><td>USA</td><td>B</td><td>B3</td><td>Not Verified</td><td>30426.0</td><td>Individual</td><td>null</td><td>null</td><td>2024-04-03 22:39:...</td></tr>\n",
       "<tr><td>38e641a39647035e5...</td><td>Project Manager</td><td>3</td><td>OWN</td><td>75000.0</td><td>MO</td><td>630xx</td><td>USA</td><td>C</td><td>C4</td><td>Verified</td><td>137624.0</td><td>Individual</td><td>null</td><td>null</td><td>2024-04-03 22:39:...</td></tr>\n",
       "<tr><td>ee3707e8172e71fc3...</td><td>Massage therapist</td><td>1</td><td>RENT</td><td>45000.0</td><td>NC</td><td>282xx</td><td>USA</td><td>D</td><td>D1</td><td>Source Verified</td><td>37140.0</td><td>Individual</td><td>null</td><td>null</td><td>2024-04-03 22:39:...</td></tr>\n",
       "</table>\n",
       "only showing top 20 rows\n"
      ],
      "text/plain": [
       "+--------------------+--------------------+----------+--------------+-------------+-------------+---------------+---------------+-----+---------+-------------------+-----------------------+----------------+-------------------+-------------------------+--------------------+\n",
       "|           member_id|           emp_title|emp_length|home_ownership|annual_income|address_state|address_zipcode|address_country|grade|sub_grade|verification_status|total_high_credit_limit|application_type|joint_annual_income|verification_status_joint|         ingest_date|\n",
       "+--------------------+--------------------+----------+--------------+-------------+-------------+---------------+---------------+-----+---------+-------------------+-----------------------+----------------+-------------------+-------------------------+--------------------+\n",
       "|9f1be1fd464b01d91...|    Registered Nurse|         4|          RENT|      51832.0|           NY|          121xx|            USA|    B|       B4|    Source Verified|                40200.0|      Individual|               null|                     null|2024-04-03 22:39:...|\n",
       "|9b59da30e32fad1c3...|Paramedic Supervisor|        10|      MORTGAGE|      72000.0|           MO|          652xx|            USA|    A|       A1|       Not Verified|               311272.0|      Individual|               null|                     null|2024-04-03 22:39:...|\n",
       "|652be42f6a4fac663...|                null|         6|      MORTGAGE|      33948.0|           OK|          730xx|            USA|    D|       D3|           Verified|                82031.0|      Individual|               null|                     null|2024-04-03 22:39:...|\n",
       "|8c7dcc1a3c9cc895c...|   medical assistant|         3|          RENT|      36000.0|           NJ|          070xx|            USA|    D|       D1|    Source Verified|                30250.0|      Individual|               null|                     null|2024-04-03 22:39:...|\n",
       "|ae85ff4f213645595...|      Fiscal Analyst|         7|          RENT|      38000.0|           NY|          111xx|            USA|    C|       C2|    Source Verified|                61182.0|      Individual|               null|                     null|2024-04-03 22:39:...|\n",
       "|beb765e92fcdc7cdd...|             laborer|         1|          RENT|      25000.0|           NY|          145xx|            USA|    C|       C2|    Source Verified|                14322.0|      Individual|               null|                     null|2024-04-03 22:39:...|\n",
       "|f866ae5c14535b997...|         Maintenance|        10|           OWN|      35000.0|           TX|          754xx|            USA|    B|       B5|       Not Verified|                51247.0|      Individual|               null|                     null|2024-04-03 22:39:...|\n",
       "|ab9c2d2e6fa0ddb20...|     Project Manager|        10|      MORTGAGE|     115000.0|           MI|          483xx|            USA|    E|       E4|    Source Verified|               601300.0|      Individual|               null|                     null|2024-04-03 22:39:...|\n",
       "|871f4560daf767aa9...|                null|         6|      MORTGAGE|      66000.0|           CA|          933xx|            USA|    C|       C3|       Not Verified|               256100.0|      Individual|               null|                     null|2024-04-03 22:39:...|\n",
       "|09dc98a9efbb99349...|            Operator|        10|          RENT|     100000.0|           VA|          238xx|            USA|    D|       D2|           Verified|               125467.0|      Individual|               null|                     null|2024-04-03 22:39:...|\n",
       "|4e14f342eb8641eed...|Customer Service ...|         3|          RENT|      60236.8|           PA|          191xx|            USA|    D|       D1|    Source Verified|                45200.0|      Individual|               null|                     null|2024-04-03 22:39:...|\n",
       "|c884f8c8fdf5a0363...|Supervisor Interv...|        10|      MORTGAGE|      80000.0|           GA|          300xx|            USA|    A|       A5|    Source Verified|               441252.0|      Individual|               null|                     null|2024-04-03 22:39:...|\n",
       "|119a656795246c5c5...|HR Technology Ana...|        10|          RENT|     125900.0|           CA|          902xx|            USA|    F|       F1|           Verified|                71244.0|      Individual|               null|                     null|2024-04-03 22:39:...|\n",
       "|32daa8857d119ce3b...|                null|         6|      MORTGAGE|      40000.0|           TX|          787xx|            USA|    C|       C2|    Source Verified|               149379.0|      Individual|               null|                     null|2024-04-03 22:39:...|\n",
       "|741ad4093252b6d16...|    Training Manager|        10|      MORTGAGE|      79000.0|           NY|          145xx|            USA|    A|       A1|       Not Verified|               239572.0|      Individual|               null|                     null|2024-04-03 22:39:...|\n",
       "|e5162e5f15b466557...|AVP, Service Spec...|         8|          RENT|      64600.0|           MA|          021xx|            USA|    B|       B4|    Source Verified|                44104.0|      Individual|               null|                     null|2024-04-03 22:39:...|\n",
       "|13fd8d7f11b76d859...|Clinical Program ...|         9|      MORTGAGE|     108000.0|           MN|          553xx|            USA|    B|       B1|    Source Verified|               195936.0|      Individual|               null|                     null|2024-04-03 22:39:...|\n",
       "|e2259cb993f0c1ee0...|             Analyst|         2|      MORTGAGE|      52000.0|           TX|          774xx|            USA|    B|       B4|           Verified|               304324.0|      Individual|               null|                     null|2024-04-03 22:39:...|\n",
       "|a4223dde60abd93af...|     Legal Assistant|         9|      MORTGAGE|      66000.0|           CA|          900xx|            USA|    E|       E1|    Source Verified|               475333.0|      Individual|               null|                     null|2024-04-03 22:39:...|\n",
       "|326dec53dbea508bd...| Sr systems engineer|        10|      MORTGAGE|     125000.0|           VA|          226xx|            USA|    E|       E2|           Verified|               397104.0|      Individual|               null|                     null|2024-04-03 22:39:...|\n",
       "+--------------------+--------------------+----------+--------------+-------------+-------------+---------------+---------------+-----+---------+-------------------+-----------------------+----------------+-------------------+-------------------------+--------------------+\n",
       "only showing top 20 rows"
      ]
     },
     "execution_count": 42,
     "metadata": {},
     "output_type": "execute_result"
    }
   ],
   "source": [
    "customers_df_emp_length_replaced"
   ]
  },
  {
   "cell_type": "markdown",
   "id": "ca19596f",
   "metadata": {},
   "source": [
    "### Question 8: Clean the address state, it should be 2 characters only replace all others with NA"
   ]
  },
  {
   "cell_type": "code",
   "execution_count": 43,
   "id": "531d88d5",
   "metadata": {},
   "outputs": [
    {
     "data": {
      "text/html": [
       "<table border='1'>\n",
       "<tr><th>address_state</th></tr>\n",
       "<tr><td>Helping Kenya&#x27;s D...</td></tr>\n",
       "<tr><td>223xx</td></tr>\n",
       "<tr><td>175 (total projec...</td></tr>\n",
       "<tr><td>AZ</td></tr>\n",
       "<tr><td>SC</td></tr>\n",
       "<tr><td>so Plan &quot;&quot;C&quot;&quot; is ...</td></tr>\n",
       "<tr><td>I am 56 yrs. old ...</td></tr>\n",
       "<tr><td>financially I mad...</td></tr>\n",
       "<tr><td>but no one will l...</td></tr>\n",
       "<tr><td>LA</td></tr>\n",
       "<tr><td>etc.  First</td></tr>\n",
       "<tr><td>MN</td></tr>\n",
       "<tr><td>850xx</td></tr>\n",
       "<tr><td>yet Capital One n...</td></tr>\n",
       "<tr><td>499xx</td></tr>\n",
       "<tr><td>Eliminating Credi...</td></tr>\n",
       "<tr><td>Advocate business...</td></tr>\n",
       "<tr><td>and MBA&#x27;s are ove...</td></tr>\n",
       "<tr><td>I the credit card...</td></tr>\n",
       "<tr><td>662xx</td></tr>\n",
       "</table>\n",
       "only showing top 20 rows\n"
      ],
      "text/plain": [
       "+--------------------+\n",
       "|       address_state|\n",
       "+--------------------+\n",
       "|Helping Kenya's D...|\n",
       "|175 (total projec...|\n",
       "|               223xx|\n",
       "|                  AZ|\n",
       "|                  SC|\n",
       "|so Plan \"\"C\"\" is ...|\n",
       "|I am 56 yrs. old ...|\n",
       "|financially I mad...|\n",
       "|but no one will l...|\n",
       "|                  LA|\n",
       "|         etc.  First|\n",
       "|                  MN|\n",
       "|               850xx|\n",
       "|yet Capital One n...|\n",
       "|               499xx|\n",
       "|Eliminating Credi...|\n",
       "|Advocate business...|\n",
       "|and MBA's are ove...|\n",
       "|               662xx|\n",
       "|               951xx|\n",
       "+--------------------+\n",
       "only showing top 20 rows"
      ]
     },
     "execution_count": 43,
     "metadata": {},
     "output_type": "execute_result"
    }
   ],
   "source": [
    "customers_df_emp_length_replaced.select(\"address_state\").distinct()"
   ]
  },
  {
   "cell_type": "code",
   "execution_count": 46,
   "id": "1136a511",
   "metadata": {},
   "outputs": [],
   "source": [
    "from pyspark.sql.functions import when,length"
   ]
  },
  {
   "cell_type": "code",
   "execution_count": 47,
   "id": "9233af29",
   "metadata": {},
   "outputs": [],
   "source": [
    "customers_cleaned=customers_df_emp_length_replaced.withColumn(\"address_state\",when(length(col('address_state'))>2,\"NA\").otherwise(col('address_state')))"
   ]
  },
  {
   "cell_type": "code",
   "execution_count": 48,
   "id": "a9caf365",
   "metadata": {},
   "outputs": [
    {
     "data": {
      "text/html": [
       "<table border='1'>\n",
       "<tr><th>address_state</th></tr>\n",
       "<tr><td>SC</td></tr>\n",
       "<tr><td>AZ</td></tr>\n",
       "<tr><td>LA</td></tr>\n",
       "<tr><td>MN</td></tr>\n",
       "<tr><td>NJ</td></tr>\n",
       "<tr><td>DC</td></tr>\n",
       "<tr><td>OR</td></tr>\n",
       "<tr><td>NA</td></tr>\n",
       "<tr><td>VA</td></tr>\n",
       "<tr><td>null</td></tr>\n",
       "<tr><td>RI</td></tr>\n",
       "<tr><td>KY</td></tr>\n",
       "<tr><td>WY</td></tr>\n",
       "<tr><td>NH</td></tr>\n",
       "<tr><td>MI</td></tr>\n",
       "<tr><td>NV</td></tr>\n",
       "<tr><td>WI</td></tr>\n",
       "<tr><td>ID</td></tr>\n",
       "<tr><td>CA</td></tr>\n",
       "<tr><td>CT</td></tr>\n",
       "</table>\n",
       "only showing top 20 rows\n"
      ],
      "text/plain": [
       "+-------------+\n",
       "|address_state|\n",
       "+-------------+\n",
       "|           AZ|\n",
       "|           SC|\n",
       "|           LA|\n",
       "|           MN|\n",
       "|           NJ|\n",
       "|           DC|\n",
       "|           OR|\n",
       "|           NA|\n",
       "|           VA|\n",
       "|         null|\n",
       "|           RI|\n",
       "|           KY|\n",
       "|           WY|\n",
       "|           NH|\n",
       "|           MI|\n",
       "|           NV|\n",
       "|           WI|\n",
       "|           ID|\n",
       "|           CA|\n",
       "|           NE|\n",
       "+-------------+\n",
       "only showing top 20 rows"
      ]
     },
     "execution_count": 48,
     "metadata": {},
     "output_type": "execute_result"
    }
   ],
   "source": [
    "customers_cleaned.select(\"address_state\").distinct()"
   ]
  },
  {
   "cell_type": "markdown",
   "id": "5cd97dfc",
   "metadata": {},
   "source": [
    "### Write the files in parquet format back to the disk"
   ]
  },
  {
   "cell_type": "code",
   "execution_count": 49,
   "id": "0c3164d8",
   "metadata": {},
   "outputs": [],
   "source": [
    "customers_cleaned.write.format(\"parquet\").mode(\"overwrite\").option(\"path\",\"/user/itv007136/lendingclubproject/cleaned/customers_parquet\").save()"
   ]
  },
  {
   "cell_type": "code",
   "execution_count": 51,
   "id": "d07f0272",
   "metadata": {},
   "outputs": [],
   "source": [
    "customers_cleaned.write.format(\"csv\").mode(\"overwrite\").option(\"path\",\"/user/itv007136/lendingclubproject/cleaned/customers_csv\").save()"
   ]
  },
  {
   "cell_type": "code",
   "execution_count": null,
   "id": "b65d1df7",
   "metadata": {},
   "outputs": [],
   "source": []
  }
 ],
 "metadata": {
  "kernelspec": {
   "display_name": "Pyspark 3",
   "language": "python",
   "name": "pyspark3"
  },
  "language_info": {
   "codemirror_mode": {
    "name": "ipython",
    "version": 3
   },
   "file_extension": ".py",
   "mimetype": "text/x-python",
   "name": "python",
   "nbconvert_exporter": "python",
   "pygments_lexer": "ipython3",
   "version": "3.6.12"
  }
 },
 "nbformat": 4,
 "nbformat_minor": 5
}
