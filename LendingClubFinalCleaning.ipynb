{
 "cells": [
  {
   "cell_type": "code",
   "execution_count": 43,
   "id": "2bd24d31",
   "metadata": {},
   "outputs": [],
   "source": [
    "from pyspark.sql import SparkSession\n",
    "import getpass\n",
    "username = getpass.getuser()\n",
    "spark = SparkSession. \\\n",
    "builder. \\\n",
    "config('spark.ui.port','0'). \\\n",
    "config('spark.shuffle.useOldFetchProtocol','true'). \\\n",
    "config(\"spark.sql.warehouse.dir\", f\"/user/itv007136/warehouse\"). \\\n",
    "enableHiveSupport(). \\\n",
    "master('yarn'). \\\n",
    "getOrCreate()"
   ]
  },
  {
   "cell_type": "code",
   "execution_count": 44,
   "id": "0e0e564f",
   "metadata": {},
   "outputs": [
    {
     "data": {
      "text/html": [
       "\n",
       "            <div>\n",
       "                <p><b>SparkSession - hive</b></p>\n",
       "                \n",
       "        <div>\n",
       "            <p><b>SparkContext</b></p>\n",
       "\n",
       "            <p><a href=\"http://g01.itversity.com:43193\">Spark UI</a></p>\n",
       "\n",
       "            <dl>\n",
       "              <dt>Version</dt>\n",
       "                <dd><code>v3.1.2</code></dd>\n",
       "              <dt>Master</dt>\n",
       "                <dd><code>yarn</code></dd>\n",
       "              <dt>AppName</dt>\n",
       "                <dd><code>pyspark-shell</code></dd>\n",
       "            </dl>\n",
       "        </div>\n",
       "        \n",
       "            </div>\n",
       "        "
      ],
      "text/plain": [
       "<pyspark.sql.session.SparkSession at 0x7f073df0ed30>"
      ]
     },
     "execution_count": 44,
     "metadata": {},
     "output_type": "execute_result"
    }
   ],
   "source": [
    "spark"
   ]
  },
  {
   "cell_type": "code",
   "execution_count": 3,
   "id": "12b740c8",
   "metadata": {},
   "outputs": [
    {
     "data": {
      "text/html": [
       "<table border='1'>\n",
       "<tr><th>member_id</th><th>total</th></tr>\n",
       "<tr><td>e4c167053d5418230...</td><td>5</td></tr>\n",
       "<tr><td>ad8e5d384dae17e06...</td><td>4</td></tr>\n",
       "<tr><td>76b577467eda5bdbc...</td><td>4</td></tr>\n",
       "<tr><td>3f87585a20f702838...</td><td>4</td></tr>\n",
       "<tr><td>819453be77718d747...</td><td>3</td></tr>\n",
       "<tr><td>c92062bb371842b3d...</td><td>3</td></tr>\n",
       "<tr><td>035bf3d8288d803bd...</td><td>3</td></tr>\n",
       "<tr><td>53789bea7edc660ed...</td><td>3</td></tr>\n",
       "<tr><td>291ca1b09ef11ca3e...</td><td>3</td></tr>\n",
       "<tr><td>4ab6205de571ccb7b...</td><td>3</td></tr>\n",
       "<tr><td>d3731bad3e6a82515...</td><td>3</td></tr>\n",
       "<tr><td>22593a1870543b2db...</td><td>3</td></tr>\n",
       "<tr><td>3ae415acd6bbfaac1...</td><td>3</td></tr>\n",
       "<tr><td>e7d8d16928817ec8f...</td><td>3</td></tr>\n",
       "<tr><td>498bb6b1f0099cb47...</td><td>3</td></tr>\n",
       "<tr><td>a2356725aa9da92c6...</td><td>3</td></tr>\n",
       "<tr><td>5d52e7773cb0efff3...</td><td>3</td></tr>\n",
       "<tr><td>c563428cb58da48ff...</td><td>3</td></tr>\n",
       "<tr><td>066ddaa64bee66dff...</td><td>3</td></tr>\n",
       "<tr><td>059d401bb603d9a80...</td><td>3</td></tr>\n",
       "</table>\n",
       "only showing top 20 rows\n"
      ],
      "text/plain": [
       "+--------------------+-----+\n",
       "|           member_id|total|\n",
       "+--------------------+-----+\n",
       "|e4c167053d5418230...|    5|\n",
       "|76b577467eda5bdbc...|    4|\n",
       "|3f87585a20f702838...|    4|\n",
       "|ad8e5d384dae17e06...|    4|\n",
       "|a2356725aa9da92c6...|    3|\n",
       "|22593a1870543b2db...|    3|\n",
       "|d3731bad3e6a82515...|    3|\n",
       "|3ae415acd6bbfaac1...|    3|\n",
       "|498bb6b1f0099cb47...|    3|\n",
       "|5d52e7773cb0efff3...|    3|\n",
       "|035bf3d8288d803bd...|    3|\n",
       "|066ddaa64bee66dff...|    3|\n",
       "|059d401bb603d9a80...|    3|\n",
       "|53789bea7edc660ed...|    3|\n",
       "|819453be77718d747...|    3|\n",
       "|e7d8d16928817ec8f...|    3|\n",
       "|291ca1b09ef11ca3e...|    3|\n",
       "|4ab6205de571ccb7b...|    3|\n",
       "|c563428cb58da48ff...|    3|\n",
       "|c92062bb371842b3d...|    3|\n",
       "+--------------------+-----+\n",
       "only showing top 20 rows"
      ]
     },
     "execution_count": 3,
     "metadata": {},
     "output_type": "execute_result"
    }
   ],
   "source": [
    "spark.sql(\"\"\"\n",
    "select member_id,count(*) as total from itv007136_lending_club.customers\n",
    "group by member_id\n",
    "order by total desc\n",
    "\"\"\")"
   ]
  },
  {
   "cell_type": "code",
   "execution_count": 4,
   "id": "0f1d0a14",
   "metadata": {},
   "outputs": [
    {
     "data": {
      "text/html": [
       "<table border='1'>\n",
       "<tr><th>member_id</th><th>total</th></tr>\n",
       "<tr><td>e4c167053d5418230...</td><td>3</td></tr>\n",
       "<tr><td>f1ebb6edb9b07de5f...</td><td>2</td></tr>\n",
       "<tr><td>0b44a10bc749eabb2...</td><td>2</td></tr>\n",
       "<tr><td>db887c1d4cb004ca8...</td><td>2</td></tr>\n",
       "<tr><td>6c2b63ff231e520d4...</td><td>2</td></tr>\n",
       "<tr><td>62394e3f9d063413b...</td><td>2</td></tr>\n",
       "<tr><td>dbe5ec23d01598dbf...</td><td>2</td></tr>\n",
       "<tr><td>c23eb88fed4893030...</td><td>2</td></tr>\n",
       "<tr><td>bbe43331566910d55...</td><td>2</td></tr>\n",
       "<tr><td>a93a44c9d83793451...</td><td>2</td></tr>\n",
       "<tr><td>58dde656f747cee8b...</td><td>2</td></tr>\n",
       "<tr><td>77db5fdf951dd04b2...</td><td>2</td></tr>\n",
       "<tr><td>4f7579700cd9d49d7...</td><td>2</td></tr>\n",
       "<tr><td>17d76ba5141e1c33a...</td><td>2</td></tr>\n",
       "<tr><td>343344c3c65b023af...</td><td>2</td></tr>\n",
       "<tr><td>c16e1f92ae5ccc785...</td><td>2</td></tr>\n",
       "<tr><td>8d2c605c7ad9209cc...</td><td>2</td></tr>\n",
       "<tr><td>cbede54df344cdb94...</td><td>2</td></tr>\n",
       "<tr><td>6918b9861ba5a4c67...</td><td>2</td></tr>\n",
       "<tr><td>b5ded5638e54e1692...</td><td>2</td></tr>\n",
       "</table>\n",
       "only showing top 20 rows\n"
      ],
      "text/plain": [
       "+--------------------+-----+\n",
       "|           member_id|total|\n",
       "+--------------------+-----+\n",
       "|e4c167053d5418230...|    3|\n",
       "|f1ebb6edb9b07de5f...|    2|\n",
       "|8d2c605c7ad9209cc...|    2|\n",
       "|db887c1d4cb004ca8...|    2|\n",
       "|694c6cb86608015e9...|    2|\n",
       "|0b44a10bc749eabb2...|    2|\n",
       "|17d76ba5141e1c33a...|    2|\n",
       "|c23eb88fed4893030...|    2|\n",
       "|6918b9861ba5a4c67...|    2|\n",
       "|6c2b63ff231e520d4...|    2|\n",
       "|77db5fdf951dd04b2...|    2|\n",
       "|62394e3f9d063413b...|    2|\n",
       "|4f7579700cd9d49d7...|    2|\n",
       "|dbe5ec23d01598dbf...|    2|\n",
       "|c16e1f92ae5ccc785...|    2|\n",
       "|343344c3c65b023af...|    2|\n",
       "|cbede54df344cdb94...|    2|\n",
       "|bbe43331566910d55...|    2|\n",
       "|b5ded5638e54e1692...|    2|\n",
       "|a93a44c9d83793451...|    2|\n",
       "+--------------------+-----+\n",
       "only showing top 20 rows"
      ]
     },
     "execution_count": 4,
     "metadata": {},
     "output_type": "execute_result"
    }
   ],
   "source": [
    "spark.sql(\"\"\"\n",
    "select member_id,count(*) as total from itv007136_lending_club.loans_defaulters_delinq\n",
    "group by member_id\n",
    "order by total desc\n",
    "\"\"\")"
   ]
  },
  {
   "cell_type": "code",
   "execution_count": 5,
   "id": "279db4d4",
   "metadata": {},
   "outputs": [
    {
     "data": {
      "text/html": [
       "<table border='1'>\n",
       "<tr><th>member_id</th><th>total</th></tr>\n",
       "<tr><td>e3b0c44298fc1c149...</td><td>33</td></tr>\n",
       "<tr><td>e4c167053d5418230...</td><td>5</td></tr>\n",
       "<tr><td>3f87585a20f702838...</td><td>4</td></tr>\n",
       "<tr><td>76b577467eda5bdbc...</td><td>4</td></tr>\n",
       "<tr><td>ad8e5d384dae17e06...</td><td>4</td></tr>\n",
       "<tr><td>3ae415acd6bbfaac1...</td><td>3</td></tr>\n",
       "<tr><td>066ddaa64bee66dff...</td><td>3</td></tr>\n",
       "<tr><td>d9ce4046daf599732...</td><td>3</td></tr>\n",
       "<tr><td>22593a1870543b2db...</td><td>3</td></tr>\n",
       "<tr><td>819453be77718d747...</td><td>3</td></tr>\n",
       "<tr><td>4ab6205de571ccb7b...</td><td>3</td></tr>\n",
       "<tr><td>035bf3d8288d803bd...</td><td>3</td></tr>\n",
       "<tr><td>f54295a60946dedad...</td><td>3</td></tr>\n",
       "<tr><td>e7d8d16928817ec8f...</td><td>3</td></tr>\n",
       "<tr><td>291ca1b09ef11ca3e...</td><td>3</td></tr>\n",
       "<tr><td>53789bea7edc660ed...</td><td>3</td></tr>\n",
       "<tr><td>a2356725aa9da92c6...</td><td>3</td></tr>\n",
       "<tr><td>5d52e7773cb0efff3...</td><td>3</td></tr>\n",
       "<tr><td>c563428cb58da48ff...</td><td>3</td></tr>\n",
       "<tr><td>059d401bb603d9a80...</td><td>3</td></tr>\n",
       "</table>\n",
       "only showing top 20 rows\n"
      ],
      "text/plain": [
       "+--------------------+-----+\n",
       "|           member_id|total|\n",
       "+--------------------+-----+\n",
       "|e3b0c44298fc1c149...|   33|\n",
       "|e4c167053d5418230...|    5|\n",
       "|3f87585a20f702838...|    4|\n",
       "|ad8e5d384dae17e06...|    4|\n",
       "|76b577467eda5bdbc...|    4|\n",
       "|c92062bb371842b3d...|    3|\n",
       "|22593a1870543b2db...|    3|\n",
       "|035bf3d8288d803bd...|    3|\n",
       "|53789bea7edc660ed...|    3|\n",
       "|291ca1b09ef11ca3e...|    3|\n",
       "|5d52e7773cb0efff3...|    3|\n",
       "|d3731bad3e6a82515...|    3|\n",
       "|3ae415acd6bbfaac1...|    3|\n",
       "|e7d8d16928817ec8f...|    3|\n",
       "|498bb6b1f0099cb47...|    3|\n",
       "|a2356725aa9da92c6...|    3|\n",
       "|4ab6205de571ccb7b...|    3|\n",
       "|c563428cb58da48ff...|    3|\n",
       "|059d401bb603d9a80...|    3|\n",
       "|066ddaa64bee66dff...|    3|\n",
       "+--------------------+-----+\n",
       "only showing top 20 rows"
      ]
     },
     "execution_count": 5,
     "metadata": {},
     "output_type": "execute_result"
    }
   ],
   "source": [
    "spark.sql(\"\"\"\n",
    "select member_id,count(*) as total from itv007136_lending_club.loans_defaulters_detail_rec_enq\n",
    "group by member_id\n",
    "order by total desc\n",
    "\"\"\")"
   ]
  },
  {
   "cell_type": "code",
   "execution_count": 45,
   "id": "d7a1fc83",
   "metadata": {},
   "outputs": [],
   "source": [
    "bad_data_customers_df=spark.sql(\"\"\" select member_id from\n",
    "(select member_id,count(*) as total from itv007136_lending_club.customers\n",
    "group by member_id having total>1)\n",
    "\"\"\")"
   ]
  },
  {
   "cell_type": "code",
   "execution_count": 46,
   "id": "7f3ee32a",
   "metadata": {},
   "outputs": [
    {
     "data": {
      "text/plain": [
       "3157"
      ]
     },
     "execution_count": 46,
     "metadata": {},
     "output_type": "execute_result"
    }
   ],
   "source": [
    "bad_data_customers_df.count()"
   ]
  },
  {
   "cell_type": "code",
   "execution_count": 47,
   "id": "67934dbe",
   "metadata": {},
   "outputs": [],
   "source": [
    "bad_data_loans_defaulters_delinq_df=spark.sql(\"\"\" select member_id from(\n",
    "select member_id,count(*) as total from itv007136_lending_club.loans_defaulters_delinq\n",
    "group by member_id\n",
    "having total>1)\n",
    "\"\"\")"
   ]
  },
  {
   "cell_type": "code",
   "execution_count": 48,
   "id": "a5f42566",
   "metadata": {},
   "outputs": [
    {
     "data": {
      "text/plain": [
       "173"
      ]
     },
     "execution_count": 48,
     "metadata": {},
     "output_type": "execute_result"
    }
   ],
   "source": [
    "bad_data_loans_defaulters_delinq_df.count()"
   ]
  },
  {
   "cell_type": "code",
   "execution_count": 49,
   "id": "7337a937",
   "metadata": {},
   "outputs": [],
   "source": [
    "bad_data_loans_defaulters_detail_rec_enq_df=spark.sql(\"\"\"select * from\n",
    "(select member_id,count(*) as total from itv007136_lending_club.loans_defaulters_detail_rec_enq\n",
    "group by member_id\n",
    "having total>1)\n",
    "\"\"\")"
   ]
  },
  {
   "cell_type": "code",
   "execution_count": 50,
   "id": "fb7091c4",
   "metadata": {},
   "outputs": [
    {
     "data": {
      "text/plain": [
       "3189"
      ]
     },
     "execution_count": 50,
     "metadata": {},
     "output_type": "execute_result"
    }
   ],
   "source": [
    "bad_data_loans_defaulters_detail_rec_enq_df.count()"
   ]
  },
  {
   "cell_type": "code",
   "execution_count": 23,
   "id": "375b2b25",
   "metadata": {},
   "outputs": [],
   "source": [
    "bad_data_customers_df.repartition(1).write.format(\"csv\").option(\"header\",\"true\").mode(\"overwrite\").option(\"path\",\"/user/itv007136/lendingclubproject/bad/bad_data_customers\").save()"
   ]
  },
  {
   "cell_type": "code",
   "execution_count": 24,
   "id": "441396d0",
   "metadata": {},
   "outputs": [],
   "source": [
    "bad_data_loans_defaulters_delinq_df.repartition(1).write.format(\"csv\").option(\"header\",\"true\").mode(\"overwrite\").option(\"path\",\"/user/itv007136/lendingclubproject/bad/bad_data_loans_defaulters_delinq\").save()"
   ]
  },
  {
   "cell_type": "code",
   "execution_count": 25,
   "id": "844d9967",
   "metadata": {},
   "outputs": [],
   "source": [
    "bad_data_loans_defaulters_detail_rec_enq_df.repartition(1).write.format(\"csv\").option(\"header\",\"true\").mode(\"overwrite\").option(\"path\",\"/user/itv007136/lendingclubproject/bad/bad_data_loans_defaulters_detail_enq\").save()"
   ]
  },
  {
   "cell_type": "code",
   "execution_count": 51,
   "id": "4281a801",
   "metadata": {},
   "outputs": [],
   "source": [
    "bad_customers_data_df=bad_data_customers_df.select(\"member_id\"). \\\n",
    "union(bad_data_loans_defaulters_delinq_df.select(\"member_id\")). \\\n",
    "union(bad_data_loans_defaulters_detail_rec_enq_df.select(\"member_id\"))"
   ]
  },
  {
   "cell_type": "code",
   "execution_count": 52,
   "id": "044d44dd",
   "metadata": {},
   "outputs": [],
   "source": [
    "bad_customers_data_final_df=bad_customers_data_df.distinct()"
   ]
  },
  {
   "cell_type": "code",
   "execution_count": 53,
   "id": "2764d894",
   "metadata": {},
   "outputs": [
    {
     "data": {
      "text/plain": [
       "3189"
      ]
     },
     "execution_count": 53,
     "metadata": {},
     "output_type": "execute_result"
    }
   ],
   "source": [
    "bad_customers_data_final_df.count()"
   ]
  },
  {
   "cell_type": "code",
   "execution_count": 30,
   "id": "3eeb0642",
   "metadata": {},
   "outputs": [],
   "source": [
    "bad_customers_data_final_df.repartition(1).write.format(\"csv\").option(\"header\",\"true\").mode(\"overwrite\").option(\"path\",\"/user/itv007136/lendingclubproject/bad/bad_customer_data_final\").save()"
   ]
  },
  {
   "cell_type": "code",
   "execution_count": null,
   "id": "e8dac7d0",
   "metadata": {},
   "outputs": [],
   "source": []
  },
  {
   "cell_type": "code",
   "execution_count": 54,
   "id": "195b5bbc",
   "metadata": {},
   "outputs": [],
   "source": [
    "bad_customers_data_final_df.createOrReplaceTempView(\"bad_data_customer\")"
   ]
  },
  {
   "cell_type": "code",
   "execution_count": 55,
   "id": "d1c2aa3e",
   "metadata": {},
   "outputs": [],
   "source": [
    "customers_df=spark.sql(\"\"\"\n",
    "select * from itv007136_lending_club.customers\n",
    "where member_id not in (select member_id from bad_data_customer)\n",
    "\"\"\")"
   ]
  },
  {
   "cell_type": "code",
   "execution_count": 33,
   "id": "a18452a2",
   "metadata": {},
   "outputs": [],
   "source": [
    "customers_df.write.format(\"parquet\").mode(\"overwrite\").option(\"path\",\"/user/itv007136/lendingclubproject/cleaned_new/customers_parquet\").save()"
   ]
  },
  {
   "cell_type": "code",
   "execution_count": null,
   "id": "c846c6b5",
   "metadata": {},
   "outputs": [],
   "source": []
  },
  {
   "cell_type": "code",
   "execution_count": 56,
   "id": "5f1fbc51",
   "metadata": {},
   "outputs": [],
   "source": [
    "loan_defaulters_delinq_df=spark.sql(\"\"\"\n",
    "select * from itv007136_lending_club.loans_defaulters_delinq\n",
    "where member_id not in (select member_id from bad_data_customer)\n",
    "\"\"\")"
   ]
  },
  {
   "cell_type": "code",
   "execution_count": 35,
   "id": "72e58591",
   "metadata": {},
   "outputs": [],
   "source": [
    "loan_defaulters_delinq_df.write.format(\"parquet\").mode(\"overwrite\").option(\"path\",\"/user/itv007136/lendingclubproject/cleaned_new/loans_defaulters_delinq_parquet\").save()"
   ]
  },
  {
   "cell_type": "code",
   "execution_count": null,
   "id": "e3de462e",
   "metadata": {},
   "outputs": [],
   "source": []
  },
  {
   "cell_type": "code",
   "execution_count": 57,
   "id": "b2d7edb4",
   "metadata": {},
   "outputs": [],
   "source": [
    "loan_defaulters_detail_rec_enq_df=spark.sql(\"\"\"\n",
    "select * from itv007136_lending_club.loans_defaulters_detail_rec_enq\n",
    "where member_id not in (select member_id from bad_data_customer)\n",
    "\"\"\")"
   ]
  },
  {
   "cell_type": "code",
   "execution_count": 37,
   "id": "def68223",
   "metadata": {},
   "outputs": [],
   "source": [
    "loan_defaulters_detail_rec_enq_df.write.format(\"parquet\").mode(\"overwrite\").option(\"path\",\"/user/itv007136/lendingclubproject/cleaned_new/loans_defaulters_detail_rec_enq_parquet\").save()"
   ]
  },
  {
   "cell_type": "code",
   "execution_count": null,
   "id": "9079b51b",
   "metadata": {},
   "outputs": [],
   "source": []
  },
  {
   "cell_type": "code",
   "execution_count": 58,
   "id": "2bf6f679",
   "metadata": {},
   "outputs": [
    {
     "data": {
      "text/html": [
       "<table border='1'>\n",
       "<tr><th>member_id</th><th>emp_title</th><th>emp_length</th><th>home_ownership</th><th>annual_income</th><th>address_state</th><th>address_zipcode</th><th>address_country</th><th>grade</th><th>sub_grade</th><th>verification_status</th><th>total_high_credit_limit</th><th>application_type</th><th>join_annual_income</th><th>verification_status_joint</th><th>ingest_date</th></tr>\n",
       "<tr><td>de8d40bb549f3e676...</td><td>Slot Club Lead</td><td>10</td><td>RENT</td><td>42000.0</td><td>CO</td><td>800xx</td><td>USA</td><td>A</td><td>A5</td><td>Source Verified</td><td>19200.0</td><td>Individual</td><td>null</td><td>null</td><td>2023-09-15 17:18:...</td></tr>\n",
       "<tr><td>cb2bfe6ba8d8040ea...</td><td>Development Manager</td><td>1</td><td>MORTGAGE</td><td>120000.0</td><td>NJ</td><td>080xx</td><td>USA</td><td>B</td><td>B2</td><td>Verified</td><td>521247.0</td><td>Individual</td><td>null</td><td>null</td><td>2023-09-15 17:18:...</td></tr>\n",
       "<tr><td>fd6cd0f257e376951...</td><td>Chef/Baker</td><td>5</td><td>RENT</td><td>25000.0</td><td>GA</td><td>310xx</td><td>USA</td><td>E</td><td>E2</td><td>Source Verified</td><td>18200.0</td><td>Individual</td><td>null</td><td>null</td><td>2023-09-15 17:18:...</td></tr>\n",
       "<tr><td>46a7d1486ffcd4024...</td><td>Service Manager</td><td>3</td><td>MORTGAGE</td><td>122000.0</td><td>NY</td><td>113xx</td><td>USA</td><td>C</td><td>C3</td><td>Verified</td><td>232468.0</td><td>Individual</td><td>null</td><td>null</td><td>2023-09-15 17:18:...</td></tr>\n",
       "<tr><td>ec70891c26a58aad8...</td><td>Maintenance Manager</td><td>1</td><td>RENT</td><td>35000.0</td><td>CO</td><td>804xx</td><td>USA</td><td>C</td><td>C1</td><td>Verified</td><td>16200.0</td><td>Individual</td><td>null</td><td>null</td><td>2023-09-15 17:18:...</td></tr>\n",
       "<tr><td>8b5e4553da13c2336...</td><td>Driver</td><td>10</td><td>RENT</td><td>65000.0</td><td>NY</td><td>112xx</td><td>USA</td><td>C</td><td>C2</td><td>Verified</td><td>15200.0</td><td>Individual</td><td>null</td><td>null</td><td>2023-09-15 17:18:...</td></tr>\n",
       "<tr><td>ea940e76460ba9551...</td><td>Carpenter</td><td>2</td><td>MORTGAGE</td><td>72000.0</td><td>IL</td><td>622xx</td><td>USA</td><td>B</td><td>B3</td><td>Source Verified</td><td>75875.0</td><td>Individual</td><td>null</td><td>null</td><td>2023-09-15 17:18:...</td></tr>\n",
       "<tr><td>1bff1ca3a1f99b4d7...</td><td>Owner</td><td>3</td><td>RENT</td><td>103000.0</td><td>NC</td><td>282xx</td><td>USA</td><td>D</td><td>D2</td><td>Source Verified</td><td>18700.0</td><td>Individual</td><td>null</td><td>null</td><td>2023-09-15 17:18:...</td></tr>\n",
       "<tr><td>78caf872bd06843ef...</td><td>Rural Carrier</td><td>10</td><td>OWN</td><td>70000.0</td><td>CA</td><td>932xx</td><td>USA</td><td>B</td><td>B4</td><td>Source Verified</td><td>71235.0</td><td>Individual</td><td>null</td><td>null</td><td>2023-09-15 17:18:...</td></tr>\n",
       "<tr><td>8c0e5cf855a938944...</td><td>NotAsked</td><td>10</td><td>RENT</td><td>87600.0</td><td>CO</td><td>802xx</td><td>USA</td><td>B</td><td>B2</td><td>Source Verified</td><td>84826.0</td><td>Individual</td><td>null</td><td>null</td><td>2023-09-15 17:18:...</td></tr>\n",
       "<tr><td>95e255082fddc76b1...</td><td>null</td><td>6</td><td>RENT</td><td>43500.0</td><td>NC</td><td>277xx</td><td>USA</td><td>C</td><td>C5</td><td>Source Verified</td><td>11500.0</td><td>Individual</td><td>null</td><td>null</td><td>2023-09-15 17:18:...</td></tr>\n",
       "<tr><td>d810bbf2aa830e901...</td><td>Manager</td><td>5</td><td>MORTGAGE</td><td>52000.0</td><td>NJ</td><td>080xx</td><td>USA</td><td>F</td><td>F4</td><td>Source Verified</td><td>208107.0</td><td>Joint App</td><td>84000.0</td><td>Source Verified</td><td>2023-09-15 17:18:...</td></tr>\n",
       "<tr><td>3e6ea68758d5452b0...</td><td>Operations</td><td>3</td><td>RENT</td><td>52000.0</td><td>CA</td><td>900xx</td><td>USA</td><td>B</td><td>B5</td><td>Not Verified</td><td>52930.0</td><td>Individual</td><td>null</td><td>null</td><td>2023-09-15 17:18:...</td></tr>\n",
       "<tr><td>420c2ef97194d5a3e...</td><td>Tax Supervisor</td><td>2</td><td>OWN</td><td>140000.0</td><td>NJ</td><td>076xx</td><td>USA</td><td>B</td><td>B2</td><td>Source Verified</td><td>519721.0</td><td>Individual</td><td>null</td><td>null</td><td>2023-09-15 17:18:...</td></tr>\n",
       "<tr><td>0705e81348a43ee77...</td><td>Commercial Lender</td><td>1</td><td>MORTGAGE</td><td>100000.0</td><td>NC</td><td>278xx</td><td>USA</td><td>A</td><td>A4</td><td>Not Verified</td><td>286058.0</td><td>Individual</td><td>null</td><td>null</td><td>2023-09-15 17:18:...</td></tr>\n",
       "<tr><td>2cfd201844e15facc...</td><td>Material Specialist</td><td>10</td><td>RENT</td><td>42016.0</td><td>OR</td><td>970xx</td><td>USA</td><td>C</td><td>C2</td><td>Source Verified</td><td>37362.0</td><td>Individual</td><td>null</td><td>null</td><td>2023-09-15 17:18:...</td></tr>\n",
       "<tr><td>b655449b933ef76bd...</td><td>Owner</td><td>5</td><td>MORTGAGE</td><td>91000.0</td><td>FL</td><td>322xx</td><td>USA</td><td>B</td><td>B1</td><td>Source Verified</td><td>300896.0</td><td>Individual</td><td>null</td><td>null</td><td>2023-09-15 17:18:...</td></tr>\n",
       "<tr><td>e6a45ffa9540f58f9...</td><td>Marketing &amp; Event...</td><td>5</td><td>MORTGAGE</td><td>52000.0</td><td>CA</td><td>923xx</td><td>USA</td><td>B</td><td>B1</td><td>Not Verified</td><td>6700.0</td><td>Individual</td><td>null</td><td>null</td><td>2023-09-15 17:18:...</td></tr>\n",
       "<tr><td>c3d1d95882cad2753...</td><td>Chief of Staff</td><td>10</td><td>MORTGAGE</td><td>131000.0</td><td>TX</td><td>782xx</td><td>USA</td><td>B</td><td>B5</td><td>Verified</td><td>380611.0</td><td>Individual</td><td>null</td><td>null</td><td>2023-09-15 17:18:...</td></tr>\n",
       "<tr><td>163baad89b63af52b...</td><td>Gel coat team lead</td><td>7</td><td>MORTGAGE</td><td>60000.0</td><td>TN</td><td>377xx</td><td>USA</td><td>E</td><td>E3</td><td>Verified</td><td>163484.0</td><td>Individual</td><td>null</td><td>null</td><td>2023-09-15 17:18:...</td></tr>\n",
       "</table>\n",
       "only showing top 20 rows\n"
      ],
      "text/plain": [
       "+--------------------+--------------------+----------+--------------+-------------+-------------+---------------+---------------+-----+---------+-------------------+-----------------------+----------------+------------------+-------------------------+--------------------+\n",
       "|           member_id|           emp_title|emp_length|home_ownership|annual_income|address_state|address_zipcode|address_country|grade|sub_grade|verification_status|total_high_credit_limit|application_type|join_annual_income|verification_status_joint|         ingest_date|\n",
       "+--------------------+--------------------+----------+--------------+-------------+-------------+---------------+---------------+-----+---------+-------------------+-----------------------+----------------+------------------+-------------------------+--------------------+\n",
       "|de8d40bb549f3e676...|      Slot Club Lead|        10|          RENT|      42000.0|           CO|          800xx|            USA|    A|       A5|    Source Verified|                19200.0|      Individual|              null|                     null|2023-09-15 17:18:...|\n",
       "|cb2bfe6ba8d8040ea...| Development Manager|         1|      MORTGAGE|     120000.0|           NJ|          080xx|            USA|    B|       B2|           Verified|               521247.0|      Individual|              null|                     null|2023-09-15 17:18:...|\n",
       "|fd6cd0f257e376951...|          Chef/Baker|         5|          RENT|      25000.0|           GA|          310xx|            USA|    E|       E2|    Source Verified|                18200.0|      Individual|              null|                     null|2023-09-15 17:18:...|\n",
       "|46a7d1486ffcd4024...|     Service Manager|         3|      MORTGAGE|     122000.0|           NY|          113xx|            USA|    C|       C3|           Verified|               232468.0|      Individual|              null|                     null|2023-09-15 17:18:...|\n",
       "|ec70891c26a58aad8...| Maintenance Manager|         1|          RENT|      35000.0|           CO|          804xx|            USA|    C|       C1|           Verified|                16200.0|      Individual|              null|                     null|2023-09-15 17:18:...|\n",
       "|8b5e4553da13c2336...|              Driver|        10|          RENT|      65000.0|           NY|          112xx|            USA|    C|       C2|           Verified|                15200.0|      Individual|              null|                     null|2023-09-15 17:18:...|\n",
       "|ea940e76460ba9551...|           Carpenter|         2|      MORTGAGE|      72000.0|           IL|          622xx|            USA|    B|       B3|    Source Verified|                75875.0|      Individual|              null|                     null|2023-09-15 17:18:...|\n",
       "|1bff1ca3a1f99b4d7...|               Owner|         3|          RENT|     103000.0|           NC|          282xx|            USA|    D|       D2|    Source Verified|                18700.0|      Individual|              null|                     null|2023-09-15 17:18:...|\n",
       "|78caf872bd06843ef...|       Rural Carrier|        10|           OWN|      70000.0|           CA|          932xx|            USA|    B|       B4|    Source Verified|                71235.0|      Individual|              null|                     null|2023-09-15 17:18:...|\n",
       "|8c0e5cf855a938944...|            NotAsked|        10|          RENT|      87600.0|           CO|          802xx|            USA|    B|       B2|    Source Verified|                84826.0|      Individual|              null|                     null|2023-09-15 17:18:...|\n",
       "|95e255082fddc76b1...|                null|         6|          RENT|      43500.0|           NC|          277xx|            USA|    C|       C5|    Source Verified|                11500.0|      Individual|              null|                     null|2023-09-15 17:18:...|\n",
       "|d810bbf2aa830e901...|             Manager|         5|      MORTGAGE|      52000.0|           NJ|          080xx|            USA|    F|       F4|    Source Verified|               208107.0|       Joint App|           84000.0|          Source Verified|2023-09-15 17:18:...|\n",
       "|3e6ea68758d5452b0...|          Operations|         3|          RENT|      52000.0|           CA|          900xx|            USA|    B|       B5|       Not Verified|                52930.0|      Individual|              null|                     null|2023-09-15 17:18:...|\n",
       "|420c2ef97194d5a3e...|      Tax Supervisor|         2|           OWN|     140000.0|           NJ|          076xx|            USA|    B|       B2|    Source Verified|               519721.0|      Individual|              null|                     null|2023-09-15 17:18:...|\n",
       "|0705e81348a43ee77...|   Commercial Lender|         1|      MORTGAGE|     100000.0|           NC|          278xx|            USA|    A|       A4|       Not Verified|               286058.0|      Individual|              null|                     null|2023-09-15 17:18:...|\n",
       "|2cfd201844e15facc...| Material Specialist|        10|          RENT|      42016.0|           OR|          970xx|            USA|    C|       C2|    Source Verified|                37362.0|      Individual|              null|                     null|2023-09-15 17:18:...|\n",
       "|b655449b933ef76bd...|               Owner|         5|      MORTGAGE|      91000.0|           FL|          322xx|            USA|    B|       B1|    Source Verified|               300896.0|      Individual|              null|                     null|2023-09-15 17:18:...|\n",
       "|e6a45ffa9540f58f9...|Marketing & Event...|         5|      MORTGAGE|      52000.0|           CA|          923xx|            USA|    B|       B1|       Not Verified|                 6700.0|      Individual|              null|                     null|2023-09-15 17:18:...|\n",
       "|c3d1d95882cad2753...|      Chief of Staff|        10|      MORTGAGE|     131000.0|           TX|          782xx|            USA|    B|       B5|           Verified|               380611.0|      Individual|              null|                     null|2023-09-15 17:18:...|\n",
       "|163baad89b63af52b...|  Gel coat team lead|         7|      MORTGAGE|      60000.0|           TN|          377xx|            USA|    E|       E3|           Verified|               163484.0|      Individual|              null|                     null|2023-09-15 17:18:...|\n",
       "+--------------------+--------------------+----------+--------------+-------------+-------------+---------------+---------------+-----+---------+-------------------+-----------------------+----------------+------------------+-------------------------+--------------------+\n",
       "only showing top 20 rows"
      ]
     },
     "execution_count": 58,
     "metadata": {},
     "output_type": "execute_result"
    }
   ],
   "source": [
    "customers_df"
   ]
  },
  {
   "cell_type": "code",
   "execution_count": 39,
   "id": "45ef99f4",
   "metadata": {},
   "outputs": [
    {
     "data": {
      "text/html": [
       "<table border='1'>\n",
       "<tr><th></th></tr>\n",
       "</table>\n"
      ],
      "text/plain": [
       "++\n",
       "||\n",
       "++\n",
       "++"
      ]
     },
     "execution_count": 39,
     "metadata": {},
     "output_type": "execute_result"
    }
   ],
   "source": [
    "spark.sql(\"\"\"\n",
    "CREATE EXTERNAL TABLE itv007136_lending_club.customers_new(\n",
    "member_id string,emp_title string,emp_length int,home_ownership string,annual_income float,\n",
    "address_state string,address_zipcode string,address_country string,grade string,sub_grade string,\n",
    "verification_status string,total_high_credit_limit float,application_type string,\n",
    "join_annual_income float,verification_status_joint string,ingest_date timestamp\n",
    ") stored as parquet location '/public/trendytech/lendingclubproject/cleaned_new/customers_parquet'\n",
    "\"\"\")"
   ]
  },
  {
   "cell_type": "code",
   "execution_count": 59,
   "id": "1cd4b54b",
   "metadata": {},
   "outputs": [
    {
     "data": {
      "text/html": [
       "<table border='1'>\n",
       "<tr><th>member_id</th><th>delinq_2yrs</th><th>delinq_amnt</th><th>mths_since_last_delinq</th></tr>\n",
       "<tr><td>9cb79aa7323e81be1...</td><td>2</td><td>0.0</td><td>0</td></tr>\n",
       "<tr><td>aac68850fdac09fd0...</td><td>1</td><td>0.0</td><td>0</td></tr>\n",
       "<tr><td>c89986155a070db2e...</td><td>1</td><td>0.0</td><td>15</td></tr>\n",
       "<tr><td>4e1c30a5dfe9f1e20...</td><td>0</td><td>0.0</td><td>34</td></tr>\n",
       "<tr><td>1eef79a0e79b72c7a...</td><td>1</td><td>0.0</td><td>0</td></tr>\n",
       "<tr><td>ec1953dba2cfb89ad...</td><td>2</td><td>0.0</td><td>0</td></tr>\n",
       "<tr><td>3712c9da85e54b7b1...</td><td>1</td><td>0.0</td><td>0</td></tr>\n",
       "<tr><td>030e5c9c411c936c5...</td><td>2</td><td>0.0</td><td>0</td></tr>\n",
       "<tr><td>252736f8401b6b046...</td><td>2</td><td>0.0</td><td>0</td></tr>\n",
       "<tr><td>2d73c65a7b7d1a351...</td><td>1</td><td>0.0</td><td>0</td></tr>\n",
       "<tr><td>4c5cc017a06ad9cee...</td><td>1</td><td>0.0</td><td>0</td></tr>\n",
       "<tr><td>b2ae51f7010bda712...</td><td>2</td><td>0.0</td><td>0</td></tr>\n",
       "<tr><td>e3fda103b038638f2...</td><td>1</td><td>0.0</td><td>0</td></tr>\n",
       "<tr><td>c1553a3186575c87d...</td><td>2</td><td>0.0</td><td>0</td></tr>\n",
       "<tr><td>e889fe8e41d1fc74a...</td><td>1</td><td>0.0</td><td>0</td></tr>\n",
       "<tr><td>66f29d01599e4497e...</td><td>1</td><td>0.0</td><td>0</td></tr>\n",
       "<tr><td>8d52067d7d93c7ba1...</td><td>2</td><td>0.0</td><td>0</td></tr>\n",
       "<tr><td>aff24625c7c7a2108...</td><td>3</td><td>0.0</td><td>0</td></tr>\n",
       "<tr><td>60cf7ca69b4fc0b04...</td><td>2</td><td>0.0</td><td>0</td></tr>\n",
       "<tr><td>5b7cc2ef3ee4be20e...</td><td>1</td><td>0.0</td><td>0</td></tr>\n",
       "</table>\n",
       "only showing top 20 rows\n"
      ],
      "text/plain": [
       "+--------------------+-----------+-----------+----------------------+\n",
       "|           member_id|delinq_2yrs|delinq_amnt|mths_since_last_delinq|\n",
       "+--------------------+-----------+-----------+----------------------+\n",
       "|9cb79aa7323e81be1...|          2|        0.0|                     0|\n",
       "|aac68850fdac09fd0...|          1|        0.0|                     0|\n",
       "|c89986155a070db2e...|          1|        0.0|                    15|\n",
       "|4e1c30a5dfe9f1e20...|          0|        0.0|                    34|\n",
       "|1eef79a0e79b72c7a...|          1|        0.0|                     0|\n",
       "|ec1953dba2cfb89ad...|          2|        0.0|                     0|\n",
       "|3712c9da85e54b7b1...|          1|        0.0|                     0|\n",
       "|030e5c9c411c936c5...|          2|        0.0|                     0|\n",
       "|252736f8401b6b046...|          2|        0.0|                     0|\n",
       "|2d73c65a7b7d1a351...|          1|        0.0|                     0|\n",
       "|4c5cc017a06ad9cee...|          1|        0.0|                     0|\n",
       "|b2ae51f7010bda712...|          2|        0.0|                     0|\n",
       "|e3fda103b038638f2...|          1|        0.0|                     0|\n",
       "|c1553a3186575c87d...|          2|        0.0|                     0|\n",
       "|e889fe8e41d1fc74a...|          1|        0.0|                     0|\n",
       "|66f29d01599e4497e...|          1|        0.0|                     0|\n",
       "|8d52067d7d93c7ba1...|          2|        0.0|                     0|\n",
       "|aff24625c7c7a2108...|          3|        0.0|                     0|\n",
       "|60cf7ca69b4fc0b04...|          2|        0.0|                     0|\n",
       "|5b7cc2ef3ee4be20e...|          1|        0.0|                     0|\n",
       "+--------------------+-----------+-----------+----------------------+\n",
       "only showing top 20 rows"
      ]
     },
     "execution_count": 59,
     "metadata": {},
     "output_type": "execute_result"
    }
   ],
   "source": [
    "loan_defaulters_delinq_df"
   ]
  },
  {
   "cell_type": "code",
   "execution_count": 60,
   "id": "d45f500b",
   "metadata": {},
   "outputs": [
    {
     "data": {
      "text/html": [
       "<table border='1'>\n",
       "<tr><th></th></tr>\n",
       "</table>\n"
      ],
      "text/plain": [
       "++\n",
       "||\n",
       "++\n",
       "++"
      ]
     },
     "execution_count": 60,
     "metadata": {},
     "output_type": "execute_result"
    }
   ],
   "source": [
    "spark.sql(\"\"\"\n",
    "CREATE EXTERNAL TABLE itv007136_lending_club.loan_defaulters_delinq_new(\n",
    "member_id string,delinq_2yrs integer,delinq_amnt float,mths_since_last_delinq integer\n",
    ") stored as parquet location '/public/trendytech/lendingclubproject/cleaned_new/loan_defaulters_delinq_parquet'\n",
    "\"\"\")"
   ]
  },
  {
   "cell_type": "code",
   "execution_count": 61,
   "id": "4e0e1fff",
   "metadata": {},
   "outputs": [
    {
     "data": {
      "text/html": [
       "<table border='1'>\n",
       "<tr><th>member_id</th><th>pub_rec</th><th>pub_rec_bankruptcies</th><th>inq_last_6mths</th></tr>\n",
       "<tr><td>9cb79aa7323e81be1...</td><td>0</td><td>0</td><td>0</td></tr>\n",
       "<tr><td>0dd2bbc517e3c8f9e...</td><td>1</td><td>1</td><td>3</td></tr>\n",
       "<tr><td>458458599d3df3bfc...</td><td>1</td><td>1</td><td>1</td></tr>\n",
       "<tr><td>05ea141ec28b5c7f7...</td><td>0</td><td>0</td><td>0</td></tr>\n",
       "<tr><td>aac68850fdac09fd0...</td><td>0</td><td>0</td><td>0</td></tr>\n",
       "<tr><td>3a423e4589e89f429...</td><td>0</td><td>0</td><td>0</td></tr>\n",
       "<tr><td>f1efcf7dfbfef21be...</td><td>0</td><td>0</td><td>1</td></tr>\n",
       "<tr><td>c89986155a070db2e...</td><td>0</td><td>0</td><td>1</td></tr>\n",
       "<tr><td>118dc629b6e134419...</td><td>0</td><td>0</td><td>0</td></tr>\n",
       "<tr><td>a86fa4b7493708333...</td><td>0</td><td>0</td><td>0</td></tr>\n",
       "<tr><td>6e8d94bf446e97025...</td><td>0</td><td>0</td><td>0</td></tr>\n",
       "<tr><td>3de585156dc6b73f6...</td><td>0</td><td>0</td><td>0</td></tr>\n",
       "<tr><td>e88945f86a96f8d71...</td><td>0</td><td>0</td><td>1</td></tr>\n",
       "<tr><td>42f73fd8a01f1c475...</td><td>0</td><td>0</td><td>0</td></tr>\n",
       "<tr><td>c680bca32456530e6...</td><td>0</td><td>0</td><td>0</td></tr>\n",
       "<tr><td>3c36e35bcc0379690...</td><td>0</td><td>0</td><td>0</td></tr>\n",
       "<tr><td>4e1c30a5dfe9f1e20...</td><td>0</td><td>0</td><td>1</td></tr>\n",
       "<tr><td>1eef79a0e79b72c7a...</td><td>0</td><td>0</td><td>0</td></tr>\n",
       "<tr><td>89d42771f79636d22...</td><td>0</td><td>0</td><td>0</td></tr>\n",
       "<tr><td>1dd1d1b51473d4993...</td><td>0</td><td>0</td><td>0</td></tr>\n",
       "</table>\n",
       "only showing top 20 rows\n"
      ],
      "text/plain": [
       "+--------------------+-------+--------------------+--------------+\n",
       "|           member_id|pub_rec|pub_rec_bankruptcies|inq_last_6mths|\n",
       "+--------------------+-------+--------------------+--------------+\n",
       "|9cb79aa7323e81be1...|      0|                   0|             0|\n",
       "|0dd2bbc517e3c8f9e...|      1|                   1|             3|\n",
       "|458458599d3df3bfc...|      1|                   1|             1|\n",
       "|05ea141ec28b5c7f7...|      0|                   0|             0|\n",
       "|aac68850fdac09fd0...|      0|                   0|             0|\n",
       "|3a423e4589e89f429...|      0|                   0|             0|\n",
       "|f1efcf7dfbfef21be...|      0|                   0|             1|\n",
       "|c89986155a070db2e...|      0|                   0|             1|\n",
       "|118dc629b6e134419...|      0|                   0|             0|\n",
       "|a86fa4b7493708333...|      0|                   0|             0|\n",
       "|6e8d94bf446e97025...|      0|                   0|             0|\n",
       "|3de585156dc6b73f6...|      0|                   0|             0|\n",
       "|e88945f86a96f8d71...|      0|                   0|             1|\n",
       "|42f73fd8a01f1c475...|      0|                   0|             0|\n",
       "|c680bca32456530e6...|      0|                   0|             0|\n",
       "|3c36e35bcc0379690...|      0|                   0|             0|\n",
       "|4e1c30a5dfe9f1e20...|      0|                   0|             1|\n",
       "|1eef79a0e79b72c7a...|      0|                   0|             0|\n",
       "|89d42771f79636d22...|      0|                   0|             0|\n",
       "|1dd1d1b51473d4993...|      0|                   0|             0|\n",
       "+--------------------+-------+--------------------+--------------+\n",
       "only showing top 20 rows"
      ]
     },
     "execution_count": 61,
     "metadata": {},
     "output_type": "execute_result"
    }
   ],
   "source": [
    "loan_defaulters_detail_rec_enq_df"
   ]
  },
  {
   "cell_type": "code",
   "execution_count": 65,
   "id": "378c141c",
   "metadata": {},
   "outputs": [
    {
     "data": {
      "text/html": [
       "<table border='1'>\n",
       "<tr><th></th></tr>\n",
       "</table>\n"
      ],
      "text/plain": [
       "++\n",
       "||\n",
       "++\n",
       "++"
      ]
     },
     "execution_count": 65,
     "metadata": {},
     "output_type": "execute_result"
    }
   ],
   "source": [
    "spark.sql(\"\"\"\n",
    "CREATE EXTERNAL TABLE itv007136_lending_club.loan_defaulters_detail_rec_enq_new(\n",
    "member_id string,pub_rec integer,pub_rec_bankruptcies integer,inq_last_6mths integer\n",
    ") stored as parquet location '/public/trendytech/lendingclubproject/cleaned_new/loan_defaulters_detail_rec_enq_parquet'\n",
    "\"\"\")"
   ]
  },
  {
   "cell_type": "code",
   "execution_count": null,
   "id": "d9a8c041",
   "metadata": {},
   "outputs": [],
   "source": []
  }
 ],
 "metadata": {
  "kernelspec": {
   "display_name": "Pyspark 3",
   "language": "python",
   "name": "pyspark3"
  },
  "language_info": {
   "codemirror_mode": {
    "name": "ipython",
    "version": 3
   },
   "file_extension": ".py",
   "mimetype": "text/x-python",
   "name": "python",
   "nbconvert_exporter": "python",
   "pygments_lexer": "ipython3",
   "version": "3.6.12"
  }
 },
 "nbformat": 4,
 "nbformat_minor": 5
}
