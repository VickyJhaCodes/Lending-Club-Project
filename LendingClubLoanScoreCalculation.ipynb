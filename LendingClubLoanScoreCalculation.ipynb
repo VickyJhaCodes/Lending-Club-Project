{
 "cells": [
  {
   "cell_type": "code",
   "execution_count": 79,
   "id": "24ff90ac",
   "metadata": {},
   "outputs": [],
   "source": [
    "from pyspark.sql import SparkSession\n",
    "import getpass\n",
    "username = getpass.getuser()\n",
    "spark = SparkSession. \\\n",
    "builder. \\\n",
    "config('spark.ui.port','0'). \\\n",
    "config('spark.shuffle.useOldFetchProtocol','true'). \\\n",
    "config(\"spark.sql.warehouse.dir\", f\"/user/itv007136/warehouse\"). \\\n",
    "enableHiveSupport(). \\\n",
    "master('yarn'). \\\n",
    "getOrCreate()"
   ]
  },
  {
   "cell_type": "code",
   "execution_count": 80,
   "id": "9eadae29",
   "metadata": {},
   "outputs": [
    {
     "data": {
      "text/html": [
       "\n",
       "            <div>\n",
       "                <p><b>SparkSession - hive</b></p>\n",
       "                \n",
       "        <div>\n",
       "            <p><b>SparkContext</b></p>\n",
       "\n",
       "            <p><a href=\"http://g01.itversity.com:43429\">Spark UI</a></p>\n",
       "\n",
       "            <dl>\n",
       "              <dt>Version</dt>\n",
       "                <dd><code>v3.1.2</code></dd>\n",
       "              <dt>Master</dt>\n",
       "                <dd><code>yarn</code></dd>\n",
       "              <dt>AppName</dt>\n",
       "                <dd><code>pyspark-shell</code></dd>\n",
       "            </dl>\n",
       "        </div>\n",
       "        \n",
       "            </div>\n",
       "        "
      ],
      "text/plain": [
       "<pyspark.sql.session.SparkSession at 0x7fa89b46db70>"
      ]
     },
     "execution_count": 80,
     "metadata": {},
     "output_type": "execute_result"
    }
   ],
   "source": [
    "spark"
   ]
  },
  {
   "cell_type": "markdown",
   "id": "a8ab1654",
   "metadata": {},
   "source": [
    "# Associating points to grades in order to calculate the Loan Score"
   ]
  },
  {
   "cell_type": "code",
   "execution_count": 81,
   "id": "66ab0ad2",
   "metadata": {},
   "outputs": [],
   "source": [
    "spark.conf.set(\"spark.sql.unacceptable_rated_pts\",0)\n",
    "spark.conf.set(\"spark.sql.very_bad_rated_pts\",100)\n",
    "spark.conf.set(\"spark.sql.bad_rated_pts\",250)\n",
    "spark.conf.set(\"spark.sql.good_rated_pts\",500)\n",
    "spark.conf.set(\"spark.sql.very_good_rated_pts\",650)\n",
    "spark.conf.set(\"spark.sql.excellent_rated_pts\",800)"
   ]
  },
  {
   "cell_type": "code",
   "execution_count": 82,
   "id": "27c5fc2d",
   "metadata": {},
   "outputs": [],
   "source": [
    "spark.conf.set(\"spark.sql.unacceptable_grade_pts\",750)\n",
    "spark.conf.set(\"spark.sql.very_bad_grade_pts\",1000)\n",
    "spark.conf.set(\"spark.sql.bad_grade_pts\",1500)\n",
    "spark.conf.set(\"spark.sql.good_grade_pts\",2000)\n",
    "spark.conf.set(\"spark.sql.very_good_grade_pts\",2500)"
   ]
  },
  {
   "cell_type": "markdown",
   "id": "7d9e0403",
   "metadata": {},
   "source": [
    "# The tables that are required to calculate the loan score are:\n",
    "\n",
    "customers_new\n",
    "\n",
    "loans\n",
    "\n",
    "loans_repayments\n",
    "\n",
    "loans_defaulters_delinq_new\n",
    "\n",
    "loans_defaulters_detail_rec_enq_new"
   ]
  },
  {
   "cell_type": "markdown",
   "id": "cf64402e",
   "metadata": {},
   "source": [
    "# Loan Score Calculation Criteria 1: Payment History(ph)"
   ]
  },
  {
   "cell_type": "code",
   "execution_count": 83,
   "id": "a6645b70",
   "metadata": {},
   "outputs": [],
   "source": [
    " bad_customer_data_final_df= spark.read \\\n",
    "    .format(\"csv\") \\\n",
    "    .option(\"header\", True) \\\n",
    "    .option(\"inferSchema\", True) \\\n",
    "    .load(\"/public/trendytech/lendingclubproject/bad/bad_customer_data_final\")"
   ]
  },
  {
   "cell_type": "code",
   "execution_count": 84,
   "id": "c7fd7f8b",
   "metadata": {},
   "outputs": [],
   "source": [
    "bad_customer_data_final_df.createOrReplaceTempView(\"bad_data_customer\")"
   ]
  },
  {
   "cell_type": "code",
   "execution_count": 85,
   "id": "933985b3",
   "metadata": {},
   "outputs": [],
   "source": [
    "ph_df=spark.sql(\"\"\"\n",
    "    Select member_id,\n",
    "    CASE\n",
    "         WHEN r.last_payment_amount < (l.monthly_installment * 0.5) THEN ${spark.sql.very_bad_rated_pts}\n",
    "         WHEN r.last_payment_amount >= (l.monthly_installment * 0.5) AND r.last_payment_amount< l.monthly_installment THEN ${spark.sql.bad_rated_pts}\n",
    "         WHEN r.last_payment_amount = l.monthly_installment THEN ${spark.sql.good_rated_pts}\n",
    "         WHEN r.last_payment_amount > l.monthly_installment AND r.last_payment_amount <= (l.monthly_installment * 1.5) THEN ${spark.sql.very_good_rated_pts}\n",
    "         WHEN r.last_payment_amount > (l.monthly_installment * 1.5) THEN ${spark.sql.excellent_rated_pts}\n",
    "         ELSE ${spark.sql.unacceptable_rated_pts}\n",
    "    END as last_payment_pts,\n",
    "    CASE \n",
    "         WHEN r.total_payment_received >= (l.funded_amount * 0.5) THEN ${spark.sql.very_good_rated_pts}\n",
    "         WHEN r.total_payment_received < (l.funded_amount * 0.5)  AND r.total_payment_received>0 THEN ${spark.sql.good_rated_pts}\n",
    "         WHEN r.total_payment_received = 0 OR r.total_payment_received IS NULL THEN ${spark.sql.unacceptable_rated_pts}\n",
    "    END as total_payment_pts\n",
    "    from itv007136_lending_club.loans_repayments r \n",
    "    inner join itv007136_lending_club.loans l\n",
    "    on r.loan_id=l.loan_id \n",
    "    where l.member_id not in (select member_id from bad_data_customer)\n",
    "\"\"\")"
   ]
  },
  {
   "cell_type": "code",
   "execution_count": 86,
   "id": "a63bae9f",
   "metadata": {},
   "outputs": [],
   "source": [
    "ph_df.createOrReplaceTempView(\"ph_pts\")"
   ]
  },
  {
   "cell_type": "markdown",
   "id": "313ed594",
   "metadata": {},
   "source": [
    "# Loan Score Calculation Criteria 2: Loan Defaulters History (ldh)"
   ]
  },
  {
   "cell_type": "code",
   "execution_count": 87,
   "id": "160af43a",
   "metadata": {},
   "outputs": [],
   "source": [
    "ldh_ph_df= spark.sql(\"\"\"\n",
    "    SELECT p.*,\n",
    "    CASE \n",
    "    WHEN d.delinq_2yrs = 0 THEN ${spark.sql.excellent_rated_pts}\n",
    "    WHEN d.delinq_2yrs BETWEEN 1 AND 2 THEN ${spark.sql.bad_rated_pts}\n",
    "    WHEN d.delinq_2yrs BETWEEN 3 AND 5 THEN ${spark.sql.very_bad_rated_pts}\n",
    "    WHEN d.delinq_2yrs > 5  OR d.delinq_2yrs IS NULL THEN ${spark.sql.unacceptable_rated_pts}\n",
    "    END AS delinq_pts,\n",
    "    CASE \n",
    "    WHEN r.pub_rec = 0 THEN ${spark.sql.excellent_rated_pts}\n",
    "    WHEN r.pub_rec BETWEEN 1 AND 2 THEN ${spark.sql.bad_rated_pts}\n",
    "    WHEN r.pub_rec BETWEEN 3 AND 5 THEN ${spark.sql.very_bad_rated_pts}\n",
    "    WHEN r.pub_rec > 5  OR r.pub_rec IS NULL THEN ${spark.sql.unacceptable_rated_pts}\n",
    "    END AS public_record_pts,\n",
    "    CASE \n",
    "    WHEN r.pub_rec_bankruptcies = 0 THEN ${spark.sql.excellent_rated_pts}\n",
    "    WHEN r.pub_rec_bankruptcies BETWEEN 1 AND 2 THEN ${spark.sql.bad_rated_pts}\n",
    "    WHEN r.pub_rec_bankruptcies BETWEEN 3 AND 5 THEN ${spark.sql.very_bad_rated_pts}\n",
    "    WHEN r.pub_rec_bankruptcies > 5  OR r.pub_rec_bankruptcies IS NULL THEN ${spark.sql.unacceptable_rated_pts}\n",
    "    END AS public_bankruptcies_pts,\n",
    "    CASE \n",
    "    WHEN r.inq_last_6mths = 0 THEN ${spark.sql.excellent_rated_pts}\n",
    "    WHEN r.inq_last_6mths BETWEEN 1 AND 2 THEN ${spark.sql.bad_rated_pts}\n",
    "    WHEN r.inq_last_6mths BETWEEN 3 AND 5 THEN ${spark.sql.very_bad_rated_pts}\n",
    "    WHEN r.inq_last_6mths > 5  OR r.inq_last_6mths IS NULL THEN ${spark.sql.unacceptable_rated_pts}\n",
    "    END AS enq_pts\n",
    "    FROM itv007136_lending_club.loans_defaulters_delinq d\n",
    "    inner join itv007136_lending_club.loans_defaulters_detail_rec_enq r on d.member_id = r.member_id\n",
    "    inner join ph_pts p on r.member_id=p.member_id\n",
    "    where r.member_id not in (select member_id from bad_data_customer)\n",
    "    \"\"\")"
   ]
  },
  {
   "cell_type": "code",
   "execution_count": 88,
   "id": "541c81b2",
   "metadata": {},
   "outputs": [],
   "source": [
    "ldh_ph_df.createOrReplaceTempView(\"ldh_ph_pts\")"
   ]
  },
  {
   "cell_type": "markdown",
   "id": "818d3270",
   "metadata": {},
   "source": [
    "# Criteria 3: Financial Health(fh)"
   ]
  },
  {
   "cell_type": "code",
   "execution_count": 89,
   "id": "700f862d",
   "metadata": {},
   "outputs": [],
   "source": [
    "fh_ldh_ph_df = spark.sql(\"select ldef.*, \\\n",
    "   CASE \\\n",
    "   WHEN LOWER(l.loan_status) LIKE '%fully paid%' THEN ${spark.sql.excellent_rated_pts} \\\n",
    "   WHEN LOWER(l.loan_status) LIKE '%current%' THEN ${spark.sql.good_rated_pts} \\\n",
    "   WHEN LOWER(l.loan_status) LIKE '%in grace period%' THEN ${spark.sql.bad_rated_pts} \\\n",
    "   WHEN LOWER(l.loan_status) LIKE '%late (16-30 days)%' OR LOWER(l.loan_status) LIKE '%late (31-120 days)%' THEN ${spark.sql.very_bad_rated_pts} \\\n",
    "   WHEN LOWER(l.loan_status) LIKE '%charged off%' THEN ${spark.sql.unacceptable_rated_pts} \\\n",
    "   else ${spark.sql.unacceptable_rated_pts} \\\n",
    "   END AS loan_status_pts, \\\n",
    "   CASE \\\n",
    "   WHEN LOWER(a.home_ownership) LIKE '%own' THEN ${spark.sql.excellent_rated_pts} \\\n",
    "   WHEN LOWER(a.home_ownership) LIKE '%rent' THEN ${spark.sql.good_rated_pts} \\\n",
    "   WHEN LOWER(a.home_ownership) LIKE '%mortgage' THEN ${spark.sql.bad_rated_pts} \\\n",
    "   WHEN LOWER(a.home_ownership) LIKE '%any' OR LOWER(a.home_ownership) IS NULL THEN ${spark.sql.very_bad_rated_pts} \\\n",
    "   END AS home_pts, \\\n",
    "   CASE \\\n",
    "   WHEN l.funded_amount <= (a.total_high_credit_limit * 0.10) THEN ${spark.sql.excellent_rated_pts} \\\n",
    "   WHEN l.funded_amount > (a.total_high_credit_limit * 0.10) AND l.funded_amount <= (a.total_high_credit_limit * 0.20) THEN ${spark.sql.very_good_rated_pts} \\\n",
    "   WHEN l.funded_amount > (a.total_high_credit_limit * 0.20) AND l.funded_amount <= (a.total_high_credit_limit * 0.30) THEN ${spark.sql.good_rated_pts} \\\n",
    "   WHEN l.funded_amount > (a.total_high_credit_limit * 0.30) AND l.funded_amount <= (a.total_high_credit_limit * 0.50) THEN ${spark.sql.bad_rated_pts} \\\n",
    "   WHEN l.funded_amount > (a.total_high_credit_limit * 0.50) AND l.funded_amount <= (a.total_high_credit_limit * 0.70) THEN ${spark.sql.very_bad_rated_pts} \\\n",
    "   WHEN l.funded_amount > (a.total_high_credit_limit * 0.70) THEN ${spark.sql.unacceptable_rated_pts} \\\n",
    "   else ${spark.sql.unacceptable_rated_pts} \\\n",
    "   END AS credit_limit_pts, \\\n",
    "   CASE \\\n",
    "   WHEN (a.grade) = 'A' and (a.sub_grade)='A1' THEN ${spark.sql.excellent_rated_pts} \\\n",
    "   WHEN (a.grade) = 'A' and (a.sub_grade)='A2' THEN (${spark.sql.excellent_rated_pts} * 0.95) \\\n",
    "   WHEN (a.grade) = 'A' and (a.sub_grade)='A3' THEN (${spark.sql.excellent_rated_pts} * 0.90) \\\n",
    "   WHEN (a.grade) = 'A' and (a.sub_grade)='A4' THEN (${spark.sql.excellent_rated_pts} * 0.85) \\\n",
    "   WHEN (a.grade) = 'A' and (a.sub_grade)='A5' THEN (${spark.sql.excellent_rated_pts} * 0.80) \\\n",
    "   WHEN (a.grade) = 'B' and (a.sub_grade)='B1' THEN (${spark.sql.very_good_rated_pts}) \\\n",
    "   WHEN (a.grade) = 'B' and (a.sub_grade)='B2' THEN (${spark.sql.very_good_rated_pts} * 0.95) \\\n",
    "   WHEN (a.grade) = 'B' and (a.sub_grade)='B3' THEN (${spark.sql.very_good_rated_pts} * 0.90) \\\n",
    "   WHEN (a.grade) = 'B' and (a.sub_grade)='B4' THEN (${spark.sql.very_good_rated_pts} * 0.85) \\\n",
    "   WHEN (a.grade) = 'B' and (a.sub_grade)='B5' THEN (${spark.sql.very_good_rated_pts} * 0.80) \\\n",
    "   WHEN (a.grade) = 'C' and (a.sub_grade)='C1' THEN (${spark.sql.good_rated_pts}) \\\n",
    "   WHEN (a.grade) = 'C' and (a.sub_grade)='C2' THEN (${spark.sql.good_rated_pts} * 0.95) \\\n",
    "   WHEN (a.grade) = 'C' and (a.sub_grade)='C3' THEN (${spark.sql.good_rated_pts} * 0.90) \\\n",
    "   WHEN (a.grade) = 'C' and (a.sub_grade)='C4' THEN (${spark.sql.good_rated_pts} * 0.85) \\\n",
    "   WHEN (a.grade) = 'C' and (a.sub_grade)='C5' THEN (${spark.sql.good_rated_pts} * 0.80) \\\n",
    "   WHEN (a.grade) = 'D' and (a.sub_grade)='D1' THEN (${spark.sql.bad_rated_pts}) \\\n",
    "   WHEN (a.grade) = 'D' and (a.sub_grade)='D2' THEN (${spark.sql.bad_rated_pts} * 0.95) \\\n",
    "   WHEN (a.grade) = 'D' and (a.sub_grade)='D3' THEN (${spark.sql.bad_rated_pts} * 0.90) \\\n",
    "   WHEN (a.grade) = 'D' and (a.sub_grade)='D4' THEN (${spark.sql.bad_rated_pts} * 0.85) \\\n",
    "   WHEN (a.grade) = 'D' and (a.sub_grade)='D5' THEN (${spark.sql.bad_rated_pts} * 0.80) \\\n",
    "   WHEN (a.grade) = 'E' and (a.sub_grade)='E1' THEN (${spark.sql.very_bad_rated_pts}) \\\n",
    "   WHEN (a.grade) = 'E' and (a.sub_grade)='E2' THEN (${spark.sql.very_bad_rated_pts} * 0.95) \\\n",
    "   WHEN (a.grade) = 'E' and (a.sub_grade)='E3' THEN (${spark.sql.very_bad_rated_pts} * 0.90) \\\n",
    "   WHEN (a.grade) = 'E' and (a.sub_grade)='E4' THEN (${spark.sql.very_bad_rated_pts} * 0.85) \\\n",
    "   WHEN (a.grade) = 'E' and (a.sub_grade)='E5' THEN (${spark.sql.very_bad_rated_pts} * 0.80) \\\n",
    "   WHEN (a.grade) in ('F', 'G') THEN (${spark.sql.unacceptable_rated_pts}) \\\n",
    "   END AS grade_pts \\\n",
    "   FROM ldh_ph_pts ldef \\\n",
    "   INNER JOIN itv007136_lending_club.loans l ON ldef.member_id = l.member_id \\\n",
    "   INNER JOIN itv007136_lending_club.customers_new a ON a.member_id = ldef.member_id where ldef.member_id NOT IN (select member_id from bad_data_customer)\") "
   ]
  },
  {
   "cell_type": "code",
   "execution_count": 90,
   "id": "a3b3c6b6",
   "metadata": {},
   "outputs": [],
   "source": [
    "fh_ldh_ph_df.createOrReplaceTempView(\"fh_ldh_ph_pts\")"
   ]
  },
  {
   "cell_type": "code",
   "execution_count": 91,
   "id": "08213590",
   "metadata": {},
   "outputs": [
    {
     "data": {
      "text/html": [
       "<table border='1'>\n",
       "<tr><th>member_id</th><th>last_payment_pts</th><th>total_payment_pts</th><th>delinq_pts</th><th>public_record_pts</th><th>public_bankruptcies_pts</th><th>enq_pts</th><th>loan_status_pts</th><th>home_pts</th><th>credit_limit_pts</th><th>grade_pts</th></tr>\n",
       "<tr><td>000c8875b71a6b47c...</td><td>800</td><td>650</td><td>250</td><td>800</td><td>800</td><td>800</td><td>800</td><td>250</td><td>800</td><td>680.00</td></tr>\n",
       "<tr><td>003769d7f54c7859e...</td><td>500</td><td>500</td><td>250</td><td>800</td><td>800</td><td>800</td><td>0</td><td>250</td><td>800</td><td>100.00</td></tr>\n",
       "<tr><td>003e1e6cbd2920bbb...</td><td>500</td><td>650</td><td>250</td><td>250</td><td>250</td><td>800</td><td>500</td><td>250</td><td>800</td><td>640.00</td></tr>\n",
       "<tr><td>004017b21bd4d6271...</td><td>100</td><td>650</td><td>0</td><td>800</td><td>800</td><td>800</td><td>800</td><td>250</td><td>800</td><td>500.00</td></tr>\n",
       "<tr><td>005b4c3db3fce07dc...</td><td>500</td><td>650</td><td>250</td><td>250</td><td>800</td><td>250</td><td>500</td><td>250</td><td>500</td><td>520.00</td></tr>\n",
       "<tr><td>00710707c563c2119...</td><td>800</td><td>650</td><td>250</td><td>800</td><td>800</td><td>800</td><td>800</td><td>250</td><td>800</td><td>520.00</td></tr>\n",
       "<tr><td>007da79904f69970d...</td><td>800</td><td>650</td><td>250</td><td>800</td><td>800</td><td>800</td><td>800</td><td>500</td><td>250</td><td>800.00</td></tr>\n",
       "<tr><td>00f435a80d0440ece...</td><td>500</td><td>500</td><td>100</td><td>800</td><td>800</td><td>800</td><td>500</td><td>250</td><td>800</td><td>475.00</td></tr>\n",
       "<tr><td>00fc2ae3ffb1213e4...</td><td>650</td><td>650</td><td>250</td><td>800</td><td>800</td><td>800</td><td>800</td><td>250</td><td>650</td><td>450.00</td></tr>\n",
       "<tr><td>00fc8144cb210ba8c...</td><td>500</td><td>650</td><td>250</td><td>250</td><td>250</td><td>800</td><td>500</td><td>250</td><td>800</td><td>500.00</td></tr>\n",
       "<tr><td>01121d7f3f6f27495...</td><td>800</td><td>650</td><td>250</td><td>800</td><td>800</td><td>800</td><td>800</td><td>250</td><td>800</td><td>617.50</td></tr>\n",
       "<tr><td>0112e15adaf0c0029...</td><td>500</td><td>650</td><td>250</td><td>800</td><td>800</td><td>800</td><td>500</td><td>250</td><td>500</td><td>450.00</td></tr>\n",
       "<tr><td>017ce564dc0d6f975...</td><td>500</td><td>500</td><td>250</td><td>800</td><td>800</td><td>250</td><td>0</td><td>250</td><td>800</td><td>640.00</td></tr>\n",
       "<tr><td>017d1fd3d6169ee29...</td><td>800</td><td>500</td><td>800</td><td>250</td><td>250</td><td>250</td><td>500</td><td>250</td><td>650</td><td>585.00</td></tr>\n",
       "<tr><td>018a82c47453bf02d...</td><td>100</td><td>650</td><td>800</td><td>250</td><td>800</td><td>800</td><td>800</td><td>500</td><td>650</td><td>760.00</td></tr>\n",
       "<tr><td>018b0f369c2d63913...</td><td>100</td><td>650</td><td>800</td><td>800</td><td>800</td><td>100</td><td>800</td><td>250</td><td>800</td><td>250.00</td></tr>\n",
       "<tr><td>01b39bf7187932c4a...</td><td>800</td><td>650</td><td>250</td><td>250</td><td>800</td><td>800</td><td>800</td><td>500</td><td>800</td><td>585.00</td></tr>\n",
       "<tr><td>01d0686210978f0a7...</td><td>500</td><td>500</td><td>0</td><td>800</td><td>800</td><td>800</td><td>0</td><td>250</td><td>800</td><td>720.00</td></tr>\n",
       "<tr><td>01d0c48835e969a01...</td><td>500</td><td>500</td><td>800</td><td>800</td><td>800</td><td>250</td><td>0</td><td>500</td><td>250</td><td>0.00</td></tr>\n",
       "<tr><td>01ef63fce64f41ef9...</td><td>800</td><td>650</td><td>250</td><td>800</td><td>800</td><td>800</td><td>800</td><td>500</td><td>650</td><td>552.50</td></tr>\n",
       "</table>\n",
       "only showing top 20 rows\n"
      ],
      "text/plain": [
       "+--------------------+----------------+-----------------+----------+-----------------+-----------------------+-------+---------------+--------+----------------+---------+\n",
       "|           member_id|last_payment_pts|total_payment_pts|delinq_pts|public_record_pts|public_bankruptcies_pts|enq_pts|loan_status_pts|home_pts|credit_limit_pts|grade_pts|\n",
       "+--------------------+----------------+-----------------+----------+-----------------+-----------------------+-------+---------------+--------+----------------+---------+\n",
       "|000c8875b71a6b47c...|             800|              650|       250|              800|                    800|    800|            800|     250|             800|   680.00|\n",
       "|003769d7f54c7859e...|             500|              500|       250|              800|                    800|    800|              0|     250|             800|   100.00|\n",
       "|003e1e6cbd2920bbb...|             500|              650|       250|              250|                    250|    800|            500|     250|             800|   640.00|\n",
       "|004017b21bd4d6271...|             100|              650|         0|              800|                    800|    800|            800|     250|             800|   500.00|\n",
       "|005b4c3db3fce07dc...|             500|              650|       250|              250|                    800|    250|            500|     250|             500|   520.00|\n",
       "|00710707c563c2119...|             800|              650|       250|              800|                    800|    800|            800|     250|             800|   520.00|\n",
       "|007da79904f69970d...|             800|              650|       250|              800|                    800|    800|            800|     500|             250|   800.00|\n",
       "|00f435a80d0440ece...|             500|              500|       100|              800|                    800|    800|            500|     250|             800|   475.00|\n",
       "|00fc2ae3ffb1213e4...|             650|              650|       250|              800|                    800|    800|            800|     250|             650|   450.00|\n",
       "|00fc8144cb210ba8c...|             500|              650|       250|              250|                    250|    800|            500|     250|             800|   500.00|\n",
       "|01121d7f3f6f27495...|             800|              650|       250|              800|                    800|    800|            800|     250|             800|   617.50|\n",
       "|0112e15adaf0c0029...|             500|              650|       250|              800|                    800|    800|            500|     250|             500|   450.00|\n",
       "|017ce564dc0d6f975...|             500|              500|       250|              800|                    800|    250|              0|     250|             800|   640.00|\n",
       "|017d1fd3d6169ee29...|             800|              500|       800|              250|                    250|    250|            500|     250|             650|   585.00|\n",
       "|018a82c47453bf02d...|             100|              650|       800|              250|                    800|    800|            800|     500|             650|   760.00|\n",
       "|018b0f369c2d63913...|             100|              650|       800|              800|                    800|    100|            800|     250|             800|   250.00|\n",
       "|01b39bf7187932c4a...|             800|              650|       250|              250|                    800|    800|            800|     500|             800|   585.00|\n",
       "|01d0686210978f0a7...|             500|              500|         0|              800|                    800|    800|              0|     250|             800|   720.00|\n",
       "|01d0c48835e969a01...|             500|              500|       800|              800|                    800|    250|              0|     500|             250|     0.00|\n",
       "|01ef63fce64f41ef9...|             800|              650|       250|              800|                    800|    800|            800|     500|             650|   552.50|\n",
       "+--------------------+----------------+-----------------+----------+-----------------+-----------------------+-------+---------------+--------+----------------+---------+\n",
       "only showing top 20 rows"
      ]
     },
     "execution_count": 91,
     "metadata": {},
     "output_type": "execute_result"
    }
   ],
   "source": [
    "fh_ldh_ph_df"
   ]
  },
  {
   "cell_type": "markdown",
   "id": "cf3a64cb",
   "metadata": {},
   "source": [
    "#Final Loan Score calculation by consdering all the 3 criterias with the following %**\n",
    "\n",
    "    1. Payment History = 20%\n",
    "    2. Loan Defaults = 45%\n",
    "    3. Financial Health = 35%"
   ]
  },
  {
   "cell_type": "code",
   "execution_count": 92,
   "id": "b4fd72b6",
   "metadata": {},
   "outputs": [],
   "source": [
    "loan_score = spark.sql(\"SELECT member_id, \\\n",
    "((last_payment_pts+total_payment_pts)*0.20) as payment_history_pts, \\\n",
    "((delinq_pts + public_record_pts + public_bankruptcies_pts + enq_pts) * 0.45) as defaulters_history_pts, \\\n",
    "((loan_status_pts + home_pts + credit_limit_pts + grade_pts)*0.35) as financial_health_pts \\\n",
    "FROM fh_ldh_ph_pts\")"
   ]
  },
  {
   "cell_type": "code",
   "execution_count": 93,
   "id": "ccf4861a",
   "metadata": {},
   "outputs": [],
   "source": [
    "from pyspark.sql.functions import expr"
   ]
  },
  {
   "cell_type": "code",
   "execution_count": 94,
   "id": "5478fec3",
   "metadata": {},
   "outputs": [],
   "source": [
    "final_loan_score=loan_score.withColumn(\"loan_score\",expr(\"payment_history_pts + defaulters_history_pts + financial_health_pts\"))"
   ]
  },
  {
   "cell_type": "code",
   "execution_count": 95,
   "id": "d64503a6",
   "metadata": {},
   "outputs": [
    {
     "data": {
      "text/html": [
       "<table border='1'>\n",
       "<tr><th>member_id</th><th>payment_history_pts</th><th>defaulters_history_pts</th><th>financial_health_pts</th><th>loan_score</th></tr>\n",
       "<tr><td>000c8875b71a6b47c...</td><td>290.00</td><td>1192.50</td><td>885.5000</td><td>2368.0000</td></tr>\n",
       "<tr><td>003769d7f54c7859e...</td><td>200.00</td><td>1192.50</td><td>402.5000</td><td>1795.0000</td></tr>\n",
       "<tr><td>003e1e6cbd2920bbb...</td><td>230.00</td><td>697.50</td><td>766.5000</td><td>1694.0000</td></tr>\n",
       "<tr><td>004017b21bd4d6271...</td><td>150.00</td><td>1080.00</td><td>822.5000</td><td>2052.5000</td></tr>\n",
       "<tr><td>005b4c3db3fce07dc...</td><td>230.00</td><td>697.50</td><td>619.5000</td><td>1547.0000</td></tr>\n",
       "<tr><td>00710707c563c2119...</td><td>290.00</td><td>1192.50</td><td>829.5000</td><td>2312.0000</td></tr>\n",
       "<tr><td>007da79904f69970d...</td><td>290.00</td><td>1192.50</td><td>822.5000</td><td>2305.0000</td></tr>\n",
       "<tr><td>00f435a80d0440ece...</td><td>200.00</td><td>1125.00</td><td>708.7500</td><td>2033.7500</td></tr>\n",
       "<tr><td>00fc2ae3ffb1213e4...</td><td>260.00</td><td>1192.50</td><td>752.5000</td><td>2205.0000</td></tr>\n",
       "<tr><td>00fc8144cb210ba8c...</td><td>230.00</td><td>697.50</td><td>717.5000</td><td>1645.0000</td></tr>\n",
       "<tr><td>01121d7f3f6f27495...</td><td>290.00</td><td>1192.50</td><td>863.6250</td><td>2346.1250</td></tr>\n",
       "<tr><td>0112e15adaf0c0029...</td><td>230.00</td><td>1192.50</td><td>595.0000</td><td>2017.5000</td></tr>\n",
       "<tr><td>017ce564dc0d6f975...</td><td>200.00</td><td>945.00</td><td>591.5000</td><td>1736.5000</td></tr>\n",
       "<tr><td>017d1fd3d6169ee29...</td><td>260.00</td><td>697.50</td><td>694.7500</td><td>1652.2500</td></tr>\n",
       "<tr><td>018a82c47453bf02d...</td><td>150.00</td><td>1192.50</td><td>948.5000</td><td>2291.0000</td></tr>\n",
       "<tr><td>018b0f369c2d63913...</td><td>150.00</td><td>1125.00</td><td>735.0000</td><td>2010.0000</td></tr>\n",
       "<tr><td>01b39bf7187932c4a...</td><td>290.00</td><td>945.00</td><td>939.7500</td><td>2174.7500</td></tr>\n",
       "<tr><td>01d0686210978f0a7...</td><td>200.00</td><td>1080.00</td><td>619.5000</td><td>1899.5000</td></tr>\n",
       "<tr><td>01d0c48835e969a01...</td><td>200.00</td><td>1192.50</td><td>262.5000</td><td>1655.0000</td></tr>\n",
       "<tr><td>01ef63fce64f41ef9...</td><td>290.00</td><td>1192.50</td><td>875.8750</td><td>2358.3750</td></tr>\n",
       "</table>\n",
       "only showing top 20 rows\n"
      ],
      "text/plain": [
       "+--------------------+-------------------+----------------------+--------------------+----------+\n",
       "|           member_id|payment_history_pts|defaulters_history_pts|financial_health_pts|loan_score|\n",
       "+--------------------+-------------------+----------------------+--------------------+----------+\n",
       "|000c8875b71a6b47c...|             290.00|               1192.50|            885.5000| 2368.0000|\n",
       "|003769d7f54c7859e...|             200.00|               1192.50|            402.5000| 1795.0000|\n",
       "|003e1e6cbd2920bbb...|             230.00|                697.50|            766.5000| 1694.0000|\n",
       "|004017b21bd4d6271...|             150.00|               1080.00|            822.5000| 2052.5000|\n",
       "|005b4c3db3fce07dc...|             230.00|                697.50|            619.5000| 1547.0000|\n",
       "|00710707c563c2119...|             290.00|               1192.50|            829.5000| 2312.0000|\n",
       "|007da79904f69970d...|             290.00|               1192.50|            822.5000| 2305.0000|\n",
       "|00f435a80d0440ece...|             200.00|               1125.00|            708.7500| 2033.7500|\n",
       "|00fc2ae3ffb1213e4...|             260.00|               1192.50|            752.5000| 2205.0000|\n",
       "|00fc8144cb210ba8c...|             230.00|                697.50|            717.5000| 1645.0000|\n",
       "|01121d7f3f6f27495...|             290.00|               1192.50|            863.6250| 2346.1250|\n",
       "|0112e15adaf0c0029...|             230.00|               1192.50|            595.0000| 2017.5000|\n",
       "|017ce564dc0d6f975...|             200.00|                945.00|            591.5000| 1736.5000|\n",
       "|017d1fd3d6169ee29...|             260.00|                697.50|            694.7500| 1652.2500|\n",
       "|018a82c47453bf02d...|             150.00|               1192.50|            948.5000| 2291.0000|\n",
       "|018b0f369c2d63913...|             150.00|               1125.00|            735.0000| 2010.0000|\n",
       "|01b39bf7187932c4a...|             290.00|                945.00|            939.7500| 2174.7500|\n",
       "|01d0686210978f0a7...|             200.00|               1080.00|            619.5000| 1899.5000|\n",
       "|01d0c48835e969a01...|             200.00|               1192.50|            262.5000| 1655.0000|\n",
       "|01ef63fce64f41ef9...|             290.00|               1192.50|            875.8750| 2358.3750|\n",
       "+--------------------+-------------------+----------------------+--------------------+----------+\n",
       "only showing top 20 rows"
      ]
     },
     "execution_count": 95,
     "metadata": {},
     "output_type": "execute_result"
    }
   ],
   "source": [
    "final_loan_score"
   ]
  },
  {
   "cell_type": "code",
   "execution_count": 96,
   "id": "b119dce4",
   "metadata": {},
   "outputs": [],
   "source": [
    "final_loan_score.createOrReplaceTempView(\"loan_score_eval\")"
   ]
  },
  {
   "cell_type": "code",
   "execution_count": 97,
   "id": "ac064a30",
   "metadata": {},
   "outputs": [],
   "source": [
    "loan_score_final = spark.sql(\"select ls.*, \\\n",
    "case \\\n",
    "WHEN loan_score > ${spark.sql.very_good_grade_pts} THEN 'A' \\\n",
    "WHEN loan_score <= ${spark.sql.very_good_grade_pts} AND loan_score > ${spark.sql.good_grade_pts} THEN 'B' \\\n",
    "WHEN loan_score <= ${spark.sql.good_grade_pts} AND loan_score > ${spark.sql.bad_grade_pts} THEN 'C' \\\n",
    "WHEN loan_score <= ${spark.sql.bad_grade_pts} AND loan_score  > ${spark.sql.very_bad_grade_pts} THEN 'D' \\\n",
    "WHEN loan_score <= ${spark.sql.very_bad_grade_pts} AND loan_score > ${spark.sql.unacceptable_grade_pts} THEN 'E'  \\\n",
    "WHEN loan_score <= ${spark.sql.unacceptable_grade_pts} THEN 'F' \\\n",
    "end as loan_final_grade \\\n",
    "from loan_score_eval ls\")"
   ]
  },
  {
   "cell_type": "code",
   "execution_count": 98,
   "id": "8944b502",
   "metadata": {},
   "outputs": [],
   "source": [
    "loan_score_final.createOrReplaceTempView(\"loan_final_table\")"
   ]
  },
  {
   "cell_type": "code",
   "execution_count": 100,
   "id": "9c38ccd6",
   "metadata": {},
   "outputs": [
    {
     "data": {
      "text/plain": [
       "482842"
      ]
     },
     "execution_count": 100,
     "metadata": {},
     "output_type": "execute_result"
    }
   ],
   "source": [
    "loan_score_final.count()"
   ]
  },
  {
   "cell_type": "code",
   "execution_count": 101,
   "id": "a21cb829",
   "metadata": {},
   "outputs": [],
   "source": [
    "loan_score_final.write \\\n",
    ".format(\"parquet\") \\\n",
    ".mode(\"overwrite\") \\\n",
    ".option(\"path\",\"/user/itv007136/lendingclubproject/processed/loan_score\") \\\n",
    ".save()"
   ]
  },
  {
   "cell_type": "code",
   "execution_count": 102,
   "id": "135120d9",
   "metadata": {},
   "outputs": [],
   "source": [
    "spark.stop()"
   ]
  },
  {
   "cell_type": "code",
   "execution_count": null,
   "id": "98798e13",
   "metadata": {},
   "outputs": [],
   "source": []
  }
 ],
 "metadata": {
  "kernelspec": {
   "display_name": "Pyspark 3",
   "language": "python",
   "name": "pyspark3"
  },
  "language_info": {
   "codemirror_mode": {
    "name": "ipython",
    "version": 3
   },
   "file_extension": ".py",
   "mimetype": "text/x-python",
   "name": "python",
   "nbconvert_exporter": "python",
   "pygments_lexer": "ipython3",
   "version": "3.6.12"
  }
 },
 "nbformat": 4,
 "nbformat_minor": 5
}
