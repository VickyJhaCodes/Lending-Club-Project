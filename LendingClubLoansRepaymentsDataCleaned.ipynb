{
 "cells": [
  {
   "cell_type": "code",
   "execution_count": 59,
   "id": "a3c3f692",
   "metadata": {},
   "outputs": [],
   "source": [
    "from pyspark.sql import SparkSession\n",
    "import getpass\n",
    "username = getpass.getuser()\n",
    "spark = SparkSession. \\\n",
    "builder. \\\n",
    "config('spark.ui.port','0'). \\\n",
    "config('spark.shuffle.useOldFetchProtocol','true'). \\\n",
    "config(\"spark.sql.warehouse.dir\", f\"/user/itv007136/warehouse\"). \\\n",
    "enableHiveSupport(). \\\n",
    "master('yarn'). \\\n",
    "getOrCreate()"
   ]
  },
  {
   "cell_type": "code",
   "execution_count": 60,
   "id": "8be401c2",
   "metadata": {},
   "outputs": [
    {
     "data": {
      "text/html": [
       "\n",
       "            <div>\n",
       "                <p><b>SparkSession - hive</b></p>\n",
       "                \n",
       "        <div>\n",
       "            <p><b>SparkContext</b></p>\n",
       "\n",
       "            <p><a href=\"http://g01.itversity.com:44743\">Spark UI</a></p>\n",
       "\n",
       "            <dl>\n",
       "              <dt>Version</dt>\n",
       "                <dd><code>v3.1.2</code></dd>\n",
       "              <dt>Master</dt>\n",
       "                <dd><code>yarn</code></dd>\n",
       "              <dt>AppName</dt>\n",
       "                <dd><code>pyspark-shell</code></dd>\n",
       "            </dl>\n",
       "        </div>\n",
       "        \n",
       "            </div>\n",
       "        "
      ],
      "text/plain": [
       "<pyspark.sql.session.SparkSession at 0x7f659ccfbba8>"
      ]
     },
     "execution_count": 60,
     "metadata": {},
     "output_type": "execute_result"
    }
   ],
   "source": [
    "spark"
   ]
  },
  {
   "cell_type": "code",
   "execution_count": 61,
   "id": "b2afd998",
   "metadata": {},
   "outputs": [],
   "source": [
    "loans_repayments_df=spark.read.format(\"csv\").option(\"header\",\"true\").option(\"inferSchema\",\"true\").load(\"/public/trendytech/lendingclubproject/raw/loans_repayments_csv/part-00000-1dde4854-b613-4f8a-abf8-c50a004013a5-c000.csv\")"
   ]
  },
  {
   "cell_type": "code",
   "execution_count": 62,
   "id": "1cc92b3b",
   "metadata": {},
   "outputs": [
    {
     "data": {
      "text/html": [
       "<table border='1'>\n",
       "<tr><th>loan_id</th><th>total_rec_prncp</th><th>total_rec_int</th><th>total_rec_late_fee</th><th>total_pymnt</th><th>last_pymnt_amnt</th><th>last_pymnt_d</th><th>next_pymnt_d</th></tr>\n",
       "<tr><td>141581221</td><td>1055.81</td><td>2591.7</td><td>0.0</td><td>3647.51</td><td>709.23</td><td>Mar-2019</td><td>Apr-2019</td></tr>\n",
       "<tr><td>141506948</td><td>1252.75</td><td>306.04</td><td>0.0</td><td>1558.79</td><td>312.63</td><td>Mar-2019</td><td>Apr-2019</td></tr>\n",
       "<tr><td>141357400</td><td>626.37</td><td>354.96</td><td>0.0</td><td>981.33</td><td>197.27</td><td>Mar-2019</td><td>Apr-2019</td></tr>\n",
       "<tr><td>139445427</td><td>1118.16</td><td>297.36</td><td>0.0</td><td>1415.52</td><td>283.95</td><td>Mar-2019</td><td>Apr-2019</td></tr>\n",
       "<tr><td>141407409</td><td>1169.72</td><td>3605.3</td><td>0.0</td><td>4775.02</td><td>964.9</td><td>Mar-2019</td><td>Apr-2019</td></tr>\n",
       "<tr><td>141360802</td><td>2313.98</td><td>2512.88</td><td>0.0</td><td>4826.86</td><td>952.02</td><td>Mar-2019</td><td>Apr-2019</td></tr>\n",
       "<tr><td>141163960</td><td>4689.63</td><td>1994.93</td><td>0.0</td><td>6684.56</td><td>1342.57</td><td>Mar-2019</td><td>Apr-2019</td></tr>\n",
       "<tr><td>141533932</td><td>585.29</td><td>640.53</td><td>15.0</td><td>1240.82</td><td>235.13</td><td>Mar-2019</td><td>Apr-2019</td></tr>\n",
       "<tr><td>141441276</td><td>2030.82</td><td>762.81</td><td>0.0</td><td>2793.63</td><td>477.62</td><td>Mar-2019</td><td>Apr-2019</td></tr>\n",
       "<tr><td>141569080</td><td>1803.55</td><td>1110.59</td><td>0.0</td><td>2914.14</td><td>585.91</td><td>Mar-2019</td><td>Apr-2019</td></tr>\n",
       "<tr><td>140961277</td><td>1144.71</td><td>559.56</td><td>0.0</td><td>1704.27</td><td>344.07</td><td>Mar-2019</td><td>Apr-2019</td></tr>\n",
       "<tr><td>141466656</td><td>1297.9</td><td>838.42</td><td>0.0</td><td>2136.32</td><td>429.59</td><td>Mar-2019</td><td>Apr-2019</td></tr>\n",
       "<tr><td>141575085</td><td>613.26</td><td>510.47</td><td>0.0</td><td>1123.73</td><td>226.16</td><td>Mar-2019</td><td>Apr-2019</td></tr>\n",
       "<tr><td>141429235</td><td>4008.76</td><td>1058.83</td><td>0.0</td><td>5067.59</td><td>1000.41</td><td>Mar-2019</td><td>Apr-2019</td></tr>\n",
       "<tr><td>141545082</td><td>1297.9</td><td>838.42</td><td>0.0</td><td>2136.32</td><td>429.59</td><td>Mar-2019</td><td>Apr-2019</td></tr>\n",
       "<tr><td>141584203</td><td>747.08</td><td>243.73</td><td>0.0</td><td>990.81</td><td>193.84</td><td>Mar-2019</td><td>Apr-2019</td></tr>\n",
       "<tr><td>141201047</td><td>2266.29</td><td>1184.57</td><td>34.68</td><td>3485.54</td><td>693.51</td><td>Mar-2019</td><td>Apr-2019</td></tr>\n",
       "<tr><td>140580869</td><td>1450.9</td><td>491.42</td><td>0.0</td><td>1942.32</td><td>389.86</td><td>Mar-2019</td><td>Apr-2019</td></tr>\n",
       "<tr><td>141539871</td><td>2290.47</td><td>468.26</td><td>0.0</td><td>2758.73</td><td>553.08</td><td>Mar-2019</td><td>Apr-2019</td></tr>\n",
       "<tr><td>141386443</td><td>1173.43</td><td>1161.79</td><td>0.0</td><td>2335.22</td><td>470.26</td><td>Mar-2019</td><td>Apr-2019</td></tr>\n",
       "</table>\n",
       "only showing top 20 rows\n"
      ],
      "text/plain": [
       "+---------+---------------+-------------+------------------+-----------+---------------+------------+------------+\n",
       "|  loan_id|total_rec_prncp|total_rec_int|total_rec_late_fee|total_pymnt|last_pymnt_amnt|last_pymnt_d|next_pymnt_d|\n",
       "+---------+---------------+-------------+------------------+-----------+---------------+------------+------------+\n",
       "|141581221|        1055.81|       2591.7|               0.0|    3647.51|         709.23|    Mar-2019|    Apr-2019|\n",
       "|141506948|        1252.75|       306.04|               0.0|    1558.79|         312.63|    Mar-2019|    Apr-2019|\n",
       "|141357400|         626.37|       354.96|               0.0|     981.33|         197.27|    Mar-2019|    Apr-2019|\n",
       "|139445427|        1118.16|       297.36|               0.0|    1415.52|         283.95|    Mar-2019|    Apr-2019|\n",
       "|141407409|        1169.72|       3605.3|               0.0|    4775.02|          964.9|    Mar-2019|    Apr-2019|\n",
       "|141360802|        2313.98|      2512.88|               0.0|    4826.86|         952.02|    Mar-2019|    Apr-2019|\n",
       "|141163960|        4689.63|      1994.93|               0.0|    6684.56|        1342.57|    Mar-2019|    Apr-2019|\n",
       "|141533932|         585.29|       640.53|              15.0|    1240.82|         235.13|    Mar-2019|    Apr-2019|\n",
       "|141441276|        2030.82|       762.81|               0.0|    2793.63|         477.62|    Mar-2019|    Apr-2019|\n",
       "|141569080|        1803.55|      1110.59|               0.0|    2914.14|         585.91|    Mar-2019|    Apr-2019|\n",
       "|140961277|        1144.71|       559.56|               0.0|    1704.27|         344.07|    Mar-2019|    Apr-2019|\n",
       "|141466656|         1297.9|       838.42|               0.0|    2136.32|         429.59|    Mar-2019|    Apr-2019|\n",
       "|141575085|         613.26|       510.47|               0.0|    1123.73|         226.16|    Mar-2019|    Apr-2019|\n",
       "|141429235|        4008.76|      1058.83|               0.0|    5067.59|        1000.41|    Mar-2019|    Apr-2019|\n",
       "|141545082|         1297.9|       838.42|               0.0|    2136.32|         429.59|    Mar-2019|    Apr-2019|\n",
       "|141584203|         747.08|       243.73|               0.0|     990.81|         193.84|    Mar-2019|    Apr-2019|\n",
       "|141201047|        2266.29|      1184.57|             34.68|    3485.54|         693.51|    Mar-2019|    Apr-2019|\n",
       "|140580869|         1450.9|       491.42|               0.0|    1942.32|         389.86|    Mar-2019|    Apr-2019|\n",
       "|141539871|        2290.47|       468.26|               0.0|    2758.73|         553.08|    Mar-2019|    Apr-2019|\n",
       "|141386443|        1173.43|      1161.79|               0.0|    2335.22|         470.26|    Mar-2019|    Apr-2019|\n",
       "+---------+---------------+-------------+------------------+-----------+---------------+------------+------------+\n",
       "only showing top 20 rows"
      ]
     },
     "execution_count": 62,
     "metadata": {},
     "output_type": "execute_result"
    }
   ],
   "source": [
    "loans_repayments_df"
   ]
  },
  {
   "cell_type": "markdown",
   "id": "a37ac1ee",
   "metadata": {},
   "source": [
    "### We will change the column names and also change datatypes"
   ]
  },
  {
   "cell_type": "code",
   "execution_count": 63,
   "id": "7aacea87",
   "metadata": {},
   "outputs": [],
   "source": [
    "loans_repayments_schema=\"loan_id string,total_principal_recieved float,total_interest_recieved float,total_late_fee_recieved float,total_payment_recieved float,last_payment_amount float, last_payment_date string,next_payment_date string\""
   ]
  },
  {
   "cell_type": "code",
   "execution_count": 64,
   "id": "5906b984",
   "metadata": {},
   "outputs": [],
   "source": [
    "loans_repayments_raw_df=spark.read.format(\"csv\").option(\"header\",\"true\").schema(loans_repayments_schema).load(\"/public/trendytech/lendingclubproject/raw/loans_repayments_csv/part-00000-1dde4854-b613-4f8a-abf8-c50a004013a5-c000.csv\")"
   ]
  },
  {
   "cell_type": "code",
   "execution_count": 65,
   "id": "8178c103",
   "metadata": {},
   "outputs": [
    {
     "data": {
      "text/html": [
       "<table border='1'>\n",
       "<tr><th>loan_id</th><th>total_principal_recieved</th><th>total_interest_recieved</th><th>total_late_fee_recieved</th><th>total_payment_recieved</th><th>last_payment_amount</th><th>last_payment_date</th><th>next_payment_date</th></tr>\n",
       "<tr><td>141581221</td><td>1055.81</td><td>2591.7</td><td>0.0</td><td>3647.51</td><td>709.23</td><td>Mar-2019</td><td>Apr-2019</td></tr>\n",
       "<tr><td>141506948</td><td>1252.75</td><td>306.04</td><td>0.0</td><td>1558.79</td><td>312.63</td><td>Mar-2019</td><td>Apr-2019</td></tr>\n",
       "<tr><td>141357400</td><td>626.37</td><td>354.96</td><td>0.0</td><td>981.33</td><td>197.27</td><td>Mar-2019</td><td>Apr-2019</td></tr>\n",
       "<tr><td>139445427</td><td>1118.16</td><td>297.36</td><td>0.0</td><td>1415.52</td><td>283.95</td><td>Mar-2019</td><td>Apr-2019</td></tr>\n",
       "<tr><td>141407409</td><td>1169.72</td><td>3605.3</td><td>0.0</td><td>4775.02</td><td>964.9</td><td>Mar-2019</td><td>Apr-2019</td></tr>\n",
       "<tr><td>141360802</td><td>2313.98</td><td>2512.88</td><td>0.0</td><td>4826.86</td><td>952.02</td><td>Mar-2019</td><td>Apr-2019</td></tr>\n",
       "<tr><td>141163960</td><td>4689.63</td><td>1994.93</td><td>0.0</td><td>6684.56</td><td>1342.57</td><td>Mar-2019</td><td>Apr-2019</td></tr>\n",
       "<tr><td>141533932</td><td>585.29</td><td>640.53</td><td>15.0</td><td>1240.82</td><td>235.13</td><td>Mar-2019</td><td>Apr-2019</td></tr>\n",
       "<tr><td>141441276</td><td>2030.82</td><td>762.81</td><td>0.0</td><td>2793.63</td><td>477.62</td><td>Mar-2019</td><td>Apr-2019</td></tr>\n",
       "<tr><td>141569080</td><td>1803.55</td><td>1110.59</td><td>0.0</td><td>2914.14</td><td>585.91</td><td>Mar-2019</td><td>Apr-2019</td></tr>\n",
       "<tr><td>140961277</td><td>1144.71</td><td>559.56</td><td>0.0</td><td>1704.27</td><td>344.07</td><td>Mar-2019</td><td>Apr-2019</td></tr>\n",
       "<tr><td>141466656</td><td>1297.9</td><td>838.42</td><td>0.0</td><td>2136.32</td><td>429.59</td><td>Mar-2019</td><td>Apr-2019</td></tr>\n",
       "<tr><td>141575085</td><td>613.26</td><td>510.47</td><td>0.0</td><td>1123.73</td><td>226.16</td><td>Mar-2019</td><td>Apr-2019</td></tr>\n",
       "<tr><td>141429235</td><td>4008.76</td><td>1058.83</td><td>0.0</td><td>5067.59</td><td>1000.41</td><td>Mar-2019</td><td>Apr-2019</td></tr>\n",
       "<tr><td>141545082</td><td>1297.9</td><td>838.42</td><td>0.0</td><td>2136.32</td><td>429.59</td><td>Mar-2019</td><td>Apr-2019</td></tr>\n",
       "<tr><td>141584203</td><td>747.08</td><td>243.73</td><td>0.0</td><td>990.81</td><td>193.84</td><td>Mar-2019</td><td>Apr-2019</td></tr>\n",
       "<tr><td>141201047</td><td>2266.29</td><td>1184.57</td><td>34.68</td><td>3485.54</td><td>693.51</td><td>Mar-2019</td><td>Apr-2019</td></tr>\n",
       "<tr><td>140580869</td><td>1450.9</td><td>491.42</td><td>0.0</td><td>1942.32</td><td>389.86</td><td>Mar-2019</td><td>Apr-2019</td></tr>\n",
       "<tr><td>141539871</td><td>2290.47</td><td>468.26</td><td>0.0</td><td>2758.73</td><td>553.08</td><td>Mar-2019</td><td>Apr-2019</td></tr>\n",
       "<tr><td>141386443</td><td>1173.43</td><td>1161.79</td><td>0.0</td><td>2335.22</td><td>470.26</td><td>Mar-2019</td><td>Apr-2019</td></tr>\n",
       "</table>\n",
       "only showing top 20 rows\n"
      ],
      "text/plain": [
       "+---------+------------------------+-----------------------+-----------------------+----------------------+-------------------+-----------------+-----------------+\n",
       "|  loan_id|total_principal_recieved|total_interest_recieved|total_late_fee_recieved|total_payment_recieved|last_payment_amount|last_payment_date|next_payment_date|\n",
       "+---------+------------------------+-----------------------+-----------------------+----------------------+-------------------+-----------------+-----------------+\n",
       "|141581221|                 1055.81|                 2591.7|                    0.0|               3647.51|             709.23|         Mar-2019|         Apr-2019|\n",
       "|141506948|                 1252.75|                 306.04|                    0.0|               1558.79|             312.63|         Mar-2019|         Apr-2019|\n",
       "|141357400|                  626.37|                 354.96|                    0.0|                981.33|             197.27|         Mar-2019|         Apr-2019|\n",
       "|139445427|                 1118.16|                 297.36|                    0.0|               1415.52|             283.95|         Mar-2019|         Apr-2019|\n",
       "|141407409|                 1169.72|                 3605.3|                    0.0|               4775.02|              964.9|         Mar-2019|         Apr-2019|\n",
       "|141360802|                 2313.98|                2512.88|                    0.0|               4826.86|             952.02|         Mar-2019|         Apr-2019|\n",
       "|141163960|                 4689.63|                1994.93|                    0.0|               6684.56|            1342.57|         Mar-2019|         Apr-2019|\n",
       "|141533932|                  585.29|                 640.53|                   15.0|               1240.82|             235.13|         Mar-2019|         Apr-2019|\n",
       "|141441276|                 2030.82|                 762.81|                    0.0|               2793.63|             477.62|         Mar-2019|         Apr-2019|\n",
       "|141569080|                 1803.55|                1110.59|                    0.0|               2914.14|             585.91|         Mar-2019|         Apr-2019|\n",
       "|140961277|                 1144.71|                 559.56|                    0.0|               1704.27|             344.07|         Mar-2019|         Apr-2019|\n",
       "|141466656|                  1297.9|                 838.42|                    0.0|               2136.32|             429.59|         Mar-2019|         Apr-2019|\n",
       "|141575085|                  613.26|                 510.47|                    0.0|               1123.73|             226.16|         Mar-2019|         Apr-2019|\n",
       "|141429235|                 4008.76|                1058.83|                    0.0|               5067.59|            1000.41|         Mar-2019|         Apr-2019|\n",
       "|141545082|                  1297.9|                 838.42|                    0.0|               2136.32|             429.59|         Mar-2019|         Apr-2019|\n",
       "|141584203|                  747.08|                 243.73|                    0.0|                990.81|             193.84|         Mar-2019|         Apr-2019|\n",
       "|141201047|                 2266.29|                1184.57|                  34.68|               3485.54|             693.51|         Mar-2019|         Apr-2019|\n",
       "|140580869|                  1450.9|                 491.42|                    0.0|               1942.32|             389.86|         Mar-2019|         Apr-2019|\n",
       "|141539871|                 2290.47|                 468.26|                    0.0|               2758.73|             553.08|         Mar-2019|         Apr-2019|\n",
       "|141386443|                 1173.43|                1161.79|                    0.0|               2335.22|             470.26|         Mar-2019|         Apr-2019|\n",
       "+---------+------------------------+-----------------------+-----------------------+----------------------+-------------------+-----------------+-----------------+\n",
       "only showing top 20 rows"
      ]
     },
     "execution_count": 65,
     "metadata": {},
     "output_type": "execute_result"
    }
   ],
   "source": [
    "loans_repayments_raw_df"
   ]
  },
  {
   "cell_type": "code",
   "execution_count": 66,
   "id": "03323b73",
   "metadata": {},
   "outputs": [
    {
     "name": "stdout",
     "output_type": "stream",
     "text": [
      "root\n",
      " |-- loan_id: string (nullable = true)\n",
      " |-- total_principal_recieved: float (nullable = true)\n",
      " |-- total_interest_recieved: float (nullable = true)\n",
      " |-- total_late_fee_recieved: float (nullable = true)\n",
      " |-- total_payment_recieved: float (nullable = true)\n",
      " |-- last_payment_amount: float (nullable = true)\n",
      " |-- last_payment_date: string (nullable = true)\n",
      " |-- next_payment_date: string (nullable = true)\n",
      "\n"
     ]
    }
   ],
   "source": [
    "loans_repayments_raw_df.printSchema()"
   ]
  },
  {
   "cell_type": "code",
   "execution_count": 67,
   "id": "e254cfbf",
   "metadata": {},
   "outputs": [],
   "source": [
    "from pyspark.sql.functions import current_timestamp"
   ]
  },
  {
   "cell_type": "code",
   "execution_count": 68,
   "id": "3ddcad5c",
   "metadata": {},
   "outputs": [],
   "source": [
    "loans_repayments_ingested=loans_repayments_raw_df.withColumn(\"ingested_date\",current_timestamp())"
   ]
  },
  {
   "cell_type": "code",
   "execution_count": 69,
   "id": "968a9967",
   "metadata": {},
   "outputs": [
    {
     "data": {
      "text/html": [
       "<table border='1'>\n",
       "<tr><th>loan_id</th><th>total_principal_recieved</th><th>total_interest_recieved</th><th>total_late_fee_recieved</th><th>total_payment_recieved</th><th>last_payment_amount</th><th>last_payment_date</th><th>next_payment_date</th><th>ingested_date</th></tr>\n",
       "<tr><td>141581221</td><td>1055.81</td><td>2591.7</td><td>0.0</td><td>3647.51</td><td>709.23</td><td>Mar-2019</td><td>Apr-2019</td><td>2024-04-05 14:01:...</td></tr>\n",
       "<tr><td>141506948</td><td>1252.75</td><td>306.04</td><td>0.0</td><td>1558.79</td><td>312.63</td><td>Mar-2019</td><td>Apr-2019</td><td>2024-04-05 14:01:...</td></tr>\n",
       "<tr><td>141357400</td><td>626.37</td><td>354.96</td><td>0.0</td><td>981.33</td><td>197.27</td><td>Mar-2019</td><td>Apr-2019</td><td>2024-04-05 14:01:...</td></tr>\n",
       "<tr><td>139445427</td><td>1118.16</td><td>297.36</td><td>0.0</td><td>1415.52</td><td>283.95</td><td>Mar-2019</td><td>Apr-2019</td><td>2024-04-05 14:01:...</td></tr>\n",
       "<tr><td>141407409</td><td>1169.72</td><td>3605.3</td><td>0.0</td><td>4775.02</td><td>964.9</td><td>Mar-2019</td><td>Apr-2019</td><td>2024-04-05 14:01:...</td></tr>\n",
       "<tr><td>141360802</td><td>2313.98</td><td>2512.88</td><td>0.0</td><td>4826.86</td><td>952.02</td><td>Mar-2019</td><td>Apr-2019</td><td>2024-04-05 14:01:...</td></tr>\n",
       "<tr><td>141163960</td><td>4689.63</td><td>1994.93</td><td>0.0</td><td>6684.56</td><td>1342.57</td><td>Mar-2019</td><td>Apr-2019</td><td>2024-04-05 14:01:...</td></tr>\n",
       "<tr><td>141533932</td><td>585.29</td><td>640.53</td><td>15.0</td><td>1240.82</td><td>235.13</td><td>Mar-2019</td><td>Apr-2019</td><td>2024-04-05 14:01:...</td></tr>\n",
       "<tr><td>141441276</td><td>2030.82</td><td>762.81</td><td>0.0</td><td>2793.63</td><td>477.62</td><td>Mar-2019</td><td>Apr-2019</td><td>2024-04-05 14:01:...</td></tr>\n",
       "<tr><td>141569080</td><td>1803.55</td><td>1110.59</td><td>0.0</td><td>2914.14</td><td>585.91</td><td>Mar-2019</td><td>Apr-2019</td><td>2024-04-05 14:01:...</td></tr>\n",
       "<tr><td>140961277</td><td>1144.71</td><td>559.56</td><td>0.0</td><td>1704.27</td><td>344.07</td><td>Mar-2019</td><td>Apr-2019</td><td>2024-04-05 14:01:...</td></tr>\n",
       "<tr><td>141466656</td><td>1297.9</td><td>838.42</td><td>0.0</td><td>2136.32</td><td>429.59</td><td>Mar-2019</td><td>Apr-2019</td><td>2024-04-05 14:01:...</td></tr>\n",
       "<tr><td>141575085</td><td>613.26</td><td>510.47</td><td>0.0</td><td>1123.73</td><td>226.16</td><td>Mar-2019</td><td>Apr-2019</td><td>2024-04-05 14:01:...</td></tr>\n",
       "<tr><td>141429235</td><td>4008.76</td><td>1058.83</td><td>0.0</td><td>5067.59</td><td>1000.41</td><td>Mar-2019</td><td>Apr-2019</td><td>2024-04-05 14:01:...</td></tr>\n",
       "<tr><td>141545082</td><td>1297.9</td><td>838.42</td><td>0.0</td><td>2136.32</td><td>429.59</td><td>Mar-2019</td><td>Apr-2019</td><td>2024-04-05 14:01:...</td></tr>\n",
       "<tr><td>141584203</td><td>747.08</td><td>243.73</td><td>0.0</td><td>990.81</td><td>193.84</td><td>Mar-2019</td><td>Apr-2019</td><td>2024-04-05 14:01:...</td></tr>\n",
       "<tr><td>141201047</td><td>2266.29</td><td>1184.57</td><td>34.68</td><td>3485.54</td><td>693.51</td><td>Mar-2019</td><td>Apr-2019</td><td>2024-04-05 14:01:...</td></tr>\n",
       "<tr><td>140580869</td><td>1450.9</td><td>491.42</td><td>0.0</td><td>1942.32</td><td>389.86</td><td>Mar-2019</td><td>Apr-2019</td><td>2024-04-05 14:01:...</td></tr>\n",
       "<tr><td>141539871</td><td>2290.47</td><td>468.26</td><td>0.0</td><td>2758.73</td><td>553.08</td><td>Mar-2019</td><td>Apr-2019</td><td>2024-04-05 14:01:...</td></tr>\n",
       "<tr><td>141386443</td><td>1173.43</td><td>1161.79</td><td>0.0</td><td>2335.22</td><td>470.26</td><td>Mar-2019</td><td>Apr-2019</td><td>2024-04-05 14:01:...</td></tr>\n",
       "</table>\n",
       "only showing top 20 rows\n"
      ],
      "text/plain": [
       "+---------+------------------------+-----------------------+-----------------------+----------------------+-------------------+-----------------+-----------------+--------------------+\n",
       "|  loan_id|total_principal_recieved|total_interest_recieved|total_late_fee_recieved|total_payment_recieved|last_payment_amount|last_payment_date|next_payment_date|       ingested_date|\n",
       "+---------+------------------------+-----------------------+-----------------------+----------------------+-------------------+-----------------+-----------------+--------------------+\n",
       "|141581221|                 1055.81|                 2591.7|                    0.0|               3647.51|             709.23|         Mar-2019|         Apr-2019|2024-04-05 14:01:...|\n",
       "|141506948|                 1252.75|                 306.04|                    0.0|               1558.79|             312.63|         Mar-2019|         Apr-2019|2024-04-05 14:01:...|\n",
       "|141357400|                  626.37|                 354.96|                    0.0|                981.33|             197.27|         Mar-2019|         Apr-2019|2024-04-05 14:01:...|\n",
       "|139445427|                 1118.16|                 297.36|                    0.0|               1415.52|             283.95|         Mar-2019|         Apr-2019|2024-04-05 14:01:...|\n",
       "|141407409|                 1169.72|                 3605.3|                    0.0|               4775.02|              964.9|         Mar-2019|         Apr-2019|2024-04-05 14:01:...|\n",
       "|141360802|                 2313.98|                2512.88|                    0.0|               4826.86|             952.02|         Mar-2019|         Apr-2019|2024-04-05 14:01:...|\n",
       "|141163960|                 4689.63|                1994.93|                    0.0|               6684.56|            1342.57|         Mar-2019|         Apr-2019|2024-04-05 14:01:...|\n",
       "|141533932|                  585.29|                 640.53|                   15.0|               1240.82|             235.13|         Mar-2019|         Apr-2019|2024-04-05 14:01:...|\n",
       "|141441276|                 2030.82|                 762.81|                    0.0|               2793.63|             477.62|         Mar-2019|         Apr-2019|2024-04-05 14:01:...|\n",
       "|141569080|                 1803.55|                1110.59|                    0.0|               2914.14|             585.91|         Mar-2019|         Apr-2019|2024-04-05 14:01:...|\n",
       "|140961277|                 1144.71|                 559.56|                    0.0|               1704.27|             344.07|         Mar-2019|         Apr-2019|2024-04-05 14:01:...|\n",
       "|141466656|                  1297.9|                 838.42|                    0.0|               2136.32|             429.59|         Mar-2019|         Apr-2019|2024-04-05 14:01:...|\n",
       "|141575085|                  613.26|                 510.47|                    0.0|               1123.73|             226.16|         Mar-2019|         Apr-2019|2024-04-05 14:01:...|\n",
       "|141429235|                 4008.76|                1058.83|                    0.0|               5067.59|            1000.41|         Mar-2019|         Apr-2019|2024-04-05 14:01:...|\n",
       "|141545082|                  1297.9|                 838.42|                    0.0|               2136.32|             429.59|         Mar-2019|         Apr-2019|2024-04-05 14:01:...|\n",
       "|141584203|                  747.08|                 243.73|                    0.0|                990.81|             193.84|         Mar-2019|         Apr-2019|2024-04-05 14:01:...|\n",
       "|141201047|                 2266.29|                1184.57|                  34.68|               3485.54|             693.51|         Mar-2019|         Apr-2019|2024-04-05 14:01:...|\n",
       "|140580869|                  1450.9|                 491.42|                    0.0|               1942.32|             389.86|         Mar-2019|         Apr-2019|2024-04-05 14:01:...|\n",
       "|141539871|                 2290.47|                 468.26|                    0.0|               2758.73|             553.08|         Mar-2019|         Apr-2019|2024-04-05 14:01:...|\n",
       "|141386443|                 1173.43|                1161.79|                    0.0|               2335.22|             470.26|         Mar-2019|         Apr-2019|2024-04-05 14:01:...|\n",
       "+---------+------------------------+-----------------------+-----------------------+----------------------+-------------------+-----------------+-----------------+--------------------+\n",
       "only showing top 20 rows"
      ]
     },
     "execution_count": 69,
     "metadata": {},
     "output_type": "execute_result"
    }
   ],
   "source": [
    "loans_repayments_ingested"
   ]
  },
  {
   "cell_type": "code",
   "execution_count": 70,
   "id": "30648476",
   "metadata": {},
   "outputs": [],
   "source": [
    "loans_repayments_ingested.createOrReplaceTempView(\"loans_repayments\")"
   ]
  },
  {
   "cell_type": "code",
   "execution_count": 71,
   "id": "21d9811c",
   "metadata": {},
   "outputs": [
    {
     "data": {
      "text/html": [
       "<table border='1'>\n",
       "<tr><th>loan_id</th><th>total_principal_recieved</th><th>total_interest_recieved</th><th>total_late_fee_recieved</th><th>total_payment_recieved</th><th>last_payment_amount</th><th>last_payment_date</th><th>next_payment_date</th><th>ingested_date</th></tr>\n",
       "<tr><td>141581221</td><td>1055.81</td><td>2591.7</td><td>0.0</td><td>3647.51</td><td>709.23</td><td>Mar-2019</td><td>Apr-2019</td><td>2024-04-05 14:01:...</td></tr>\n",
       "<tr><td>141506948</td><td>1252.75</td><td>306.04</td><td>0.0</td><td>1558.79</td><td>312.63</td><td>Mar-2019</td><td>Apr-2019</td><td>2024-04-05 14:01:...</td></tr>\n",
       "<tr><td>141357400</td><td>626.37</td><td>354.96</td><td>0.0</td><td>981.33</td><td>197.27</td><td>Mar-2019</td><td>Apr-2019</td><td>2024-04-05 14:01:...</td></tr>\n",
       "<tr><td>139445427</td><td>1118.16</td><td>297.36</td><td>0.0</td><td>1415.52</td><td>283.95</td><td>Mar-2019</td><td>Apr-2019</td><td>2024-04-05 14:01:...</td></tr>\n",
       "<tr><td>141407409</td><td>1169.72</td><td>3605.3</td><td>0.0</td><td>4775.02</td><td>964.9</td><td>Mar-2019</td><td>Apr-2019</td><td>2024-04-05 14:01:...</td></tr>\n",
       "<tr><td>141360802</td><td>2313.98</td><td>2512.88</td><td>0.0</td><td>4826.86</td><td>952.02</td><td>Mar-2019</td><td>Apr-2019</td><td>2024-04-05 14:01:...</td></tr>\n",
       "<tr><td>141163960</td><td>4689.63</td><td>1994.93</td><td>0.0</td><td>6684.56</td><td>1342.57</td><td>Mar-2019</td><td>Apr-2019</td><td>2024-04-05 14:01:...</td></tr>\n",
       "<tr><td>141533932</td><td>585.29</td><td>640.53</td><td>15.0</td><td>1240.82</td><td>235.13</td><td>Mar-2019</td><td>Apr-2019</td><td>2024-04-05 14:01:...</td></tr>\n",
       "<tr><td>141441276</td><td>2030.82</td><td>762.81</td><td>0.0</td><td>2793.63</td><td>477.62</td><td>Mar-2019</td><td>Apr-2019</td><td>2024-04-05 14:01:...</td></tr>\n",
       "<tr><td>141569080</td><td>1803.55</td><td>1110.59</td><td>0.0</td><td>2914.14</td><td>585.91</td><td>Mar-2019</td><td>Apr-2019</td><td>2024-04-05 14:01:...</td></tr>\n",
       "<tr><td>140961277</td><td>1144.71</td><td>559.56</td><td>0.0</td><td>1704.27</td><td>344.07</td><td>Mar-2019</td><td>Apr-2019</td><td>2024-04-05 14:01:...</td></tr>\n",
       "<tr><td>141466656</td><td>1297.9</td><td>838.42</td><td>0.0</td><td>2136.32</td><td>429.59</td><td>Mar-2019</td><td>Apr-2019</td><td>2024-04-05 14:01:...</td></tr>\n",
       "<tr><td>141575085</td><td>613.26</td><td>510.47</td><td>0.0</td><td>1123.73</td><td>226.16</td><td>Mar-2019</td><td>Apr-2019</td><td>2024-04-05 14:01:...</td></tr>\n",
       "<tr><td>141429235</td><td>4008.76</td><td>1058.83</td><td>0.0</td><td>5067.59</td><td>1000.41</td><td>Mar-2019</td><td>Apr-2019</td><td>2024-04-05 14:01:...</td></tr>\n",
       "<tr><td>141545082</td><td>1297.9</td><td>838.42</td><td>0.0</td><td>2136.32</td><td>429.59</td><td>Mar-2019</td><td>Apr-2019</td><td>2024-04-05 14:01:...</td></tr>\n",
       "<tr><td>141584203</td><td>747.08</td><td>243.73</td><td>0.0</td><td>990.81</td><td>193.84</td><td>Mar-2019</td><td>Apr-2019</td><td>2024-04-05 14:01:...</td></tr>\n",
       "<tr><td>141201047</td><td>2266.29</td><td>1184.57</td><td>34.68</td><td>3485.54</td><td>693.51</td><td>Mar-2019</td><td>Apr-2019</td><td>2024-04-05 14:01:...</td></tr>\n",
       "<tr><td>140580869</td><td>1450.9</td><td>491.42</td><td>0.0</td><td>1942.32</td><td>389.86</td><td>Mar-2019</td><td>Apr-2019</td><td>2024-04-05 14:01:...</td></tr>\n",
       "<tr><td>141539871</td><td>2290.47</td><td>468.26</td><td>0.0</td><td>2758.73</td><td>553.08</td><td>Mar-2019</td><td>Apr-2019</td><td>2024-04-05 14:01:...</td></tr>\n",
       "<tr><td>141386443</td><td>1173.43</td><td>1161.79</td><td>0.0</td><td>2335.22</td><td>470.26</td><td>Mar-2019</td><td>Apr-2019</td><td>2024-04-05 14:01:...</td></tr>\n",
       "</table>\n",
       "only showing top 20 rows\n"
      ],
      "text/plain": [
       "+---------+------------------------+-----------------------+-----------------------+----------------------+-------------------+-----------------+-----------------+--------------------+\n",
       "|  loan_id|total_principal_recieved|total_interest_recieved|total_late_fee_recieved|total_payment_recieved|last_payment_amount|last_payment_date|next_payment_date|       ingested_date|\n",
       "+---------+------------------------+-----------------------+-----------------------+----------------------+-------------------+-----------------+-----------------+--------------------+\n",
       "|141581221|                 1055.81|                 2591.7|                    0.0|               3647.51|             709.23|         Mar-2019|         Apr-2019|2024-04-05 14:01:...|\n",
       "|141506948|                 1252.75|                 306.04|                    0.0|               1558.79|             312.63|         Mar-2019|         Apr-2019|2024-04-05 14:01:...|\n",
       "|141357400|                  626.37|                 354.96|                    0.0|                981.33|             197.27|         Mar-2019|         Apr-2019|2024-04-05 14:01:...|\n",
       "|139445427|                 1118.16|                 297.36|                    0.0|               1415.52|             283.95|         Mar-2019|         Apr-2019|2024-04-05 14:01:...|\n",
       "|141407409|                 1169.72|                 3605.3|                    0.0|               4775.02|              964.9|         Mar-2019|         Apr-2019|2024-04-05 14:01:...|\n",
       "|141360802|                 2313.98|                2512.88|                    0.0|               4826.86|             952.02|         Mar-2019|         Apr-2019|2024-04-05 14:01:...|\n",
       "|141163960|                 4689.63|                1994.93|                    0.0|               6684.56|            1342.57|         Mar-2019|         Apr-2019|2024-04-05 14:01:...|\n",
       "|141533932|                  585.29|                 640.53|                   15.0|               1240.82|             235.13|         Mar-2019|         Apr-2019|2024-04-05 14:01:...|\n",
       "|141441276|                 2030.82|                 762.81|                    0.0|               2793.63|             477.62|         Mar-2019|         Apr-2019|2024-04-05 14:01:...|\n",
       "|141569080|                 1803.55|                1110.59|                    0.0|               2914.14|             585.91|         Mar-2019|         Apr-2019|2024-04-05 14:01:...|\n",
       "|140961277|                 1144.71|                 559.56|                    0.0|               1704.27|             344.07|         Mar-2019|         Apr-2019|2024-04-05 14:01:...|\n",
       "|141466656|                  1297.9|                 838.42|                    0.0|               2136.32|             429.59|         Mar-2019|         Apr-2019|2024-04-05 14:01:...|\n",
       "|141575085|                  613.26|                 510.47|                    0.0|               1123.73|             226.16|         Mar-2019|         Apr-2019|2024-04-05 14:01:...|\n",
       "|141429235|                 4008.76|                1058.83|                    0.0|               5067.59|            1000.41|         Mar-2019|         Apr-2019|2024-04-05 14:01:...|\n",
       "|141545082|                  1297.9|                 838.42|                    0.0|               2136.32|             429.59|         Mar-2019|         Apr-2019|2024-04-05 14:01:...|\n",
       "|141584203|                  747.08|                 243.73|                    0.0|                990.81|             193.84|         Mar-2019|         Apr-2019|2024-04-05 14:01:...|\n",
       "|141201047|                 2266.29|                1184.57|                  34.68|               3485.54|             693.51|         Mar-2019|         Apr-2019|2024-04-05 14:01:...|\n",
       "|140580869|                  1450.9|                 491.42|                    0.0|               1942.32|             389.86|         Mar-2019|         Apr-2019|2024-04-05 14:01:...|\n",
       "|141539871|                 2290.47|                 468.26|                    0.0|               2758.73|             553.08|         Mar-2019|         Apr-2019|2024-04-05 14:01:...|\n",
       "|141386443|                 1173.43|                1161.79|                    0.0|               2335.22|             470.26|         Mar-2019|         Apr-2019|2024-04-05 14:01:...|\n",
       "+---------+------------------------+-----------------------+-----------------------+----------------------+-------------------+-----------------+-----------------+--------------------+\n",
       "only showing top 20 rows"
      ]
     },
     "execution_count": 71,
     "metadata": {},
     "output_type": "execute_result"
    }
   ],
   "source": [
    "spark.sql(\"select * from loans_repayments\")"
   ]
  },
  {
   "cell_type": "markdown",
   "id": "94426fa4",
   "metadata": {},
   "source": [
    "### Drop the rows if any of total_principal_recieved\ttotal_interest_recieved\ttotal_late_fee_recieved\ttotal_payment_recieved\tlast_payment_amount are null"
   ]
  },
  {
   "cell_type": "code",
   "execution_count": 72,
   "id": "4e7fbd12",
   "metadata": {},
   "outputs": [],
   "source": [
    "columns_to_check=[\"total_principal_recieved\",\"total_interest_recieved\",\"total_late_fee_recieved\",\"total_payment_recieved\",\"last_payment_amount\"]"
   ]
  },
  {
   "cell_type": "code",
   "execution_count": 73,
   "id": "399637e4",
   "metadata": {},
   "outputs": [],
   "source": [
    "loans_repay_filtered_df=loans_repayments_ingested.dropna(subset=columns_to_check)"
   ]
  },
  {
   "cell_type": "code",
   "execution_count": 74,
   "id": "390f0c43",
   "metadata": {},
   "outputs": [
    {
     "data": {
      "text/plain": [
       "2260701"
      ]
     },
     "execution_count": 74,
     "metadata": {},
     "output_type": "execute_result"
    }
   ],
   "source": [
    "loans_repayments_ingested.count()"
   ]
  },
  {
   "cell_type": "code",
   "execution_count": 75,
   "id": "c908db23",
   "metadata": {},
   "outputs": [
    {
     "data": {
      "text/plain": [
       "2260498"
      ]
     },
     "execution_count": 75,
     "metadata": {},
     "output_type": "execute_result"
    }
   ],
   "source": [
    "loans_repay_filtered_df.count()"
   ]
  },
  {
   "cell_type": "code",
   "execution_count": 76,
   "id": "e6f0203a",
   "metadata": {},
   "outputs": [],
   "source": [
    "loans_repay_filtered_df.createOrReplaceTempView(\"loans_repayments\")"
   ]
  },
  {
   "cell_type": "markdown",
   "id": "6bd54540",
   "metadata": {},
   "source": [
    "### We can see there are many records where total_payment_recieved is 0 but total_principal is not so it is wrong what we need to do add principal,interest,late_fee and assign it to total_payment"
   ]
  },
  {
   "cell_type": "code",
   "execution_count": 77,
   "id": "be96dbfa",
   "metadata": {},
   "outputs": [
    {
     "data": {
      "text/html": [
       "<table border='1'>\n",
       "<tr><th>loan_id</th><th>total_principal_recieved</th><th>total_interest_recieved</th><th>total_late_fee_recieved</th><th>total_payment_recieved</th><th>last_payment_amount</th><th>last_payment_date</th><th>next_payment_date</th><th>ingested_date</th></tr>\n",
       "<tr><td>1064185</td><td>11600.98</td><td>11600.98</td><td>10000.0</td><td>0.0</td><td>0.0</td><td>0.0</td><td>Dec-2014</td><td>2024-04-05 14:02:...</td></tr>\n",
       "<tr><td>516382</td><td>21890.229</td><td>21856.03</td><td>16000.0</td><td>0.0</td><td>0.0</td><td>0.0</td><td>Mar-2014</td><td>2024-04-05 14:02:...</td></tr>\n",
       "<tr><td>528899</td><td>3045.0364</td><td>3019.64</td><td>2500.0</td><td>0.0</td><td>0.0</td><td>0.0</td><td>Jan-2013</td><td>2024-04-05 14:02:...</td></tr>\n",
       "<tr><td>527598</td><td>2398.9092</td><td>2220.51</td><td>2200.0</td><td>0.0</td><td>0.0</td><td>0.0</td><td>Jul-2011</td><td>2024-04-05 14:02:...</td></tr>\n",
       "<tr><td>525697</td><td>21797.86</td><td>19894.9</td><td>15750.0</td><td>0.0</td><td>0.0</td><td>0.0</td><td>Jun-2015</td><td>2024-04-05 14:02:...</td></tr>\n",
       "<tr><td>522641</td><td>3146.8193</td><td>3146.82</td><td>3000.0</td><td>0.0</td><td>0.0</td><td>0.0</td><td>Sep-2011</td><td>2024-04-05 14:02:...</td></tr>\n",
       "<tr><td>515655</td><td>29938.576</td><td>29905.75</td><td>22800.0</td><td>0.0</td><td>0.0</td><td>0.0</td><td>May-2013</td><td>2024-04-05 14:02:...</td></tr>\n",
       "<tr><td>501234</td><td>15219.313</td><td>15155.9</td><td>12000.0</td><td>0.0</td><td>0.0</td><td>0.0</td><td>May-2013</td><td>2024-04-05 14:02:...</td></tr>\n",
       "<tr><td>498194</td><td>11642.714</td><td>11031.47</td><td>10000.0</td><td>0.0</td><td>0.0</td><td>0.0</td><td>Jan-2013</td><td>2024-04-05 14:02:...</td></tr>\n",
       "<tr><td>495171</td><td>11138.843</td><td>10024.96</td><td>10000.0</td><td>0.0</td><td>0.0</td><td>0.0</td><td>Apr-2013</td><td>2024-04-05 14:02:...</td></tr>\n",
       "<tr><td>493508</td><td>28732.803</td><td>28495.83</td><td>24250.0</td><td>0.0</td><td>0.0</td><td>0.0</td><td>Apr-2013</td><td>2024-04-05 14:02:...</td></tr>\n",
       "<tr><td>485818</td><td>14640.096</td><td>13388.84</td><td>13000.0</td><td>0.0</td><td>0.0</td><td>0.0</td><td>Mar-2013</td><td>2024-04-05 14:02:...</td></tr>\n",
       "<tr><td>485471</td><td>29620.818</td><td>29134.64</td><td>25000.0</td><td>0.0</td><td>0.0</td><td>0.0</td><td>Mar-2013</td><td>2024-04-05 14:02:...</td></tr>\n",
       "<tr><td>482256</td><td>8735.611</td><td>7479.87</td><td>8000.0</td><td>0.0</td><td>0.0</td><td>0.0</td><td>Feb-2011</td><td>2024-04-05 14:02:...</td></tr>\n",
       "<tr><td>478160</td><td>410.0</td><td>407.36</td><td>0.0</td><td>0.0</td><td>143.1</td><td>410.0</td><td>null</td><td>2024-04-05 14:02:...</td></tr>\n",
       "<tr><td>476557</td><td>28865.18</td><td>24164.67</td><td>5692.31</td><td>0.0</td><td>6972.59</td><td>19916.78</td><td>Dec-2010</td><td>2024-04-05 14:02:...</td></tr>\n",
       "<tr><td>472516</td><td>25951.482</td><td>24731.76</td><td>25000.0</td><td>0.0</td><td>0.0</td><td>0.0</td><td>May-2010</td><td>2024-04-05 14:02:...</td></tr>\n",
       "<tr><td>472197</td><td>12048.13</td><td>12018.01</td><td>10000.0</td><td>0.0</td><td>0.0</td><td>0.0</td><td>Jan-2013</td><td>2024-04-05 14:02:...</td></tr>\n",
       "<tr><td>467364</td><td>29216.791</td><td>29066.19</td><td>24250.0</td><td>0.0</td><td>0.0</td><td>0.0</td><td>Dec-2012</td><td>2024-04-05 14:02:...</td></tr>\n",
       "<tr><td>399499</td><td>26557.729</td><td>26336.41</td><td>24000.0</td><td>0.0</td><td>0.0</td><td>0.0</td><td>Dec-2010</td><td>2024-04-05 14:02:...</td></tr>\n",
       "</table>\n",
       "only showing top 20 rows\n"
      ],
      "text/plain": [
       "+-------+------------------------+-----------------------+-----------------------+----------------------+-------------------+-----------------+-----------------+--------------------+\n",
       "|loan_id|total_principal_recieved|total_interest_recieved|total_late_fee_recieved|total_payment_recieved|last_payment_amount|last_payment_date|next_payment_date|       ingested_date|\n",
       "+-------+------------------------+-----------------------+-----------------------+----------------------+-------------------+-----------------+-----------------+--------------------+\n",
       "|1064185|                11600.98|               11600.98|                10000.0|                   0.0|                0.0|              0.0|         Dec-2014|2024-04-05 14:01:...|\n",
       "| 516382|               21890.229|               21856.03|                16000.0|                   0.0|                0.0|              0.0|         Mar-2014|2024-04-05 14:01:...|\n",
       "| 528899|               3045.0364|                3019.64|                 2500.0|                   0.0|                0.0|              0.0|         Jan-2013|2024-04-05 14:01:...|\n",
       "| 527598|               2398.9092|                2220.51|                 2200.0|                   0.0|                0.0|              0.0|         Jul-2011|2024-04-05 14:01:...|\n",
       "| 525697|                21797.86|                19894.9|                15750.0|                   0.0|                0.0|              0.0|         Jun-2015|2024-04-05 14:01:...|\n",
       "| 522641|               3146.8193|                3146.82|                 3000.0|                   0.0|                0.0|              0.0|         Sep-2011|2024-04-05 14:01:...|\n",
       "| 515655|               29938.576|               29905.75|                22800.0|                   0.0|                0.0|              0.0|         May-2013|2024-04-05 14:01:...|\n",
       "| 501234|               15219.313|                15155.9|                12000.0|                   0.0|                0.0|              0.0|         May-2013|2024-04-05 14:01:...|\n",
       "| 498194|               11642.714|               11031.47|                10000.0|                   0.0|                0.0|              0.0|         Jan-2013|2024-04-05 14:01:...|\n",
       "| 495171|               11138.843|               10024.96|                10000.0|                   0.0|                0.0|              0.0|         Apr-2013|2024-04-05 14:01:...|\n",
       "| 493508|               28732.803|               28495.83|                24250.0|                   0.0|                0.0|              0.0|         Apr-2013|2024-04-05 14:01:...|\n",
       "| 485818|               14640.096|               13388.84|                13000.0|                   0.0|                0.0|              0.0|         Mar-2013|2024-04-05 14:01:...|\n",
       "| 485471|               29620.818|               29134.64|                25000.0|                   0.0|                0.0|              0.0|         Mar-2013|2024-04-05 14:01:...|\n",
       "| 482256|                8735.611|                7479.87|                 8000.0|                   0.0|                0.0|              0.0|         Feb-2011|2024-04-05 14:01:...|\n",
       "| 478160|                   410.0|                 407.36|                    0.0|                   0.0|              143.1|            410.0|             null|2024-04-05 14:01:...|\n",
       "| 476557|                28865.18|               24164.67|                5692.31|                   0.0|            6972.59|         19916.78|         Dec-2010|2024-04-05 14:01:...|\n",
       "| 472516|               25951.482|               24731.76|                25000.0|                   0.0|                0.0|              0.0|         May-2010|2024-04-05 14:01:...|\n",
       "| 472197|                12048.13|               12018.01|                10000.0|                   0.0|                0.0|              0.0|         Jan-2013|2024-04-05 14:01:...|\n",
       "| 467364|               29216.791|               29066.19|                24250.0|                   0.0|                0.0|              0.0|         Dec-2012|2024-04-05 14:01:...|\n",
       "| 399499|               26557.729|               26336.41|                24000.0|                   0.0|                0.0|              0.0|         Dec-2010|2024-04-05 14:01:...|\n",
       "+-------+------------------------+-----------------------+-----------------------+----------------------+-------------------+-----------------+-----------------+--------------------+\n",
       "only showing top 20 rows"
      ]
     },
     "execution_count": 77,
     "metadata": {},
     "output_type": "execute_result"
    }
   ],
   "source": [
    "loans_repay_filtered_df.where(\"total_payment_recieved==0 and total_principal_recieved!=0\")"
   ]
  },
  {
   "cell_type": "code",
   "execution_count": 78,
   "id": "da0fbf01",
   "metadata": {},
   "outputs": [],
   "source": [
    "from pyspark.sql.functions import when,col"
   ]
  },
  {
   "cell_type": "code",
   "execution_count": 79,
   "id": "d1f20826",
   "metadata": {},
   "outputs": [],
   "source": [
    "loans_payments_fixed_df=loans_repay_filtered_df.withColumn(\"total_payment_recieved\",\n",
    "                                                           when\n",
    "                                                           (\n",
    "                                                               (col('total_principal_recieved')!=0.0) & (col('total_payment_recieved')==0.0),\n",
    "                                                               col('total_principal_recieved') + col('total_interest_recieved') + col('total_late_fee_recieved')\n",
    "                                                           ).otherwise\n",
    "                                                           (\n",
    "                                                               col('total_payment_recieved')\n",
    "                                                           )\n",
    "                                                          )"
   ]
  },
  {
   "cell_type": "code",
   "execution_count": 80,
   "id": "578bffe2",
   "metadata": {},
   "outputs": [
    {
     "data": {
      "text/html": [
       "<table border='1'>\n",
       "<tr><th>loan_id</th><th>total_principal_recieved</th><th>total_interest_recieved</th><th>total_late_fee_recieved</th><th>total_payment_recieved</th><th>last_payment_amount</th><th>last_payment_date</th><th>next_payment_date</th><th>ingested_date</th></tr>\n",
       "<tr><td>516382</td><td>21890.229</td><td>21856.03</td><td>16000.0</td><td>59746.258</td><td>0.0</td><td>0.0</td><td>Mar-2014</td><td>2024-04-05 14:02:...</td></tr>\n",
       "</table>\n"
      ],
      "text/plain": [
       "+-------+------------------------+-----------------------+-----------------------+----------------------+-------------------+-----------------+-----------------+--------------------+\n",
       "|loan_id|total_principal_recieved|total_interest_recieved|total_late_fee_recieved|total_payment_recieved|last_payment_amount|last_payment_date|next_payment_date|       ingested_date|\n",
       "+-------+------------------------+-----------------------+-----------------------+----------------------+-------------------+-----------------+-----------------+--------------------+\n",
       "| 516382|               21890.229|               21856.03|                16000.0|             59746.258|                0.0|              0.0|         Mar-2014|2024-04-05 14:02:...|\n",
       "+-------+------------------------+-----------------------+-----------------------+----------------------+-------------------+-----------------+-----------------+--------------------+"
      ]
     },
     "execution_count": 80,
     "metadata": {},
     "output_type": "execute_result"
    }
   ],
   "source": [
    "loans_payments_fixed_df.filter(\"loan_id='516382'\")"
   ]
  },
  {
   "cell_type": "markdown",
   "id": "c2517b7f",
   "metadata": {},
   "source": [
    "### Now, I want to remove all such rows where total_payment_received is 0.0 and total_principal_recieved is 0.0"
   ]
  },
  {
   "cell_type": "code",
   "execution_count": 81,
   "id": "1278e191",
   "metadata": {},
   "outputs": [
    {
     "data": {
      "text/plain": [
       "2260498"
      ]
     },
     "execution_count": 81,
     "metadata": {},
     "output_type": "execute_result"
    }
   ],
   "source": [
    "loans_payments_fixed_df.count()"
   ]
  },
  {
   "cell_type": "code",
   "execution_count": 82,
   "id": "5dbb44ed",
   "metadata": {},
   "outputs": [
    {
     "data": {
      "text/plain": [
       "949"
      ]
     },
     "execution_count": 82,
     "metadata": {},
     "output_type": "execute_result"
    }
   ],
   "source": [
    "loans_payments_fixed_df.filter(\"total_principal_recieved =0.0 and total_payment_recieved=0.0\").count()"
   ]
  },
  {
   "cell_type": "code",
   "execution_count": 83,
   "id": "af67c9b9",
   "metadata": {},
   "outputs": [],
   "source": [
    "loans_payments_fixed_df.createOrReplaceTempView(\"loans_repayments\")"
   ]
  },
  {
   "cell_type": "code",
   "execution_count": 84,
   "id": "1e480ec4",
   "metadata": {},
   "outputs": [],
   "source": [
    "loans_payments_fixed2_df=spark.sql(\"select * from loans_repayments where total_payment_recieved!=0.0\")"
   ]
  },
  {
   "cell_type": "code",
   "execution_count": 85,
   "id": "b4c7df1a",
   "metadata": {},
   "outputs": [
    {
     "data": {
      "text/plain": [
       "2259549"
      ]
     },
     "execution_count": 85,
     "metadata": {},
     "output_type": "execute_result"
    }
   ],
   "source": [
    "loans_payments_fixed2_df.count()"
   ]
  },
  {
   "cell_type": "code",
   "execution_count": 86,
   "id": "c9c719f0",
   "metadata": {},
   "outputs": [
    {
     "data": {
      "text/html": [
       "<table border='1'>\n",
       "<tr><th>loan_id</th><th>total_principal_recieved</th><th>total_interest_recieved</th><th>total_late_fee_recieved</th><th>total_payment_recieved</th><th>last_payment_amount</th><th>last_payment_date</th><th>next_payment_date</th><th>ingested_date</th></tr>\n",
       "<tr><td>141581221</td><td>1055.81</td><td>2591.7</td><td>0.0</td><td>3647.51</td><td>709.23</td><td>Mar-2019</td><td>Apr-2019</td><td>2024-04-05 14:03:...</td></tr>\n",
       "<tr><td>141506948</td><td>1252.75</td><td>306.04</td><td>0.0</td><td>1558.79</td><td>312.63</td><td>Mar-2019</td><td>Apr-2019</td><td>2024-04-05 14:03:...</td></tr>\n",
       "<tr><td>141357400</td><td>626.37</td><td>354.96</td><td>0.0</td><td>981.33</td><td>197.27</td><td>Mar-2019</td><td>Apr-2019</td><td>2024-04-05 14:03:...</td></tr>\n",
       "<tr><td>139445427</td><td>1118.16</td><td>297.36</td><td>0.0</td><td>1415.52</td><td>283.95</td><td>Mar-2019</td><td>Apr-2019</td><td>2024-04-05 14:03:...</td></tr>\n",
       "<tr><td>141407409</td><td>1169.72</td><td>3605.3</td><td>0.0</td><td>4775.02</td><td>964.9</td><td>Mar-2019</td><td>Apr-2019</td><td>2024-04-05 14:03:...</td></tr>\n",
       "<tr><td>141360802</td><td>2313.98</td><td>2512.88</td><td>0.0</td><td>4826.86</td><td>952.02</td><td>Mar-2019</td><td>Apr-2019</td><td>2024-04-05 14:03:...</td></tr>\n",
       "<tr><td>141163960</td><td>4689.63</td><td>1994.93</td><td>0.0</td><td>6684.56</td><td>1342.57</td><td>Mar-2019</td><td>Apr-2019</td><td>2024-04-05 14:03:...</td></tr>\n",
       "<tr><td>141533932</td><td>585.29</td><td>640.53</td><td>15.0</td><td>1240.82</td><td>235.13</td><td>Mar-2019</td><td>Apr-2019</td><td>2024-04-05 14:03:...</td></tr>\n",
       "<tr><td>141441276</td><td>2030.82</td><td>762.81</td><td>0.0</td><td>2793.63</td><td>477.62</td><td>Mar-2019</td><td>Apr-2019</td><td>2024-04-05 14:03:...</td></tr>\n",
       "<tr><td>141569080</td><td>1803.55</td><td>1110.59</td><td>0.0</td><td>2914.14</td><td>585.91</td><td>Mar-2019</td><td>Apr-2019</td><td>2024-04-05 14:03:...</td></tr>\n",
       "<tr><td>140961277</td><td>1144.71</td><td>559.56</td><td>0.0</td><td>1704.27</td><td>344.07</td><td>Mar-2019</td><td>Apr-2019</td><td>2024-04-05 14:03:...</td></tr>\n",
       "<tr><td>141466656</td><td>1297.9</td><td>838.42</td><td>0.0</td><td>2136.32</td><td>429.59</td><td>Mar-2019</td><td>Apr-2019</td><td>2024-04-05 14:03:...</td></tr>\n",
       "<tr><td>141575085</td><td>613.26</td><td>510.47</td><td>0.0</td><td>1123.73</td><td>226.16</td><td>Mar-2019</td><td>Apr-2019</td><td>2024-04-05 14:03:...</td></tr>\n",
       "<tr><td>141429235</td><td>4008.76</td><td>1058.83</td><td>0.0</td><td>5067.59</td><td>1000.41</td><td>Mar-2019</td><td>Apr-2019</td><td>2024-04-05 14:03:...</td></tr>\n",
       "<tr><td>141545082</td><td>1297.9</td><td>838.42</td><td>0.0</td><td>2136.32</td><td>429.59</td><td>Mar-2019</td><td>Apr-2019</td><td>2024-04-05 14:03:...</td></tr>\n",
       "<tr><td>141584203</td><td>747.08</td><td>243.73</td><td>0.0</td><td>990.81</td><td>193.84</td><td>Mar-2019</td><td>Apr-2019</td><td>2024-04-05 14:03:...</td></tr>\n",
       "<tr><td>141201047</td><td>2266.29</td><td>1184.57</td><td>34.68</td><td>3485.54</td><td>693.51</td><td>Mar-2019</td><td>Apr-2019</td><td>2024-04-05 14:03:...</td></tr>\n",
       "<tr><td>140580869</td><td>1450.9</td><td>491.42</td><td>0.0</td><td>1942.32</td><td>389.86</td><td>Mar-2019</td><td>Apr-2019</td><td>2024-04-05 14:03:...</td></tr>\n",
       "<tr><td>141539871</td><td>2290.47</td><td>468.26</td><td>0.0</td><td>2758.73</td><td>553.08</td><td>Mar-2019</td><td>Apr-2019</td><td>2024-04-05 14:03:...</td></tr>\n",
       "<tr><td>141386443</td><td>1173.43</td><td>1161.79</td><td>0.0</td><td>2335.22</td><td>470.26</td><td>Mar-2019</td><td>Apr-2019</td><td>2024-04-05 14:03:...</td></tr>\n",
       "</table>\n",
       "only showing top 20 rows\n"
      ],
      "text/plain": [
       "+---------+------------------------+-----------------------+-----------------------+----------------------+-------------------+-----------------+-----------------+--------------------+\n",
       "|  loan_id|total_principal_recieved|total_interest_recieved|total_late_fee_recieved|total_payment_recieved|last_payment_amount|last_payment_date|next_payment_date|       ingested_date|\n",
       "+---------+------------------------+-----------------------+-----------------------+----------------------+-------------------+-----------------+-----------------+--------------------+\n",
       "|141581221|                 1055.81|                 2591.7|                    0.0|               3647.51|             709.23|         Mar-2019|         Apr-2019|2024-04-05 14:03:...|\n",
       "|141506948|                 1252.75|                 306.04|                    0.0|               1558.79|             312.63|         Mar-2019|         Apr-2019|2024-04-05 14:03:...|\n",
       "|141357400|                  626.37|                 354.96|                    0.0|                981.33|             197.27|         Mar-2019|         Apr-2019|2024-04-05 14:03:...|\n",
       "|139445427|                 1118.16|                 297.36|                    0.0|               1415.52|             283.95|         Mar-2019|         Apr-2019|2024-04-05 14:03:...|\n",
       "|141407409|                 1169.72|                 3605.3|                    0.0|               4775.02|              964.9|         Mar-2019|         Apr-2019|2024-04-05 14:03:...|\n",
       "|141360802|                 2313.98|                2512.88|                    0.0|               4826.86|             952.02|         Mar-2019|         Apr-2019|2024-04-05 14:03:...|\n",
       "|141163960|                 4689.63|                1994.93|                    0.0|               6684.56|            1342.57|         Mar-2019|         Apr-2019|2024-04-05 14:03:...|\n",
       "|141533932|                  585.29|                 640.53|                   15.0|               1240.82|             235.13|         Mar-2019|         Apr-2019|2024-04-05 14:03:...|\n",
       "|141441276|                 2030.82|                 762.81|                    0.0|               2793.63|             477.62|         Mar-2019|         Apr-2019|2024-04-05 14:03:...|\n",
       "|141569080|                 1803.55|                1110.59|                    0.0|               2914.14|             585.91|         Mar-2019|         Apr-2019|2024-04-05 14:03:...|\n",
       "|140961277|                 1144.71|                 559.56|                    0.0|               1704.27|             344.07|         Mar-2019|         Apr-2019|2024-04-05 14:03:...|\n",
       "|141466656|                  1297.9|                 838.42|                    0.0|               2136.32|             429.59|         Mar-2019|         Apr-2019|2024-04-05 14:03:...|\n",
       "|141575085|                  613.26|                 510.47|                    0.0|               1123.73|             226.16|         Mar-2019|         Apr-2019|2024-04-05 14:03:...|\n",
       "|141429235|                 4008.76|                1058.83|                    0.0|               5067.59|            1000.41|         Mar-2019|         Apr-2019|2024-04-05 14:03:...|\n",
       "|141545082|                  1297.9|                 838.42|                    0.0|               2136.32|             429.59|         Mar-2019|         Apr-2019|2024-04-05 14:03:...|\n",
       "|141584203|                  747.08|                 243.73|                    0.0|                990.81|             193.84|         Mar-2019|         Apr-2019|2024-04-05 14:03:...|\n",
       "|141201047|                 2266.29|                1184.57|                  34.68|               3485.54|             693.51|         Mar-2019|         Apr-2019|2024-04-05 14:03:...|\n",
       "|140580869|                  1450.9|                 491.42|                    0.0|               1942.32|             389.86|         Mar-2019|         Apr-2019|2024-04-05 14:03:...|\n",
       "|141539871|                 2290.47|                 468.26|                    0.0|               2758.73|             553.08|         Mar-2019|         Apr-2019|2024-04-05 14:03:...|\n",
       "|141386443|                 1173.43|                1161.79|                    0.0|               2335.22|             470.26|         Mar-2019|         Apr-2019|2024-04-05 14:03:...|\n",
       "+---------+------------------------+-----------------------+-----------------------+----------------------+-------------------+-----------------+-----------------+--------------------+\n",
       "only showing top 20 rows"
      ]
     },
     "execution_count": 86,
     "metadata": {},
     "output_type": "execute_result"
    }
   ],
   "source": [
    "loans_payments_fixed2_df"
   ]
  },
  {
   "cell_type": "code",
   "execution_count": 90,
   "id": "d9586ad3",
   "metadata": {},
   "outputs": [
    {
     "data": {
      "text/html": [
       "<table border='1'>\n",
       "<tr><th>loan_id</th><th>total_principal_recieved</th><th>total_interest_recieved</th><th>total_late_fee_recieved</th><th>total_payment_recieved</th><th>last_payment_amount</th><th>last_payment_date</th><th>next_payment_date</th><th>ingested_date</th></tr>\n",
       "<tr><td>1064185</td><td>11600.98</td><td>11600.98</td><td>10000.0</td><td>33201.96</td><td>0.0</td><td>0.0</td><td>Dec-2014</td><td>2024-04-05 14:05:...</td></tr>\n",
       "<tr><td>516382</td><td>21890.229</td><td>21856.03</td><td>16000.0</td><td>59746.258</td><td>0.0</td><td>0.0</td><td>Mar-2014</td><td>2024-04-05 14:05:...</td></tr>\n",
       "<tr><td>529353</td><td>1.0</td><td>7288.0</td><td>47.0</td><td>109.0</td><td>0.0</td><td>0.0</td><td>21221.5644086071</td><td>2024-04-05 14:05:...</td></tr>\n",
       "<tr><td>528899</td><td>3045.0364</td><td>3019.64</td><td>2500.0</td><td>8564.676</td><td>0.0</td><td>0.0</td><td>Jan-2013</td><td>2024-04-05 14:05:...</td></tr>\n",
       "<tr><td>527598</td><td>2398.9092</td><td>2220.51</td><td>2200.0</td><td>6819.419</td><td>0.0</td><td>0.0</td><td>Jul-2011</td><td>2024-04-05 14:05:...</td></tr>\n",
       "<tr><td>525697</td><td>21797.86</td><td>19894.9</td><td>15750.0</td><td>57442.758</td><td>0.0</td><td>0.0</td><td>Jun-2015</td><td>2024-04-05 14:05:...</td></tr>\n",
       "<tr><td>522641</td><td>3146.8193</td><td>3146.82</td><td>3000.0</td><td>9293.64</td><td>0.0</td><td>0.0</td><td>Sep-2011</td><td>2024-04-05 14:05:...</td></tr>\n",
       "<tr><td>515655</td><td>29938.576</td><td>29905.75</td><td>22800.0</td><td>82644.33</td><td>0.0</td><td>0.0</td><td>May-2013</td><td>2024-04-05 14:05:...</td></tr>\n",
       "<tr><td>500643</td><td>17215.0</td><td>91.6</td><td>14.0</td><td>8.0</td><td>14166.7705</td><td>0.0</td><td>14135.97</td><td>2024-04-05 14:05:...</td></tr>\n",
       "<tr><td>501234</td><td>15219.313</td><td>15155.9</td><td>12000.0</td><td>42375.215</td><td>0.0</td><td>0.0</td><td>May-2013</td><td>2024-04-05 14:05:...</td></tr>\n",
       "<tr><td>498194</td><td>11642.714</td><td>11031.47</td><td>10000.0</td><td>32674.184</td><td>0.0</td><td>0.0</td><td>Jan-2013</td><td>2024-04-05 14:05:...</td></tr>\n",
       "<tr><td>496442</td><td>5982.0</td><td>74.8</td><td>23.0</td><td>11.0</td><td>6813.278</td><td>0.0</td><td>6635.54</td><td>2024-04-05 14:05:...</td></tr>\n",
       "<tr><td>495171</td><td>11138.843</td><td>10024.96</td><td>10000.0</td><td>31163.803</td><td>0.0</td><td>0.0</td><td>Apr-2013</td><td>2024-04-05 14:05:...</td></tr>\n",
       "<tr><td>493508</td><td>28732.803</td><td>28495.83</td><td>24250.0</td><td>81478.63</td><td>0.0</td><td>0.0</td><td>Apr-2013</td><td>2024-04-05 14:05:...</td></tr>\n",
       "<tr><td>485818</td><td>14640.096</td><td>13388.84</td><td>13000.0</td><td>41028.938</td><td>0.0</td><td>0.0</td><td>Mar-2013</td><td>2024-04-05 14:05:...</td></tr>\n",
       "<tr><td>485471</td><td>29620.818</td><td>29134.64</td><td>25000.0</td><td>83755.46</td><td>0.0</td><td>0.0</td><td>Mar-2013</td><td>2024-04-05 14:05:...</td></tr>\n",
       "<tr><td>482256</td><td>8735.611</td><td>7479.87</td><td>8000.0</td><td>24215.48</td><td>0.0</td><td>0.0</td><td>Feb-2011</td><td>2024-04-05 14:05:...</td></tr>\n",
       "<tr><td>480240</td><td>17457.0</td><td>71.3</td><td>33.0</td><td>16.0</td><td>14153.22</td><td>0.0</td><td>14153.22</td><td>2024-04-05 14:05:...</td></tr>\n",
       "<tr><td>472516</td><td>25951.482</td><td>24731.76</td><td>25000.0</td><td>75683.24</td><td>0.0</td><td>0.0</td><td>May-2010</td><td>2024-04-05 14:05:...</td></tr>\n",
       "<tr><td>472197</td><td>12048.13</td><td>12018.01</td><td>10000.0</td><td>34066.14</td><td>0.0</td><td>0.0</td><td>Jan-2013</td><td>2024-04-05 14:05:...</td></tr>\n",
       "</table>\n",
       "only showing top 20 rows\n"
      ],
      "text/plain": [
       "+-------+------------------------+-----------------------+-----------------------+----------------------+-------------------+-----------------+-----------------+--------------------+\n",
       "|loan_id|total_principal_recieved|total_interest_recieved|total_late_fee_recieved|total_payment_recieved|last_payment_amount|last_payment_date|next_payment_date|       ingested_date|\n",
       "+-------+------------------------+-----------------------+-----------------------+----------------------+-------------------+-----------------+-----------------+--------------------+\n",
       "|1064185|                11600.98|               11600.98|                10000.0|              33201.96|                0.0|              0.0|         Dec-2014|2024-04-05 14:05:...|\n",
       "| 516382|               21890.229|               21856.03|                16000.0|             59746.258|                0.0|              0.0|         Mar-2014|2024-04-05 14:05:...|\n",
       "| 529353|                     1.0|                 7288.0|                   47.0|                 109.0|                0.0|              0.0| 21221.5644086071|2024-04-05 14:05:...|\n",
       "| 528899|               3045.0364|                3019.64|                 2500.0|              8564.676|                0.0|              0.0|         Jan-2013|2024-04-05 14:05:...|\n",
       "| 527598|               2398.9092|                2220.51|                 2200.0|              6819.419|                0.0|              0.0|         Jul-2011|2024-04-05 14:05:...|\n",
       "| 525697|                21797.86|                19894.9|                15750.0|             57442.758|                0.0|              0.0|         Jun-2015|2024-04-05 14:05:...|\n",
       "| 522641|               3146.8193|                3146.82|                 3000.0|               9293.64|                0.0|              0.0|         Sep-2011|2024-04-05 14:05:...|\n",
       "| 515655|               29938.576|               29905.75|                22800.0|              82644.33|                0.0|              0.0|         May-2013|2024-04-05 14:05:...|\n",
       "| 500643|                 17215.0|                   91.6|                   14.0|                   8.0|         14166.7705|              0.0|         14135.97|2024-04-05 14:05:...|\n",
       "| 501234|               15219.313|                15155.9|                12000.0|             42375.215|                0.0|              0.0|         May-2013|2024-04-05 14:05:...|\n",
       "| 498194|               11642.714|               11031.47|                10000.0|             32674.184|                0.0|              0.0|         Jan-2013|2024-04-05 14:05:...|\n",
       "| 496442|                  5982.0|                   74.8|                   23.0|                  11.0|           6813.278|              0.0|          6635.54|2024-04-05 14:05:...|\n",
       "| 495171|               11138.843|               10024.96|                10000.0|             31163.803|                0.0|              0.0|         Apr-2013|2024-04-05 14:05:...|\n",
       "| 493508|               28732.803|               28495.83|                24250.0|              81478.63|                0.0|              0.0|         Apr-2013|2024-04-05 14:05:...|\n",
       "| 485818|               14640.096|               13388.84|                13000.0|             41028.938|                0.0|              0.0|         Mar-2013|2024-04-05 14:05:...|\n",
       "| 485471|               29620.818|               29134.64|                25000.0|              83755.46|                0.0|              0.0|         Mar-2013|2024-04-05 14:05:...|\n",
       "| 482256|                8735.611|                7479.87|                 8000.0|              24215.48|                0.0|              0.0|         Feb-2011|2024-04-05 14:05:...|\n",
       "| 480240|                 17457.0|                   71.3|                   33.0|                  16.0|           14153.22|              0.0|         14153.22|2024-04-05 14:05:...|\n",
       "| 472516|               25951.482|               24731.76|                25000.0|              75683.24|                0.0|              0.0|         May-2010|2024-04-05 14:05:...|\n",
       "| 472197|                12048.13|               12018.01|                10000.0|              34066.14|                0.0|              0.0|         Jan-2013|2024-04-05 14:05:...|\n",
       "+-------+------------------------+-----------------------+-----------------------+----------------------+-------------------+-----------------+-----------------+--------------------+\n",
       "only showing top 20 rows"
      ]
     },
     "execution_count": 90,
     "metadata": {},
     "output_type": "execute_result"
    }
   ],
   "source": [
    "loans_payments_fixed2_df.filter(\"last_payment_date=0.0\")"
   ]
  },
  {
   "cell_type": "code",
   "execution_count": 92,
   "id": "0213d98c",
   "metadata": {},
   "outputs": [
    {
     "data": {
      "text/plain": [
       "48"
      ]
     },
     "execution_count": 92,
     "metadata": {},
     "output_type": "execute_result"
    }
   ],
   "source": [
    "loans_payments_fixed2_df.filter(\"last_payment_date=0.0\").count()"
   ]
  },
  {
   "cell_type": "code",
   "execution_count": 93,
   "id": "63d5454e",
   "metadata": {},
   "outputs": [
    {
     "data": {
      "text/plain": [
       "24"
      ]
     },
     "execution_count": 93,
     "metadata": {},
     "output_type": "execute_result"
    }
   ],
   "source": [
    "loans_payments_fixed2_df.filter(\"next_payment_date=0.0\").count()"
   ]
  },
  {
   "cell_type": "markdown",
   "id": "0c725d2e",
   "metadata": {},
   "source": [
    "### We want to replace all 0.0 in last_payment_date and next_payment_date to null"
   ]
  },
  {
   "cell_type": "code",
   "execution_count": 95,
   "id": "6d4ea660",
   "metadata": {},
   "outputs": [],
   "source": [
    "loans_payments_fixed3_df=loans_payments_fixed2_df.withColumn(\"last_payment_date\",\n",
    "                                   when\n",
    "                                   (\n",
    "                                       col('last_payment_amount')==0.0,None\n",
    "                                   ).otherwise\n",
    "                                   (\n",
    "                                       col('last_payment_amount')\n",
    "                                   )\n",
    "                                   )"
   ]
  },
  {
   "cell_type": "code",
   "execution_count": 97,
   "id": "39744400",
   "metadata": {},
   "outputs": [
    {
     "data": {
      "text/plain": [
       "0"
      ]
     },
     "execution_count": 97,
     "metadata": {},
     "output_type": "execute_result"
    }
   ],
   "source": [
    "loans_payments_fixed3_df.filter(\"last_payment_date=0.0\").count()"
   ]
  },
  {
   "cell_type": "code",
   "execution_count": 98,
   "id": "1de0b148",
   "metadata": {},
   "outputs": [],
   "source": [
    "loans_payments_fixed4_df=loans_payments_fixed3_df.withColumn(\"next_payment_date\",\n",
    "                                   when\n",
    "                                   (\n",
    "                                       col('next_payment_date')==0.0,None\n",
    "                                   ).otherwise\n",
    "                                   (\n",
    "                                       col('next_payment_date')\n",
    "                                   )\n",
    "                                   )"
   ]
  },
  {
   "cell_type": "code",
   "execution_count": 99,
   "id": "872d64af",
   "metadata": {},
   "outputs": [
    {
     "data": {
      "text/plain": [
       "0"
      ]
     },
     "execution_count": 99,
     "metadata": {},
     "output_type": "execute_result"
    }
   ],
   "source": [
    "loans_payments_fixed4_df.filter(\"next_payment_date=0.0\").count()"
   ]
  },
  {
   "cell_type": "code",
   "execution_count": 100,
   "id": "21dd516c",
   "metadata": {},
   "outputs": [],
   "source": [
    "loans_payments_fixed4_df.write.format(\"csv\").option(\"header\",\"true\").option(\"path\",\"/user/itv007136/lendingclubproject/cleaned/loans_repayments_csv\").save()"
   ]
  },
  {
   "cell_type": "code",
   "execution_count": 101,
   "id": "e1b4aabf",
   "metadata": {},
   "outputs": [],
   "source": [
    "loans_payments_fixed4_df.write.format(\"parquet\").option(\"header\",\"true\").option(\"path\",\"/user/itv007136/lendingclubproject/cleaned/loans_repayments_parquet\").save()"
   ]
  },
  {
   "cell_type": "code",
   "execution_count": null,
   "id": "92fa0db8",
   "metadata": {},
   "outputs": [],
   "source": []
  }
 ],
 "metadata": {
  "kernelspec": {
   "display_name": "Pyspark 3",
   "language": "python",
   "name": "pyspark3"
  },
  "language_info": {
   "codemirror_mode": {
    "name": "ipython",
    "version": 3
   },
   "file_extension": ".py",
   "mimetype": "text/x-python",
   "name": "python",
   "nbconvert_exporter": "python",
   "pygments_lexer": "ipython3",
   "version": "3.6.12"
  }
 },
 "nbformat": 4,
 "nbformat_minor": 5
}
